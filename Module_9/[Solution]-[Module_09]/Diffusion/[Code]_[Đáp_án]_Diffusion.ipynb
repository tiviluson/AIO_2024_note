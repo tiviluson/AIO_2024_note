{
 "cells": [
  {
   "cell_type": "markdown",
   "metadata": {
    "id": "TH9psqmhnPL6"
   },
   "source": [
    "### **1. Setup & Library Imports**"
   ]
  },
  {
   "cell_type": "code",
   "execution_count": 3,
   "metadata": {
    "id": "HTPgpjO8PBjp"
   },
   "outputs": [],
   "source": [
    "import torch\n",
    "import random\n",
    "import os\n",
    "import torch.nn as nn\n",
    "import torch.nn.functional as F\n",
    "import torch.optim as optim\n",
    "from torch.utils.data import DataLoader\n",
    "from torchvision import datasets, transforms\n",
    "import matplotlib.pyplot as plt\n",
    "import numpy as np\n",
    "from tqdm import tqdm\n",
    "\n",
    "seed = 43\n",
    "random.seed(seed)\n",
    "os.environ[\"PYTHONHASHSEED\"] = str(seed)\n",
    "np.random.seed(seed)\n",
    "torch.manual_seed(seed)\n",
    "torch.cuda.manual_seed(seed)\n",
    "torch.cuda.manual_seed_all(seed)\n",
    "torch.backends.cudnn.deterministic = True\n",
    "torch.backends.cudnn.benchmark = False\n",
    "\n",
    "device = torch.device(\"cuda\")"
   ]
  },
  {
   "cell_type": "markdown",
   "metadata": {
    "id": "D61vzRrLnW0n"
   },
   "source": [
    "### **2. Config hyperparameters**"
   ]
  },
  {
   "cell_type": "code",
   "execution_count": 4,
   "metadata": {
    "id": "zcK70j5VPJTi"
   },
   "outputs": [],
   "source": [
    "batch_size = 512\n",
    "latent_dim = 128\n",
    "text_embedding_dim = 10\n",
    "diffusion_steps = 1000\n",
    "beta_start = 0.0001\n",
    "beta_end = 0.01\n",
    "image_size = 28"
   ]
  },
  {
   "cell_type": "markdown",
   "metadata": {
    "id": "LIsK6HxwnhDp"
   },
   "source": [
    "### **3. Dataset Preparation**"
   ]
  },
  {
   "cell_type": "code",
   "execution_count": 5,
   "metadata": {
    "colab": {
     "base_uri": "https://localhost:8080/"
    },
    "id": "pe6rmyeJPNQQ",
    "outputId": "e553b9ce-0bf3-4978-bb65-f97318d835b5"
   },
   "outputs": [
    {
     "name": "stderr",
     "output_type": "stream",
     "text": [
      "100%|██████████| 9.91M/9.91M [00:00<00:00, 15.5MB/s]\n",
      "100%|██████████| 28.9k/28.9k [00:00<00:00, 2.40MB/s]\n",
      "100%|██████████| 1.65M/1.65M [00:00<00:00, 11.9MB/s]\n",
      "100%|██████████| 4.54k/4.54k [00:00<00:00, 4.53MB/s]\n"
     ]
    }
   ],
   "source": [
    "transform = transforms.Compose(\n",
    "    [\n",
    "        transforms.ToTensor(),\n",
    "\n",
    "    ]\n",
    ")\n",
    "\n",
    "\n",
    "train_dataset = datasets.MNIST(\n",
    "    root=\"./data\", train=True, download=True, transform=transform\n",
    ")\n",
    "\n",
    "train_loader = DataLoader(\n",
    "    train_dataset, batch_size=batch_size, shuffle=True, num_workers=2\n",
    ")\n",
    "\n",
    "\n",
    "test_dataset = datasets.MNIST(\n",
    "    root=\"./data\", train=False, download=True, transform=transform\n",
    ")\n",
    "\n",
    "test_loader = DataLoader(\n",
    "    test_dataset, batch_size=batch_size, shuffle=False, num_workers=2\n",
    ")"
   ]
  },
  {
   "cell_type": "markdown",
   "metadata": {
    "id": "OklkbYk7nlxX"
   },
   "source": [
    "## **4. Stable Diffusion**"
   ]
  },
  {
   "cell_type": "markdown",
   "metadata": {
    "id": "428768-rnwBW"
   },
   "source": [
    "### **4.1 DDPM**"
   ]
  },
  {
   "cell_type": "code",
   "execution_count": 6,
   "metadata": {
    "id": "7Tx6_T_bPpJu"
   },
   "outputs": [],
   "source": [
    "class DiffusionModel:\n",
    "    def __init__(\n",
    "        self, num_steps=diffusion_steps, beta_start=beta_start, beta_end=beta_end\n",
    "    ):\n",
    "        self.num_steps = num_steps\n",
    "        self.betas = torch.linspace(beta_start, beta_end, num_steps).to(device)\n",
    "        self.alphas = 1 - self.betas\n",
    "        self.alphas_cumprod = torch.cumprod(self.alphas, dim=0)\n",
    "        self.sqrt_alphas_cumprod = torch.sqrt(self.alphas_cumprod)\n",
    "        self.sqrt_one_minus_alphas_cumprod = torch.sqrt(1 - self.alphas_cumprod)\n",
    "\n",
    "    def forward_diffusion(self, x0, t):\n",
    "        epsilon = torch.randn_like(x0)\n",
    "\n",
    "        sqrt_alphas_cumprod_t = self.sqrt_alphas_cumprod[t].view(-1, 1)\n",
    "        sqrt_one_minus_alphas_cumprod_t = self.sqrt_one_minus_alphas_cumprod[t].view(\n",
    "            -1, 1\n",
    "        )\n",
    "\n",
    "        noisy_x = sqrt_alphas_cumprod_t * x0 + sqrt_one_minus_alphas_cumprod_t * epsilon\n",
    "        return noisy_x, epsilon\n",
    "\n",
    "    def sample_timesteps(self, batch_size):\n",
    "        return torch.randint(0, self.num_steps, (batch_size,), device=device)"
   ]
  },
  {
   "cell_type": "code",
   "execution_count": 7,
   "metadata": {
    "id": "R43YhAqPKtXO"
   },
   "outputs": [],
   "source": [
    "def visualize_noise_addition(image, label, noise_scheduler, num_steps=9):\n",
    "    image = image.to(device)\n",
    "    timesteps = (\n",
    "        torch.linspace(0, noise_scheduler.num_steps - 1, num_steps + 1)\n",
    "        .long()\n",
    "        .to(device)\n",
    "    )\n",
    "\n",
    "    fig, axes = plt.subplots(1, num_steps + 1, figsize=((num_steps + 1) * 2, 6))\n",
    "\n",
    "    axes[0].imshow(image.cpu().squeeze().numpy(), cmap=\"gray\")\n",
    "    axes[0].set_title(f\"Original\\nLabel: {label}\")\n",
    "    axes[0].axis(\"off\")\n",
    "\n",
    "    for i, t in enumerate(timesteps[1:]):\n",
    "        noisy_image, _ = noise_scheduler.forward_diffusion(image, t)\n",
    "        axes[i + 1].imshow(noisy_image.cpu().squeeze().numpy(), cmap=\"gray\")\n",
    "        axes[i + 1].set_title(f\"t={t.item()}/{noise_scheduler.num_steps - 1}\")\n",
    "        axes[i + 1].axis(\"off\")\n",
    "\n",
    "    plt.tight_layout()\n",
    "    plt.show()"
   ]
  },
  {
   "cell_type": "code",
   "execution_count": 8,
   "metadata": {
    "colab": {
     "base_uri": "https://localhost:8080/",
     "height": 263
    },
    "id": "AntqMjnaL8FE",
    "outputId": "684f2cc8-23f1-467a-c649-bd126cedd139"
   },
   "outputs": [
    {
     "data": {
      "image/png": "[encoded data removed]",
      "text/plain": [
       "<Figure size 2000x600 with 10 Axes>"
      ]
     },
     "metadata": {},
     "output_type": "display_data"
    }
   ],
   "source": [
    "noise_scheduler = DiffusionModel(\n",
    "    num_steps=diffusion_steps, beta_start=beta_start, beta_end=beta_end\n",
    ")\n",
    "\n",
    "\n",
    "images, labels = next(iter(test_loader))\n",
    "\n",
    "image, label = images[0], labels[0].item()\n",
    "\n",
    "\n",
    "visualize_noise_addition(image, label, noise_scheduler, num_steps=9)"
   ]
  },
  {
   "cell_type": "markdown",
   "metadata": {
    "id": "iYhthsJIn0Vk"
   },
   "source": [
    "### **4.2 VAE**"
   ]
  },
  {
   "cell_type": "code",
   "execution_count": 9,
   "metadata": {
    "id": "MFb5GX9bPVGs"
   },
   "outputs": [],
   "source": [
    "class VAEEncoder(nn.Module):\n",
    "    def __init__(self, latent_dim):\n",
    "        super(VAEEncoder, self).__init__()\n",
    "        self.fc1 = nn.Linear(28 * 28, 512)\n",
    "        self.fc2 = nn.Linear(512, 256)\n",
    "        self.fc_mu = nn.Linear(256, latent_dim)\n",
    "        self.fc_logvar = nn.Linear(256, latent_dim)\n",
    "\n",
    "    def forward(self, x):\n",
    "        x = x.view(x.size(0), -1)\n",
    "        x = F.relu(self.fc1(x))\n",
    "        x = F.relu(self.fc2(x))\n",
    "        mu = self.fc_mu(x)\n",
    "        logvar = self.fc_logvar(x)\n",
    "        return mu, logvar\n",
    "\n",
    "    def encode(self, x):\n",
    "        mu, logvar = self.forward(x)\n",
    "        std = torch.exp(0.5 * logvar)\n",
    "        eps = torch.randn_like(std)\n",
    "        z = mu + eps * std\n",
    "        return z\n",
    "\n",
    "\n",
    "class VAEDecoder(nn.Module):\n",
    "    def __init__(self, latent_dim):\n",
    "        super(VAEDecoder, self).__init__()\n",
    "        self.fc1 = nn.Linear(latent_dim, 256)\n",
    "        self.fc2 = nn.Linear(256, 512)\n",
    "        self.fc3 = nn.Linear(512, 28 * 28)\n",
    "\n",
    "    def forward(self, z):\n",
    "        x = F.relu(self.fc1(z))\n",
    "        x = F.relu(self.fc2(x))\n",
    "        x = torch.sigmoid(self.fc3(x))\n",
    "        x = x.view(-1, 1, 28, 28)\n",
    "        return x"
   ]
  },
  {
   "cell_type": "markdown",
   "metadata": {
    "id": "A7T6pBuVn9g5"
   },
   "source": [
    "### **4.3 Onehot Text Encoder**"
   ]
  },
  {
   "cell_type": "code",
   "execution_count": 10,
   "metadata": {
    "id": "EtOTL-pHPZTL"
   },
   "outputs": [],
   "source": [
    "class TextEmbedding(nn.Module):\n",
    "    def __init__(self, num_classes=10):\n",
    "        super(TextEmbedding, self).__init__()\n",
    "        self.num_classes = num_classes\n",
    "\n",
    "    def forward(self, digit_label):\n",
    "        one_hot = F.one_hot(digit_label, num_classes=self.num_classes).float()\n",
    "        return one_hot"
   ]
  },
  {
   "cell_type": "markdown",
   "metadata": {
    "id": "RMpr4zZLoW5w"
   },
   "source": [
    "### **4.4 UNet**"
   ]
  },
  {
   "cell_type": "code",
   "execution_count": 11,
   "metadata": {
    "id": "BECpg6ifPlgb"
   },
   "outputs": [],
   "source": [
    "class UNet(nn.Module):\n",
    "    def __init__(self, latent_dim, text_embedding_dim):\n",
    "        super(UNet, self).__init__()\n",
    "        # Combined latent + timestep + text embedding\n",
    "        combined_dim = latent_dim + 1 + text_embedding_dim\n",
    "\n",
    "        # Encoder part\n",
    "        self.enc1 = nn.Linear(latent_dim, 256)\n",
    "        self.enc2 = nn.Linear(256, 512)\n",
    "\n",
    "        # Middle part with conditioning\n",
    "        self.mid1 = nn.Linear(512 + 1 + text_embedding_dim, 512)\n",
    "        self.mid2 = nn.Linear(512, 512)\n",
    "\n",
    "        # Decoder part\n",
    "        self.dec1 = nn.Linear(512 + 512, 256)  # Skip connection from enc2\n",
    "        self.dec2 = nn.Linear(256 + 256, latent_dim)  # Skip connection from enc1\n",
    "\n",
    "    def forward(self, x, t, text_emb):\n",
    "        # x: [batch_size, latent_dim]\n",
    "        # t: [batch_size, 1] - timestep\n",
    "        # text_emb: [batch_size, text_embedding_dim]\n",
    "\n",
    "        # Encoder\n",
    "        e1 = F.relu(self.enc1(x))\n",
    "        e2 = F.relu(self.enc2(e1))\n",
    "\n",
    "        # Middle with condition\n",
    "        t_emb = t.repeat(1, 1)  # Ensure t is [batch_size, 1]\n",
    "        text_emb_expanded = text_emb  # [batch_size, text_embedding_dim]\n",
    "\n",
    "        # Concatenate in the following order: latent, time step, and text embedding\n",
    "        mid_input = torch.cat([e2, t_emb, text_emb_expanded], dim=1)\n",
    "        m1 = F.relu(self.mid1(mid_input))\n",
    "        m2 = F.relu(self.mid2(m1))\n",
    "\n",
    "        # The residual part is always appended at the end.\n",
    "        d1_input = torch.cat([m2, e2], dim=1)\n",
    "        d1 = F.relu(self.dec1(d1_input))\n",
    "\n",
    "        # The residual part is always appended at the end.\n",
    "        d2_input = torch.cat([d1, e1], dim=1)\n",
    "        d2 = self.dec2(d2_input)\n",
    "\n",
    "        return d2"
   ]
  },
  {
   "cell_type": "markdown",
   "metadata": {
    "id": "6--78dawogXe"
   },
   "source": [
    "## **5. Model Training**"
   ]
  },
  {
   "cell_type": "markdown",
   "metadata": {
    "id": "sLsJBETKKcaL"
   },
   "source": [
    "M09DF03: Giá trị loss nhỏ nhất mà mô hình Diffusion đạt được sau khi train hoàn tất là?\n",
    "\n",
    "**Trắc nghiệm**\n",
    "\n",
    "A. $\\text{Loss} < 0.55$\n",
    "\n",
    "B. $\\text{Loss} < 0.50$\n",
    "\n",
    "C. $\\text{Loss} < 0.45$\n",
    "\n",
    "D. $\\text{Loss} < 0.40$\n",
    "\n",
    "**Đáp án: C**"
   ]
  },
  {
   "cell_type": "code",
   "execution_count": 12,
   "metadata": {
    "id": "uc0y0xi7Qjqg"
   },
   "outputs": [],
   "source": [
    "encoder = VAEEncoder(latent_dim).to(device)\n",
    "decoder = VAEDecoder(latent_dim).to(device)\n",
    "\n",
    "text_embedder = TextEmbedding(num_classes=10).to(device)\n",
    "\n",
    "unet = UNet(latent_dim, text_embedding_dim).to(device)\n",
    "\n",
    "diffusion = DiffusionModel(diffusion_steps, beta_start, beta_end)\n",
    "\n",
    "vae_optimizer = optim.Adam(\n",
    "    list(encoder.parameters()) + list(decoder.parameters()), lr=3e-3\n",
    ")\n",
    "unet_optimizer = optim.Adam(unet.parameters(), lr=2e-4)"
   ]
  },
  {
   "cell_type": "code",
   "execution_count": 13,
   "metadata": {
    "id": "1nRCmraJQfqx"
   },
   "outputs": [],
   "source": [
    "def vae_loss_function(recon_x, x, mu, logvar):\n",
    "    recon_loss = F.mse_loss(recon_x, x, reduction=\"sum\")\n",
    "    kl_loss = -0.5 * torch.sum(1 + logvar - mu.pow(2) - logvar.exp())\n",
    "    return recon_loss + 0.1 * kl_loss"
   ]
  },
  {
   "cell_type": "code",
   "execution_count": 14,
   "metadata": {
    "id": "p3nRq6tNO7ar"
   },
   "outputs": [],
   "source": [
    "def train_vae(epoch):\n",
    "    encoder.train()\n",
    "    decoder.train()\n",
    "    train_loss = 0\n",
    "\n",
    "    for batch_idx, (data, _) in enumerate(\n",
    "        tqdm(train_loader, desc=f\"VAE Epoch {epoch}\")\n",
    "    ):\n",
    "        data = data.to(device)\n",
    "        vae_optimizer.zero_grad()\n",
    "\n",
    "        # Forward\n",
    "        mu, logvar = encoder(data)\n",
    "        z = encoder.encode(data)\n",
    "        recon_batch = decoder(z)\n",
    "\n",
    "        # Loss\n",
    "        loss = vae_loss_function(recon_batch, data, mu, logvar)\n",
    "\n",
    "        # Backprop\n",
    "        loss.backward()\n",
    "        vae_optimizer.step()\n",
    "\n",
    "        train_loss += loss.item()\n",
    "\n",
    "    avg_loss = train_loss / len(train_loader.dataset)\n",
    "    print(f\"VAE Training Epoch: {epoch}, Loss: {avg_loss:.6f}\")\n",
    "    return avg_loss\n",
    "\n",
    "\n",
    "def train_diffusion(epoch):\n",
    "    encoder.eval()\n",
    "    decoder.eval()\n",
    "    unet.train()\n",
    "    train_loss = 0\n",
    "\n",
    "    for batch_idx, (data, label) in enumerate(\n",
    "        tqdm(train_loader, desc=f\"Diffusion Epoch {epoch}\")\n",
    "    ):\n",
    "        data = data.to(device)\n",
    "        label = label.to(device)\n",
    "\n",
    "        # Get encoded latent\n",
    "        with torch.no_grad():\n",
    "            z = encoder.encode(data)\n",
    "\n",
    "        # Get text embedding (one-hot)\n",
    "        text_emb = text_embedder(label)\n",
    "        # 50% text_emb is empty\n",
    "        if random.random() < 0.5:\n",
    "            text_emb = torch.zeros_like(text_emb)\n",
    "\n",
    "        # Sample timestep\n",
    "        t = diffusion.sample_timesteps(data.size(0))\n",
    "        t_tensor = t.unsqueeze(1).float() / diffusion.num_steps  # Normalize to [0, 1]\n",
    "\n",
    "        # Forward diffusion to add noise\n",
    "        noisy_z, noise = diffusion.forward_diffusion(z, t)\n",
    "\n",
    "        # Predict noise with UNet\n",
    "        unet_optimizer.zero_grad()\n",
    "\n",
    "        predicted_noise = unet(noisy_z, t_tensor, text_emb)\n",
    "\n",
    "        # Loss\n",
    "        loss = F.mse_loss(predicted_noise, noise)\n",
    "\n",
    "        # Backprop\n",
    "        loss.backward()\n",
    "        unet_optimizer.step()\n",
    "\n",
    "        train_loss += loss.item()\n",
    "\n",
    "    avg_loss = train_loss / len(train_loader)\n",
    "    print(f\"Diffusion Training Epoch: {epoch}, Loss: {avg_loss:.6f}\")\n",
    "    return avg_loss"
   ]
  },
  {
   "cell_type": "code",
   "execution_count": 15,
   "metadata": {
    "colab": {
     "base_uri": "https://localhost:8080/"
    },
    "id": "ltFTaehbQ8oc",
    "outputId": "ef91befa-0d9f-461f-e16a-9fcc743fad96"
   },
   "outputs": [
    {
     "name": "stdout",
     "output_type": "stream",
     "text": [
      "Training VAE...\n"
     ]
    },
    {
     "name": "stderr",
     "output_type": "stream",
     "text": [
      "VAE Epoch 1: 100%|██████████| 118/118 [00:04<00:00, 28.86it/s]\n"
     ]
    },
    {
     "name": "stdout",
     "output_type": "stream",
     "text": [
      "VAE Training Epoch: 1, Loss: 53.394897\n"
     ]
    },
    {
     "name": "stderr",
     "output_type": "stream",
     "text": [
      "VAE Epoch 2: 100%|██████████| 118/118 [00:03<00:00, 31.21it/s]\n"
     ]
    },
    {
     "name": "stdout",
     "output_type": "stream",
     "text": [
      "VAE Training Epoch: 2, Loss: 38.796559\n"
     ]
    },
    {
     "name": "stderr",
     "output_type": "stream",
     "text": [
      "VAE Epoch 3: 100%|██████████| 118/118 [00:03<00:00, 31.16it/s]\n"
     ]
    },
    {
     "name": "stdout",
     "output_type": "stream",
     "text": [
      "VAE Training Epoch: 3, Loss: 28.532299\n"
     ]
    },
    {
     "name": "stderr",
     "output_type": "stream",
     "text": [
      "VAE Epoch 4: 100%|██████████| 118/118 [00:03<00:00, 31.48it/s]\n"
     ]
    },
    {
     "name": "stdout",
     "output_type": "stream",
     "text": [
      "VAE Training Epoch: 4, Loss: 23.837751\n"
     ]
    },
    {
     "name": "stderr",
     "output_type": "stream",
     "text": [
      "VAE Epoch 5: 100%|██████████| 118/118 [00:03<00:00, 31.29it/s]\n"
     ]
    },
    {
     "name": "stdout",
     "output_type": "stream",
     "text": [
      "VAE Training Epoch: 5, Loss: 20.863317\n"
     ]
    },
    {
     "name": "stderr",
     "output_type": "stream",
     "text": [
      "VAE Epoch 6: 100%|██████████| 118/118 [00:03<00:00, 31.23it/s]\n"
     ]
    },
    {
     "name": "stdout",
     "output_type": "stream",
     "text": [
      "VAE Training Epoch: 6, Loss: 18.896376\n"
     ]
    },
    {
     "name": "stderr",
     "output_type": "stream",
     "text": [
      "VAE Epoch 7: 100%|██████████| 118/118 [00:03<00:00, 31.39it/s]\n"
     ]
    },
    {
     "name": "stdout",
     "output_type": "stream",
     "text": [
      "VAE Training Epoch: 7, Loss: 17.645018\n"
     ]
    },
    {
     "name": "stderr",
     "output_type": "stream",
     "text": [
      "VAE Epoch 8: 100%|██████████| 118/118 [00:03<00:00, 31.11it/s]\n"
     ]
    },
    {
     "name": "stdout",
     "output_type": "stream",
     "text": [
      "VAE Training Epoch: 8, Loss: 16.689782\n"
     ]
    },
    {
     "name": "stderr",
     "output_type": "stream",
     "text": [
      "VAE Epoch 9: 100%|██████████| 118/118 [00:03<00:00, 31.17it/s]\n"
     ]
    },
    {
     "name": "stdout",
     "output_type": "stream",
     "text": [
      "VAE Training Epoch: 9, Loss: 16.001711\n"
     ]
    },
    {
     "name": "stderr",
     "output_type": "stream",
     "text": [
      "VAE Epoch 10: 100%|██████████| 118/118 [00:03<00:00, 30.33it/s]\n"
     ]
    },
    {
     "name": "stdout",
     "output_type": "stream",
     "text": [
      "VAE Training Epoch: 10, Loss: 15.452262\n",
      "\n",
      "Training Diffusion Model...\n"
     ]
    },
    {
     "name": "stderr",
     "output_type": "stream",
     "text": [
      "Diffusion Epoch 1: 100%|██████████| 118/118 [00:03<00:00, 30.42it/s]\n"
     ]
    },
    {
     "name": "stdout",
     "output_type": "stream",
     "text": [
      "Diffusion Training Epoch: 1, Loss: 0.879057\n"
     ]
    },
    {
     "name": "stderr",
     "output_type": "stream",
     "text": [
      "Diffusion Epoch 2: 100%|██████████| 118/118 [00:03<00:00, 31.46it/s]\n"
     ]
    },
    {
     "name": "stdout",
     "output_type": "stream",
     "text": [
      "Diffusion Training Epoch: 2, Loss: 0.684328\n"
     ]
    },
    {
     "name": "stderr",
     "output_type": "stream",
     "text": [
      "Diffusion Epoch 3: 100%|██████████| 118/118 [00:03<00:00, 31.26it/s]\n"
     ]
    },
    {
     "name": "stdout",
     "output_type": "stream",
     "text": [
      "Diffusion Training Epoch: 3, Loss: 0.602169\n"
     ]
    },
    {
     "name": "stderr",
     "output_type": "stream",
     "text": [
      "Diffusion Epoch 4: 100%|██████████| 118/118 [00:03<00:00, 30.74it/s]\n"
     ]
    },
    {
     "name": "stdout",
     "output_type": "stream",
     "text": [
      "Diffusion Training Epoch: 4, Loss: 0.564554\n"
     ]
    },
    {
     "name": "stderr",
     "output_type": "stream",
     "text": [
      "Diffusion Epoch 5: 100%|██████████| 118/118 [00:03<00:00, 32.44it/s]\n"
     ]
    },
    {
     "name": "stdout",
     "output_type": "stream",
     "text": [
      "Diffusion Training Epoch: 5, Loss: 0.545453\n"
     ]
    },
    {
     "name": "stderr",
     "output_type": "stream",
     "text": [
      "Diffusion Epoch 6: 100%|██████████| 118/118 [00:03<00:00, 30.54it/s]\n"
     ]
    },
    {
     "name": "stdout",
     "output_type": "stream",
     "text": [
      "Diffusion Training Epoch: 6, Loss: 0.536595\n"
     ]
    },
    {
     "name": "stderr",
     "output_type": "stream",
     "text": [
      "Diffusion Epoch 7: 100%|██████████| 118/118 [00:03<00:00, 31.48it/s]\n"
     ]
    },
    {
     "name": "stdout",
     "output_type": "stream",
     "text": [
      "Diffusion Training Epoch: 7, Loss: 0.533663\n"
     ]
    },
    {
     "name": "stderr",
     "output_type": "stream",
     "text": [
      "Diffusion Epoch 8: 100%|██████████| 118/118 [00:03<00:00, 31.50it/s]\n"
     ]
    },
    {
     "name": "stdout",
     "output_type": "stream",
     "text": [
      "Diffusion Training Epoch: 8, Loss: 0.528264\n"
     ]
    },
    {
     "name": "stderr",
     "output_type": "stream",
     "text": [
      "Diffusion Epoch 9: 100%|██████████| 118/118 [00:03<00:00, 31.82it/s]\n"
     ]
    },
    {
     "name": "stdout",
     "output_type": "stream",
     "text": [
      "Diffusion Training Epoch: 9, Loss: 0.526240\n"
     ]
    },
    {
     "name": "stderr",
     "output_type": "stream",
     "text": [
      "Diffusion Epoch 10: 100%|██████████| 118/118 [00:03<00:00, 30.78it/s]\n"
     ]
    },
    {
     "name": "stdout",
     "output_type": "stream",
     "text": [
      "Diffusion Training Epoch: 10, Loss: 0.519186\n"
     ]
    },
    {
     "name": "stderr",
     "output_type": "stream",
     "text": [
      "Diffusion Epoch 11: 100%|██████████| 118/118 [00:03<00:00, 30.86it/s]\n"
     ]
    },
    {
     "name": "stdout",
     "output_type": "stream",
     "text": [
      "Diffusion Training Epoch: 11, Loss: 0.513357\n"
     ]
    },
    {
     "name": "stderr",
     "output_type": "stream",
     "text": [
      "Diffusion Epoch 12: 100%|██████████| 118/118 [00:03<00:00, 31.53it/s]\n"
     ]
    },
    {
     "name": "stdout",
     "output_type": "stream",
     "text": [
      "Diffusion Training Epoch: 12, Loss: 0.501650\n"
     ]
    },
    {
     "name": "stderr",
     "output_type": "stream",
     "text": [
      "Diffusion Epoch 13: 100%|██████████| 118/118 [00:03<00:00, 31.28it/s]\n"
     ]
    },
    {
     "name": "stdout",
     "output_type": "stream",
     "text": [
      "Diffusion Training Epoch: 13, Loss: 0.484454\n"
     ]
    },
    {
     "name": "stderr",
     "output_type": "stream",
     "text": [
      "Diffusion Epoch 14: 100%|██████████| 118/118 [00:03<00:00, 31.53it/s]\n"
     ]
    },
    {
     "name": "stdout",
     "output_type": "stream",
     "text": [
      "Diffusion Training Epoch: 14, Loss: 0.476959\n"
     ]
    },
    {
     "name": "stderr",
     "output_type": "stream",
     "text": [
      "Diffusion Epoch 15: 100%|██████████| 118/118 [00:03<00:00, 31.41it/s]\n"
     ]
    },
    {
     "name": "stdout",
     "output_type": "stream",
     "text": [
      "Diffusion Training Epoch: 15, Loss: 0.472017\n"
     ]
    },
    {
     "name": "stderr",
     "output_type": "stream",
     "text": [
      "Diffusion Epoch 16: 100%|██████████| 118/118 [00:03<00:00, 31.19it/s]\n"
     ]
    },
    {
     "name": "stdout",
     "output_type": "stream",
     "text": [
      "Diffusion Training Epoch: 16, Loss: 0.464854\n"
     ]
    },
    {
     "name": "stderr",
     "output_type": "stream",
     "text": [
      "Diffusion Epoch 17: 100%|██████████| 118/118 [00:03<00:00, 31.30it/s]\n"
     ]
    },
    {
     "name": "stdout",
     "output_type": "stream",
     "text": [
      "Diffusion Training Epoch: 17, Loss: 0.461452\n"
     ]
    },
    {
     "name": "stderr",
     "output_type": "stream",
     "text": [
      "Diffusion Epoch 18: 100%|██████████| 118/118 [00:03<00:00, 31.51it/s]\n"
     ]
    },
    {
     "name": "stdout",
     "output_type": "stream",
     "text": [
      "Diffusion Training Epoch: 18, Loss: 0.456213\n"
     ]
    },
    {
     "name": "stderr",
     "output_type": "stream",
     "text": [
      "Diffusion Epoch 19: 100%|██████████| 118/118 [00:03<00:00, 31.47it/s]\n"
     ]
    },
    {
     "name": "stdout",
     "output_type": "stream",
     "text": [
      "Diffusion Training Epoch: 19, Loss: 0.453797\n"
     ]
    },
    {
     "name": "stderr",
     "output_type": "stream",
     "text": [
      "Diffusion Epoch 20: 100%|██████████| 118/118 [00:03<00:00, 31.53it/s]"
     ]
    },
    {
     "name": "stdout",
     "output_type": "stream",
     "text": [
      "Diffusion Training Epoch: 20, Loss: 0.448302\n"
     ]
    },
    {
     "name": "stderr",
     "output_type": "stream",
     "text": [
      "\n"
     ]
    }
   ],
   "source": [
    "print(\"Training VAE...\")\n",
    "for epoch in range(1, 11):  # 10 epochs\n",
    "    train_vae(epoch)\n",
    "\n",
    "print(\"\\nTraining Diffusion Model...\")\n",
    "for epoch in range(1, 21):  # 20 epochs\n",
    "    train_diffusion(epoch)"
   ]
  },
  {
   "cell_type": "markdown",
   "metadata": {
    "id": "woA16ZXwpAM3"
   },
   "source": [
    "## **6. Number Generation**"
   ]
  },
  {
   "cell_type": "markdown",
   "metadata": {
    "id": "1wClbBZ-KFho"
   },
   "source": [
    "M09DF04: Có bao nhiêu hình chứa số được sinh ra mà ĐÚNG với prompt (Digit) yêu cầu?\n",
    "\n",
    "A. 2\n",
    "\n",
    "B. 3\n",
    "\n",
    "C. 4\n",
    "\n",
    "D. 5\n",
    "\n",
    "**Đáp án: A**"
   ]
  },
  {
   "cell_type": "code",
   "execution_count": 16,
   "metadata": {
    "id": "K9bcz4Mcl03R"
   },
   "outputs": [],
   "source": [
    "@torch.no_grad()\n",
    "def sample_diffusion(cfg_scale=7.5):\n",
    "    encoder.eval()\n",
    "    decoder.eval()\n",
    "    unet.eval()\n",
    "\n",
    "    labels = torch.randint(0, 10, (1,), device=device)\n",
    "    text_emb = text_embedder(labels)\n",
    "    z = torch.randn(1, latent_dim).to(device)\n",
    "\n",
    "    for t in tqdm(range(diffusion.num_steps - 1, -1, -1)):\n",
    "        # t = diffusion.sample_timesteps(1)\n",
    "        t = torch.tensor([t], device=device)\n",
    "        t_tensor = t.unsqueeze(1).float() / diffusion.num_steps\n",
    "\n",
    "        predicted_noise = unet(z, t_tensor, text_emb)\n",
    "        predicted_noise_uncond = unet(z, t_tensor, torch.zeros_like(text_emb))\n",
    "        predicted_noise = predicted_noise_uncond + cfg_scale * (\n",
    "            predicted_noise - predicted_noise_uncond\n",
    "        )\n",
    "\n",
    "        if t > 0:\n",
    "            noise = torch.randn_like(z)\n",
    "        else:\n",
    "            noise = torch.zeros_like(z)\n",
    "\n",
    "        alpha = diffusion.alphas[t]\n",
    "        alpha_cumprod = diffusion.alphas_cumprod[t]\n",
    "        beta = diffusion.betas[t]\n",
    "\n",
    "        if t > 0:\n",
    "            alpha_cumprod_prev = diffusion.alphas_cumprod[t - 1]\n",
    "        else:\n",
    "            alpha_cumprod_prev = torch.ones_like(alpha_cumprod)\n",
    "\n",
    "        z = (1 / torch.sqrt(alpha)) * (\n",
    "            z - ((1 - alpha) / torch.sqrt(1 - alpha_cumprod)) * predicted_noise\n",
    "        )\n",
    "\n",
    "        # Variance = Beta\n",
    "        if t > 0:\n",
    "            z = z + torch.sqrt(beta) * noise\n",
    "\n",
    "    samples = decoder(z)\n",
    "\n",
    "    return samples, labels"
   ]
  },
  {
   "cell_type": "code",
   "execution_count": 17,
   "metadata": {
    "colab": {
     "base_uri": "https://localhost:8080/",
     "height": 363
    },
    "id": "_jYntAmZgYsZ",
    "outputId": "a46d3ba8-eb22-461c-b3f2-8bfe70f328a2"
   },
   "outputs": [
    {
     "name": "stderr",
     "output_type": "stream",
     "text": [
      "100%|██████████| 1000/1000 [00:01<00:00, 779.24it/s]\n",
      "100%|██████████| 1000/1000 [00:01<00:00, 930.90it/s]\n",
      "100%|██████████| 1000/1000 [00:01<00:00, 892.63it/s]\n",
      "100%|██████████| 1000/1000 [00:01<00:00, 918.85it/s]\n",
      "100%|██████████| 1000/1000 [00:01<00:00, 975.27it/s]\n",
      "100%|██████████| 1000/1000 [00:00<00:00, 1023.88it/s]\n",
      "100%|██████████| 1000/1000 [00:01<00:00, 987.66it/s]\n",
      "100%|██████████| 1000/1000 [00:01<00:00, 929.01it/s]\n",
      "100%|██████████| 1000/1000 [00:01<00:00, 911.73it/s]\n",
      "100%|██████████| 1000/1000 [00:01<00:00, 901.46it/s]\n"
     ]
    },
    {
     "data": {
      "image/png": "[encoded data removed]",
      "text/plain": [
       "<Figure size 1000x2000 with 10 Axes>"
      ]
     },
     "metadata": {},
     "output_type": "display_data"
    }
   ],
   "source": [
    "# Generate samples for each digit\n",
    "all_samples = []\n",
    "all_labels = []\n",
    "\n",
    "for digit in range(10):\n",
    "    labels = [digit]\n",
    "    samples, _ = sample_diffusion()\n",
    "    all_samples.append(samples)\n",
    "    all_labels.extend(labels)\n",
    "all_samples = torch.cat(all_samples, dim=0)\n",
    "\n",
    "fig, axes = plt.subplots(1, 10, figsize=(10, 20))\n",
    "for i, (sample, label) in enumerate(zip(all_samples, all_labels)):\n",
    "    axes[i].imshow(sample.cpu().squeeze().numpy(), cmap=\"gray\")\n",
    "    axes[i].set_title(f\"Digit: {label}\")\n",
    "    axes[i].axis(\"off\")\n",
    "\n",
    "plt.tight_layout()\n",
    "plt.show()"
   ]
  }
 ],
 "metadata": {
  "accelerator": "GPU",
  "colab": {
   "gpuType": "T4",
   "provenance": [],
   "toc_visible": true
  },
  "kernelspec": {
   "display_name": "deeplearning",
   "language": "python",
   "name": "python3"
  },
  "language_info": {
   "codemirror_mode": {
    "name": "ipython",
    "version": 3
   },
   "file_extension": ".py",
   "mimetype": "text/x-python",
   "name": "python",
   "nbconvert_exporter": "python",
   "pygments_lexer": "ipython3",
   "version": "3.11.11"
  }
 },
 "nbformat": 4,
 "nbformat_minor": 0
}
