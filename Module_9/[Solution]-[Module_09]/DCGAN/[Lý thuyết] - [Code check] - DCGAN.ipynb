{
 "cells": [
  {
   "cell_type": "code",
   "execution_count": 2,
   "metadata": {
    "executionInfo": {
     "elapsed": 5487,
     "status": "ok",
     "timestamp": 1744538283221,
     "user": {
      "displayName": "Nha Nguyen",
      "userId": "05581690424976052134"
     },
     "user_tz": -420
    },
    "id": "JOvaMDFrfsae"
   },
   "outputs": [],
   "source": [
    "import torch\n",
    "import torch.nn as nn\n",
    "import torch.nn.functional as F"
   ]
  },
  {
   "cell_type": "code",
   "execution_count": 3,
   "metadata": {
    "executionInfo": {
     "elapsed": 8,
     "status": "ok",
     "timestamp": 1744538283247,
     "user": {
      "displayName": "Nha Nguyen",
      "userId": "05581690424976052134"
     },
     "user_tz": -420
    },
    "id": "0Jyf0aRDf2Vi"
   },
   "outputs": [],
   "source": [
    "torch.manual_seed(42)\n",
    "torch.cuda.manual_seed(42)\n",
    "torch.backends.cudnn.deterministic = True\n",
    "torch.backends.cudnn.benchmark = False"
   ]
  },
  {
   "cell_type": "markdown",
   "metadata": {
    "id": "DXrXOzETT1nt"
   },
   "source": [
    "# Original Architecture"
   ]
  },
  {
   "cell_type": "code",
   "execution_count": 4,
   "metadata": {
    "executionInfo": {
     "elapsed": 1,
     "status": "ok",
     "timestamp": 1744538283250,
     "user": {
      "displayName": "Nha Nguyen",
      "userId": "05581690424976052134"
     },
     "user_tz": -420
    },
    "id": "zmXL_qZqgmII"
   },
   "outputs": [],
   "source": [
    "# Generator\n",
    "class Generator(nn.Module):\n",
    "    def __init__(self, nz=3):  # nz: latent vector size\n",
    "        super(Generator, self).__init__()\n",
    "        self.main = nn.Sequential(\n",
    "            # Layer 1: 1x1x3 -> 2x2x1\n",
    "            nn.ConvTranspose2d(nz, 1, kernel_size=2, stride=2, padding=0, bias=0.1),\n",
    "            nn.BatchNorm2d(1),\n",
    "            nn.ReLU(True),\n",
    "            # Layer 2: 2x2x1 -> 4x4x1\n",
    "            nn.ConvTranspose2d(1, 1, kernel_size=2, stride=2, padding=0, bias=0.1),\n",
    "            nn.BatchNorm2d(1),\n",
    "            nn.ReLU(True),\n",
    "            # Layer 3: 4x4x1 -> 8x8x1\n",
    "            nn.ConvTranspose2d(1, 1, kernel_size=2, stride=2, padding=0, bias=0.1),\n",
    "            nn.Tanh()\n",
    "        )\n",
    "\n",
    "    def forward(self, x):\n",
    "        return self.main(x)"
   ]
  },
  {
   "cell_type": "code",
   "execution_count": 5,
   "metadata": {
    "executionInfo": {
     "elapsed": 2,
     "status": "ok",
     "timestamp": 1744538283253,
     "user": {
      "displayName": "Nha Nguyen",
      "userId": "05581690424976052134"
     },
     "user_tz": -420
    },
    "id": "GjUsOi2pgpgX"
   },
   "outputs": [],
   "source": [
    "# Discriminator\n",
    "class Discriminator(nn.Module):\n",
    "    def __init__(self):\n",
    "        super(Discriminator, self).__init__()\n",
    "        self.main = nn.Sequential(\n",
    "            # Layer 1: 8x8x1 -> 4x4x1\n",
    "            nn.Conv2d(1, 1, kernel_size=2, stride=2, padding=0, bias=0.1),\n",
    "            nn.ReLU(True),\n",
    "            # Layer 2: 4x4x1 -> 2x2x1\n",
    "            nn.Conv2d(1, 1, kernel_size=2, stride=2, padding=0, bias=0.1),\n",
    "            nn.BatchNorm2d(1),\n",
    "            nn.ReLU(True)\n",
    "        )\n",
    "        # Final layer: 2x2x1 -> 1\n",
    "        self.fc = nn.Sequential(\n",
    "            nn.Flatten(),\n",
    "            nn.Linear(1 * 2 * 2, 1),\n",
    "            nn.Sigmoid()\n",
    "        )\n",
    "\n",
    "    def forward(self, x):\n",
    "        x = self.main(x)\n",
    "        print(x.shape)\n",
    "        return self.fc(x)"
   ]
  },
  {
   "cell_type": "markdown",
   "metadata": {
    "id": "RKMhMhjGT40i"
   },
   "source": [
    "# Architecture with detail print"
   ]
  },
  {
   "cell_type": "code",
   "execution_count": 17,
   "metadata": {
    "executionInfo": {
     "elapsed": 10,
     "status": "ok",
     "timestamp": 1744538308606,
     "user": {
      "displayName": "Nha Nguyen",
      "userId": "05581690424976052134"
     },
     "user_tz": -420
    },
    "id": "C2M_RZgWT_6R"
   },
   "outputs": [],
   "source": [
    "class Generator(nn.Module):\n",
    "    def __init__(self, nz=3):\n",
    "        super(Generator, self).__init__()\n",
    "        self.layer1 = nn.ConvTranspose2d(nz, 1, kernel_size=2, stride=2, padding=0, bias=False)\n",
    "        self.bn1 = nn.BatchNorm2d(1)\n",
    "        self.layer2 = nn.ConvTranspose2d(1, 1, kernel_size=2, stride=2, padding=0, bias=False)\n",
    "        self.bn2 = nn.BatchNorm2d(1)\n",
    "        self.layer3 = nn.ConvTranspose2d(1, 1, kernel_size=2, stride=2, padding=0, bias=False)\n",
    "        self.tanh = nn.Tanh()\n",
    "\n",
    "    def forward(self, x):\n",
    "        print(f\"Input Shape: {x.shape}\")\n",
    "        print(f\"Input: {x}\")\n",
    "\n",
    "        x = self.layer1(x)\n",
    "        print(f\"Layer1 kernel: {self.layer1.weight.data}, Output: {x}, Shape: {x.shape}\")\n",
    "        x = self.bn1(x)\n",
    "        x = F.relu(x)\n",
    "\n",
    "        x = self.layer2(x)\n",
    "        x = self.bn2(x)\n",
    "        x = F.relu(x)\n",
    "\n",
    "        x = self.layer3(x)\n",
    "        x = self.tanh(x)\n",
    "\n",
    "        return x"
   ]
  },
  {
   "cell_type": "code",
   "execution_count": 18,
   "metadata": {
    "executionInfo": {
     "elapsed": 14,
     "status": "ok",
     "timestamp": 1744538309087,
     "user": {
      "displayName": "Nha Nguyen",
      "userId": "05581690424976052134"
     },
     "user_tz": -420
    },
    "id": "_BrmQODkT_8x"
   },
   "outputs": [],
   "source": [
    "class Discriminator(nn.Module):\n",
    "    def __init__(self):\n",
    "        super(Discriminator, self).__init__()\n",
    "        self.layer1 = nn.Conv2d(1, 1, kernel_size=2, stride=2, padding=0, bias=False)\n",
    "        self.layer2 = nn.Conv2d(1, 1, kernel_size=2, stride=2, padding=0, bias=False)\n",
    "        self.bn2 = nn.BatchNorm2d(1)\n",
    "        self.flatten = nn.Flatten()\n",
    "        self.fc = nn.Linear(1 * 2 * 2, 1)\n",
    "        self.sigmoid = nn.Sigmoid()\n",
    "\n",
    "    def forward(self, x):\n",
    "        print(f\"Input: {x.shape}\")\n",
    "\n",
    "        x = self.layer1(x)\n",
    "        x = F.relu(x)\n",
    "\n",
    "        x = self.layer2(x)\n",
    "        print(f\"Layer2 kernel: {self.layer2.weight.data}, Output: {x}:.2f\")\n",
    "        x = self.bn2(x)\n",
    "        print(f\"BN2 Output: {x}\")\n",
    "        x = F.relu(x)\n",
    "\n",
    "        x = self.flatten(x)\n",
    "        print(f\"Flattened: {x.shape}\")\n",
    "\n",
    "        x = self.fc(x)\n",
    "        print(f\"FC Output: {x.shape}\")\n",
    "        x = self.sigmoid(x)\n",
    "        return x"
   ]
  },
  {
   "cell_type": "code",
   "execution_count": 22,
   "metadata": {
    "executionInfo": {
     "elapsed": 9,
     "status": "ok",
     "timestamp": 1744538314921,
     "user": {
      "displayName": "Nha Nguyen",
      "userId": "05581690424976052134"
     },
     "user_tz": -420
    },
    "id": "ySutYNnggscA"
   },
   "outputs": [],
   "source": [
    "# Initialize models\n",
    "generator = Generator()\n",
    "discriminator = Discriminator()"
   ]
  },
  {
   "cell_type": "code",
   "execution_count": 26,
   "metadata": {
    "colab": {
     "base_uri": "https://localhost:8080/"
    },
    "executionInfo": {
     "elapsed": 15,
     "status": "ok",
     "timestamp": 1744538458879,
     "user": {
      "displayName": "Nha Nguyen",
      "userId": "05581690424976052134"
     },
     "user_tz": -420
    },
    "id": "kkM3sfrqlp1x",
    "outputId": "3b43b880-0283-4623-b3dd-8d649da69587"
   },
   "outputs": [
    {
     "data": {
      "text/plain": [
       "tensor([[[[ 0.2900, -0.3900],\n",
       "          [-0.2500,  0.1500]]],\n",
       "\n",
       "\n",
       "        [[[ 0.1100, -0.1300],\n",
       "          [ 0.3000,  0.3400]]],\n",
       "\n",
       "\n",
       "        [[[-0.3600, -0.2700],\n",
       "          [ 0.4600, -0.1700]]]])"
      ]
     },
     "execution_count": 26,
     "metadata": {},
     "output_type": "execute_result"
    }
   ],
   "source": [
    "weight_tensor = torch.tensor([[[[ 0.29, -0.39],\n",
    "                                [-0.25,  0.15]]],\n",
    "                             [[[ 0.11, -0.13],\n",
    "                               [ 0.30,  0.34]]],\n",
    "                             [[[-0.36, -0.27],\n",
    "                               [ 0.46, -0.17]]]])\n",
    "\n",
    "generator.layer1.weight.data = weight_tensor\n",
    "generator.layer1.weight.data"
   ]
  },
  {
   "cell_type": "code",
   "execution_count": 27,
   "metadata": {
    "colab": {
     "base_uri": "https://localhost:8080/"
    },
    "executionInfo": {
     "elapsed": 9,
     "status": "ok",
     "timestamp": 1744538460200,
     "user": {
      "displayName": "Nha Nguyen",
      "userId": "05581690424976052134"
     },
     "user_tz": -420
    },
    "id": "v0tKoN1XRUck",
    "outputId": "c44ab534-1b98-4bfc-e26a-042fc9f27b41"
   },
   "outputs": [
    {
     "name": "stdout",
     "output_type": "stream",
     "text": [
      "tensor([[[[0.3400]],\n",
      "\n",
      "         [[0.1300]],\n",
      "\n",
      "         [[0.2300]]]])\n"
     ]
    }
   ],
   "source": [
    "z = torch.tensor([[[[0.34]],\n",
    "                   [[0.13]],\n",
    "                   [[0.23]]]])\n",
    "print(z)"
   ]
  },
  {
   "cell_type": "code",
   "execution_count": 28,
   "metadata": {
    "colab": {
     "base_uri": "https://localhost:8080/"
    },
    "executionInfo": {
     "elapsed": 5,
     "status": "ok",
     "timestamp": 1744538461036,
     "user": {
      "displayName": "Nha Nguyen",
      "userId": "05581690424976052134"
     },
     "user_tz": -420
    },
    "id": "95vnQAr6QVWH",
    "outputId": "ac001f31-703c-488c-bbe4-574816b286be"
   },
   "outputs": [
    {
     "name": "stdout",
     "output_type": "stream",
     "text": [
      "Input Shape: torch.Size([1, 3, 1, 1])\n",
      "Input: tensor([[[[0.3400]],\n",
      "\n",
      "         [[0.1300]],\n",
      "\n",
      "         [[0.2300]]]])\n",
      "Layer1 kernel: tensor([[[[ 0.2900, -0.3900],\n",
      "          [-0.2500,  0.1500]]],\n",
      "\n",
      "\n",
      "        [[[ 0.1100, -0.1300],\n",
      "          [ 0.3000,  0.3400]]],\n",
      "\n",
      "\n",
      "        [[[-0.3600, -0.2700],\n",
      "          [ 0.4600, -0.1700]]]]), Output: tensor([[[[ 0.0301, -0.2116],\n",
      "          [ 0.0598,  0.0561]]]], grad_fn=<ConvolutionBackward0>), Shape: torch.Size([1, 1, 2, 2])\n"
     ]
    }
   ],
   "source": [
    "# Test generator\n",
    "fake_img = generator(z)"
   ]
  },
  {
   "cell_type": "code",
   "execution_count": null,
   "metadata": {
    "colab": {
     "base_uri": "https://localhost:8080/"
    },
    "executionInfo": {
     "elapsed": 39,
     "status": "ok",
     "timestamp": 1744454915291,
     "user": {
      "displayName": "Nha Nguyen",
      "userId": "05581690424976052134"
     },
     "user_tz": -420
    },
    "id": "v0wfV7kDfAfH",
    "outputId": "606a6d5d-21bc-4828-9418-759db1c18f00"
   },
   "outputs": [
    {
     "data": {
      "text/plain": [
       "tensor([[[[ 0.0000,  0.0000, -0.6639, -0.3132, -0.0463, -0.0188, -0.0463,\n",
       "           -0.0188],\n",
       "          [ 0.0000,  0.0000, -0.4090, -0.3230, -0.0251, -0.0194, -0.0251,\n",
       "           -0.0194],\n",
       "          [-0.3481, -0.1462,  0.0000,  0.0000, -0.0463, -0.0188, -0.0463,\n",
       "           -0.0188],\n",
       "          [-0.1948, -0.1510,  0.0000,  0.0000, -0.0251, -0.0194, -0.0251,\n",
       "           -0.0194],\n",
       "          [-0.0463, -0.0188, -0.0463, -0.0188,  0.0000,  0.0000, -0.3980,\n",
       "           -0.1691],\n",
       "          [-0.0251, -0.0194, -0.0251, -0.0194,  0.0000,  0.0000, -0.2249,\n",
       "           -0.1746],\n",
       "          [-0.0463, -0.0188, -0.0463, -0.0188, -0.2012, -0.0825,  0.0000,\n",
       "            0.0000],\n",
       "          [-0.0251, -0.0194, -0.0251, -0.0194, -0.1104, -0.0853,  0.0000,\n",
       "            0.0000]]]], grad_fn=<TanhBackward0>)"
      ]
     },
     "execution_count": 122,
     "metadata": {},
     "output_type": "execute_result"
    }
   ],
   "source": [
    "fake_img"
   ]
  },
  {
   "cell_type": "code",
   "execution_count": 30,
   "metadata": {
    "executionInfo": {
     "elapsed": 4,
     "status": "ok",
     "timestamp": 1744538711679,
     "user": {
      "displayName": "Nha Nguyen",
      "userId": "05581690424976052134"
     },
     "user_tz": -420
    },
    "id": "9LiuEQe5gv1p"
   },
   "outputs": [],
   "source": [
    "# Test discriminator\n",
    "img = torch.tensor([[[[-0.01,  0.85, -0.85, -1.40,  0.17, -0.22,  0.71, 0.34],\n",
    "                      [-0.69,  1.43,  0.23, -1.13,  1.12, -0.28,  0.05, 0.42],\n",
    "                      [-0.10,  0.91, -0.37, -0.02,  0.03,  0.82, -0.89, 1.48],\n",
    "                      [ 0.29,  0.18, -0.79,  1.30, -1.02, -1.41, -2.36, -0.29],\n",
    "                      [-1.58, -1.34,  0.47, -2.29,  0.77, -0.55, -2.16, -1.66],\n",
    "                      [-2.21, -0.27,  0.26,  0.78, -0.10, -0.56, -0.59, 1.27],\n",
    "                      [ 0.35,  0.69,  1.20,  1.40, -0.71,  1.41, -1.31, -1.32],\n",
    "                      [-0.82, -1.65, -0.28, -1.24,  0.74,  0.74, -0.85, 0.04]]]])"
   ]
  },
  {
   "cell_type": "code",
   "execution_count": 31,
   "metadata": {
    "colab": {
     "base_uri": "https://localhost:8080/"
    },
    "executionInfo": {
     "elapsed": 13,
     "status": "ok",
     "timestamp": 1744538711939,
     "user": {
      "displayName": "Nha Nguyen",
      "userId": "05581690424976052134"
     },
     "user_tz": -420
    },
    "id": "Ks9sMnO2jPiv",
    "outputId": "cdf7755b-ac28-40de-9f62-5b1d3233a2b7"
   },
   "outputs": [
    {
     "name": "stdout",
     "output_type": "stream",
     "text": [
      "Shape of concatenated image: torch.Size([2, 1, 8, 8])\n"
     ]
    }
   ],
   "source": [
    "concatenated_img = torch.cat((img, fake_img), dim=0)\n",
    "print(f\"Shape of concatenated image: {concatenated_img.shape}\")"
   ]
  },
  {
   "cell_type": "code",
   "execution_count": 32,
   "metadata": {
    "colab": {
     "base_uri": "https://localhost:8080/"
    },
    "executionInfo": {
     "elapsed": 113,
     "status": "ok",
     "timestamp": 1744538712323,
     "user": {
      "displayName": "Nha Nguyen",
      "userId": "05581690424976052134"
     },
     "user_tz": -420
    },
    "id": "rSYJMpJBmrMF",
    "outputId": "50e36c24-6e17-418b-b7b9-bb4b1ffcaaaf"
   },
   "outputs": [
    {
     "name": "stdout",
     "output_type": "stream",
     "text": [
      "Input: torch.Size([2, 1, 8, 8])\n",
      "Layer2 kernel: tensor([[[[-0.3388, -0.3432],\n",
      "          [-0.2917, -0.1711]]]]), Output: tensor([[[[-0.1499, -0.1901],\n",
      "          [-0.3330, -0.3522]]],\n",
      "\n",
      "\n",
      "        [[[-0.0726, -0.0665],\n",
      "          [-0.0925, -0.0901]]]], grad_fn=<ConvolutionBackward0>):.2f\n",
      "BN2 Output: tensor([[[[ 0.1710, -0.2015],\n",
      "          [-1.5249, -1.7032]]],\n",
      "\n",
      "\n",
      "        [[[ 0.8871,  0.9440],\n",
      "          [ 0.7025,  0.7250]]]], grad_fn=<NativeBatchNormBackward0>)\n",
      "Flattened: torch.Size([2, 4])\n",
      "FC Output: torch.Size([2, 1])\n",
      "Discriminator output: tensor([[0.5221],\n",
      "        [0.6091]], grad_fn=<SigmoidBackward0>)\n"
     ]
    }
   ],
   "source": [
    "disc_output = discriminator(concatenated_img)\n",
    "print(\"Discriminator output:\", disc_output)"
   ]
  },
  {
   "cell_type": "code",
   "execution_count": 54,
   "metadata": {
    "executionInfo": {
     "elapsed": 9,
     "status": "ok",
     "timestamp": 1744539643105,
     "user": {
      "displayName": "Nha Nguyen",
      "userId": "05581690424976052134"
     },
     "user_tz": -420
    },
    "id": "wUXa9d-8i3qF"
   },
   "outputs": [],
   "source": [
    "# Code lỡ random -> thử batch norm bình thường"
   ]
  },
  {
   "cell_type": "code",
   "execution_count": 55,
   "metadata": {
    "executionInfo": {
     "elapsed": 6,
     "status": "ok",
     "timestamp": 1744539643589,
     "user": {
      "displayName": "Nha Nguyen",
      "userId": "05581690424976052134"
     },
     "user_tz": -420
    },
    "id": "QQiGom9roU5L"
   },
   "outputs": [],
   "source": [
    "features = torch.tensor([[[[-0.1006, -0.2878],\n",
    "                           [-0.0911, -0.3519]]],\n",
    "                          [[[-0.3866, -0.0330],\n",
    "                           [-0.3028, -0.7197]]]])\n",
    "bn = nn.BatchNorm2d(1)"
   ]
  },
  {
   "cell_type": "code",
   "execution_count": 56,
   "metadata": {
    "colab": {
     "base_uri": "https://localhost:8080/"
    },
    "executionInfo": {
     "elapsed": 13,
     "status": "ok",
     "timestamp": 1744539644113,
     "user": {
      "displayName": "Nha Nguyen",
      "userId": "05581690424976052134"
     },
     "user_tz": -420
    },
    "id": "ThqKvXIjojjB",
    "outputId": "4752ce60-be7d-4662-ccf3-f39aaac37ada"
   },
   "outputs": [
    {
     "data": {
      "text/plain": [
       "tensor([[[[ 0.8915, -0.0175],\n",
       "          [ 0.9376, -0.3288]]],\n",
       "\n",
       "\n",
       "        [[[-0.4973,  1.2198],\n",
       "          [-0.0904, -2.1148]]]], grad_fn=<NativeBatchNormBackward0>)"
      ]
     },
     "execution_count": 56,
     "metadata": {},
     "output_type": "execute_result"
    }
   ],
   "source": [
    "bn(features)"
   ]
  },
  {
   "cell_type": "code",
   "execution_count": null,
   "metadata": {
    "executionInfo": {
     "elapsed": 1,
     "status": "ok",
     "timestamp": 1744539640515,
     "user": {
      "displayName": "Nha Nguyen",
      "userId": "05581690424976052134"
     },
     "user_tz": -420
    },
    "id": "yhRDOFVFop2c"
   },
   "outputs": [],
   "source": []
  }
 ],
 "metadata": {
  "colab": {
   "authorship_tag": "ABX9TyMxoHecW9KSn4gnz62WGJu4",
   "provenance": []
  },
  "kernelspec": {
   "display_name": "Python 3",
   "name": "python3"
  },
  "language_info": {
   "name": "python"
  }
 },
 "nbformat": 4,
 "nbformat_minor": 0
}
