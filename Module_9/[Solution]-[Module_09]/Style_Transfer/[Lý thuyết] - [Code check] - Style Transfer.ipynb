{
 "cells": [
  {
   "cell_type": "code",
   "execution_count": 1,
   "metadata": {
    "executionInfo": {
     "elapsed": 43,
     "status": "ok",
     "timestamp": 1744463453190,
     "user": {
      "displayName": "Nha Nguyen",
      "userId": "05581690424976052134"
     },
     "user_tz": -420
    },
    "id": "JOvaMDFrfsae"
   },
   "outputs": [],
   "source": [
    "import torch\n",
    "import torch.nn.functional as F"
   ]
  },
  {
   "cell_type": "code",
   "execution_count": 2,
   "metadata": {
    "colab": {
     "base_uri": "https://localhost:8080/"
    },
    "executionInfo": {
     "elapsed": 11,
     "status": "ok",
     "timestamp": 1744463453336,
     "user": {
      "displayName": "Nha Nguyen",
      "userId": "05581690424976052134"
     },
     "user_tz": -420
    },
    "id": "0Jyf0aRDf2Vi",
    "outputId": "97f42b69-6646-4a37-9a20-69995e6a0c6e"
   },
   "outputs": [
    {
     "data": {
      "text/plain": [
       "<torch._C.Generator at 0x2cefeeed4d0>"
      ]
     },
     "execution_count": 2,
     "metadata": {},
     "output_type": "execute_result"
    }
   ],
   "source": [
    "torch.manual_seed(42)"
   ]
  },
  {
   "cell_type": "markdown",
   "metadata": {
    "id": "wL9mtDd3-9Tn"
   },
   "source": [
    "# Input"
   ]
  },
  {
   "cell_type": "code",
   "execution_count": 3,
   "metadata": {
    "executionInfo": {
     "elapsed": 39,
     "status": "ok",
     "timestamp": 1744463453682,
     "user": {
      "displayName": "Nha Nguyen",
      "userId": "05581690424976052134"
     },
     "user_tz": -420
    },
    "id": "zmXL_qZqgmII"
   },
   "outputs": [],
   "source": [
    "# INPUTS: 1 channel, 3x3 images (batch size = 1)\n",
    "content_img = torch.tensor(\n",
    "    [[[[1.0, 2.0, 3.0], [4.0, 5.0, 6.0], [7.0, 8.0, 9.0]]]], requires_grad=False\n",
    ")\n",
    "\n",
    "style_img = torch.tensor(\n",
    "    [[[[9.0, 8.0, 7.0], [6.0, 5.0, 4.0], [3.0, 2.0, 1.0]]]], requires_grad=False\n",
    ")\n",
    "\n",
    "output_img = torch.zeros_like(content_img, requires_grad=True)"
   ]
  },
  {
   "cell_type": "code",
   "execution_count": 4,
   "metadata": {
    "colab": {
     "base_uri": "https://localhost:8080/"
    },
    "executionInfo": {
     "elapsed": 16,
     "status": "ok",
     "timestamp": 1744463453832,
     "user": {
      "displayName": "Nha Nguyen",
      "userId": "05581690424976052134"
     },
     "user_tz": -420
    },
    "id": "r0ac-0n5--Nm",
    "outputId": "755b9a7f-707d-4db0-eeaa-ab5b38b6b011"
   },
   "outputs": [
    {
     "name": "stdout",
     "output_type": "stream",
     "text": [
      "=== INPUT IMAGES ===\n",
      "Content Image:\n",
      " tensor([[1., 2., 3.],\n",
      "        [4., 5., 6.],\n",
      "        [7., 8., 9.]])\n",
      "Style Image:\n",
      " tensor([[9., 8., 7.],\n",
      "        [6., 5., 4.],\n",
      "        [3., 2., 1.]])\n",
      "Output Image (init):\n",
      " tensor([[0., 0., 0.],\n",
      "        [0., 0., 0.],\n",
      "        [0., 0., 0.]])\n"
     ]
    }
   ],
   "source": [
    "print(\"=== INPUT IMAGES ===\")\n",
    "print(\"Content Image:\\n\", content_img[0, 0])\n",
    "print(\"Style Image:\\n\", style_img[0, 0])\n",
    "print(\"Output Image (init):\\n\", output_img.detach()[0, 0])"
   ]
  },
  {
   "cell_type": "markdown",
   "metadata": {
    "id": "DXrXOzETT1nt"
   },
   "source": [
    "# Model"
   ]
  },
  {
   "cell_type": "code",
   "execution_count": 5,
   "metadata": {
    "executionInfo": {
     "elapsed": 1,
     "status": "ok",
     "timestamp": 1744463454821,
     "user": {
      "displayName": "Nha Nguyen",
      "userId": "05581690424976052134"
     },
     "user_tz": -420
    },
    "id": "ZV5JPl2E-lRd"
   },
   "outputs": [],
   "source": [
    "# 1 input channel, 1 output channel, kernel size = 2x2\n",
    "conv_weight = torch.tensor(\n",
    "    [[[[1.0, 0.0], [0.0, -1.0]]]], requires_grad=False\n",
    ")  # shape [1, 1, 2, 2]"
   ]
  },
  {
   "cell_type": "code",
   "execution_count": 6,
   "metadata": {
    "executionInfo": {
     "elapsed": 3,
     "status": "ok",
     "timestamp": 1744463455318,
     "user": {
      "displayName": "Nha Nguyen",
      "userId": "05581690424976052134"
     },
     "user_tz": -420
    },
    "id": "GjUsOi2pgpgX"
   },
   "outputs": [],
   "source": [
    "def simple_cnn(x, weight):\n",
    "    return F.conv2d(x, weight, stride=1, padding=0)"
   ]
  },
  {
   "cell_type": "code",
   "execution_count": 7,
   "metadata": {
    "executionInfo": {
     "elapsed": 7,
     "status": "ok",
     "timestamp": 1744463456133,
     "user": {
      "displayName": "Nha Nguyen",
      "userId": "05581690424976052134"
     },
     "user_tz": -420
    },
    "id": "C2M_RZgWT_6R"
   },
   "outputs": [],
   "source": [
    "# Extract feature maps\n",
    "F_content = simple_cnn(content_img, conv_weight)\n",
    "F_style = simple_cnn(style_img, conv_weight)\n",
    "F_output = simple_cnn(output_img, conv_weight)"
   ]
  },
  {
   "cell_type": "code",
   "execution_count": 8,
   "metadata": {
    "colab": {
     "base_uri": "https://localhost:8080/"
    },
    "executionInfo": {
     "elapsed": 10,
     "status": "ok",
     "timestamp": 1744463460724,
     "user": {
      "displayName": "Nha Nguyen",
      "userId": "05581690424976052134"
     },
     "user_tz": -420
    },
    "id": "cmSHw_km_DFf",
    "outputId": "e31e6cfa-b350-40c4-8c78-90c5114d020f"
   },
   "outputs": [
    {
     "name": "stdout",
     "output_type": "stream",
     "text": [
      "\n",
      "=== FEATURE MAPS ===\n",
      "F_content:\n",
      " tensor([[-4., -4.],\n",
      "        [-4., -4.]])\n",
      "F_style:\n",
      " tensor([[4., 4.],\n",
      "        [4., 4.]])\n",
      "F_output:\n",
      " tensor([[0., 0.],\n",
      "        [0., 0.]], grad_fn=<SelectBackward0>)\n"
     ]
    }
   ],
   "source": [
    "print(\"\\n=== FEATURE MAPS ===\")\n",
    "print(\"F_content:\\n\", F_content[0, 0])\n",
    "print(\"F_style:\\n\", F_style[0, 0])\n",
    "print(\"F_output:\\n\", F_output[0, 0])"
   ]
  },
  {
   "cell_type": "markdown",
   "metadata": {
    "id": "1dbYGybm_HSm"
   },
   "source": [
    "# Loss and Gram matrix"
   ]
  },
  {
   "cell_type": "code",
   "execution_count": 9,
   "metadata": {
    "executionInfo": {
     "elapsed": 4,
     "status": "ok",
     "timestamp": 1744462975161,
     "user": {
      "displayName": "Nha Nguyen",
      "userId": "05581690424976052134"
     },
     "user_tz": -420
    },
    "id": "EWnZRvih-rJt"
   },
   "outputs": [],
   "source": [
    "def gram_matrix(x):\n",
    "    b, c, h, w = x.shape\n",
    "    features = x.view(c, h * w)\n",
    "    return torch.mm(features, features.t())  # shape: [c, c]"
   ]
  },
  {
   "cell_type": "code",
   "execution_count": 10,
   "metadata": {
    "executionInfo": {
     "elapsed": 23,
     "status": "ok",
     "timestamp": 1744465227470,
     "user": {
      "displayName": "Nha Nguyen",
      "userId": "05581690424976052134"
     },
     "user_tz": -420
    },
    "id": "_y_nvWjM-s31"
   },
   "outputs": [],
   "source": [
    "def content_loss(F_target, F_content):\n",
    "    return F.mse_loss(F_target, F_content)\n",
    "\n",
    "\n",
    "def style_loss(F_target, F_style):\n",
    "    G_target = gram_matrix(F_target)\n",
    "    G_style = gram_matrix(F_style)\n",
    "    print(f\"{G_target=}, {G_style=}\")\n",
    "    return F.mse_loss(G_target, G_style)"
   ]
  },
  {
   "cell_type": "code",
   "execution_count": 11,
   "metadata": {
    "executionInfo": {
     "elapsed": 74,
     "status": "ok",
     "timestamp": 1744465227954,
     "user": {
      "displayName": "Nha Nguyen",
      "userId": "05581690424976052134"
     },
     "user_tz": -420
    },
    "id": "_BrmQODkT_8x"
   },
   "outputs": [
    {
     "name": "stdout",
     "output_type": "stream",
     "text": [
      "G_target=tensor([[0.]], grad_fn=<MmBackward0>), G_style=tensor([[64.]])\n"
     ]
    }
   ],
   "source": [
    "# Tính loss\n",
    "c_loss = content_loss(F_output, F_content)\n",
    "s_loss = style_loss(F_output, F_style)\n",
    "total_loss = c_loss + s_loss"
   ]
  },
  {
   "cell_type": "code",
   "execution_count": 12,
   "metadata": {
    "colab": {
     "base_uri": "https://localhost:8080/"
    },
    "executionInfo": {
     "elapsed": 3,
     "status": "ok",
     "timestamp": 1744465228181,
     "user": {
      "displayName": "Nha Nguyen",
      "userId": "05581690424976052134"
     },
     "user_tz": -420
    },
    "id": "cVwI-Cb0_M59",
    "outputId": "f05f0ced-fba1-4140-ce28-acd106d8d13d"
   },
   "outputs": [
    {
     "name": "stdout",
     "output_type": "stream",
     "text": [
      "\n",
      "=== LOSSES ===\n",
      "Content Loss: 16.0000\n",
      "Style Loss: 4096.0000\n",
      "Total Loss: 4112.0000\n"
     ]
    }
   ],
   "source": [
    "print(\"\\n=== LOSSES ===\")\n",
    "print(f\"Content Loss: {c_loss.item():.4f}\")\n",
    "print(f\"Style Loss: {s_loss.item():.4f}\")\n",
    "print(f\"Total Loss: {total_loss.item():.4f}\")"
   ]
  },
  {
   "cell_type": "code",
   "execution_count": 13,
   "metadata": {
    "executionInfo": {
     "elapsed": 10,
     "status": "ok",
     "timestamp": 1744461194152,
     "user": {
      "displayName": "Nha Nguyen",
      "userId": "05581690424976052134"
     },
     "user_tz": -420
    },
    "id": "XuOsh9ho-1dn"
   },
   "outputs": [],
   "source": [
    "# Backward\n",
    "total_loss.backward()\n",
    "\n",
    "# Learning rate\n",
    "lr = 0.01\n",
    "with torch.no_grad():\n",
    "    output_img -= lr * output_img.grad\n",
    "    output_img.grad.zero_()"
   ]
  },
  {
   "cell_type": "code",
   "execution_count": 14,
   "metadata": {
    "colab": {
     "base_uri": "https://localhost:8080/"
    },
    "executionInfo": {
     "elapsed": 5,
     "status": "ok",
     "timestamp": 1744461195616,
     "user": {
      "displayName": "Nha Nguyen",
      "userId": "05581690424976052134"
     },
     "user_tz": -420
    },
    "id": "jz9Wh2SH-5pt",
    "outputId": "621bf37d-3e21-43d2-ea88-110022e0a75f"
   },
   "outputs": [
    {
     "name": "stdout",
     "output_type": "stream",
     "text": [
      "\n",
      "=== GRADIENTS ===\n",
      "Grad of output_img:\n",
      " tensor([[0., 0., 0.],\n",
      "        [0., 0., 0.],\n",
      "        [0., 0., 0.]])\n",
      "\n",
      "=== OUTPUT IMAGE AFTER 1 UPDATE ===\n",
      "tensor([[-0.0200, -0.0200,  0.0000],\n",
      "        [-0.0200,  0.0000,  0.0200],\n",
      "        [ 0.0000,  0.0200,  0.0200]])\n"
     ]
    }
   ],
   "source": [
    "print(\"\\n=== GRADIENTS ===\")\n",
    "print(\"Grad of output_img:\\n\", output_img.grad[0, 0])\n",
    "\n",
    "print(\"\\n=== OUTPUT IMAGE AFTER 1 UPDATE ===\")\n",
    "print(output_img.detach()[0, 0])"
   ]
  },
  {
   "cell_type": "code",
   "execution_count": null,
   "metadata": {
    "id": "8oZccKOP_Tam"
   },
   "outputs": [],
   "source": []
  }
 ],
 "metadata": {
  "colab": {
   "authorship_tag": "ABX9TyMVYE8lADcEOnIN0JLC5ETI",
   "provenance": []
  },
  "kernelspec": {
   "display_name": "deeplearning",
   "language": "python",
   "name": "python3"
  },
  "language_info": {
   "codemirror_mode": {
    "name": "ipython",
    "version": 3
   },
   "file_extension": ".py",
   "mimetype": "text/x-python",
   "name": "python",
   "nbconvert_exporter": "python",
   "pygments_lexer": "ipython3",
   "version": "3.11.11"
  }
 },
 "nbformat": 4,
 "nbformat_minor": 0
}
