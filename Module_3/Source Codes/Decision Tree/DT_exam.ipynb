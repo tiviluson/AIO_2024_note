{
 "cells": [
  {
   "cell_type": "markdown",
   "metadata": {
    "id": "wOSRgAF6AoDQ"
   },
   "source": [
    "# Tabular Prediction"
   ]
  },
  {
   "cell_type": "markdown",
   "metadata": {
    "id": "ujoAGZ3KAoDV"
   },
   "source": [
    "## Tập dữ liệu Dự đoán quyết định chơi tennis\n",
    "\n",
    "Tập dữ liệu này chứa thông tin về các đặc trưng thời tiết liên quan đến quyết định chơi tennis (PlayTennis). Bộ dữ liệu gồm 4 thuộc tính:\n",
    "- `Outlook`: trạng thái thời tiết (Sunny, Overcast, Rain)\n",
    "- `Temperature`: nhiệt độ (Hot, Mild, Cool)\n",
    "- `Humidity`: độ ẩm (High, Normal)\n",
    "- `Wind`: gió (Weak, Strong)\n",
    "- `PlayTennis`: quyết định chơi tennis (Yes, No)\n",
    "\n",
    "Nhiệm vụ: Trả lời các câu hỏi liên quan đến quá trình xây dựng cây quyết định từ **10 dòng dữ liệu đầu tiên** và sử dụng mô hình cây đó để dự đoán và kiểm tra trên **4 dòng dữ liệu còn lại**.\n",
    "\n",
    "**Bộ dữ liệu để xây dựng cây quyết định:**\n",
    "\n",
    "| Outlook | Temperature | Humidity | Wind | PlayTennis |\n",
    "|-----------|-------------|----------|--------|------------|\n",
    "| Sunny | Hot | High | Weak | No |\n",
    "| Sunny | Hot | High | Strong | No |\n",
    "| Overcast | Hot | High | Weak | Yes |\n",
    "| Rain | Mild | High | Weak | Yes |\n",
    "| Rain | Cool | Normal | Weak | Yes |\n",
    "| Rain | Cool | Normal | Strong | No |\n",
    "| Overcast | Cool | Normal | Strong | Yes |\n",
    "| Sunny | Mild | High | Weak | No |\n",
    "| Sunny | Cool | Normal | Weak | Yes |\n",
    "| Rain | Mild | Normal | Weak | Yes |\n",
    "\n",
    "**Bộ dữ liệu kiểm tra:**\n",
    "\n",
    "| Outlook | Temperature | Humidity | Wind | PlayTennis |\n",
    "|-----------|-------------|----------|--------|------------|\n",
    "| Sunny | Mild | Normal | Strong | Yes |\n",
    "| Overcast | Mild | High | Strong | Yes |\n",
    "| Overcast | Hot | Normal | Weak | Yes |\n",
    "| Rain | Mild | High | Strong | No |\n"
   ]
  },
  {
   "cell_type": "code",
   "execution_count": 1,
   "metadata": {
    "id": "47Nkwa1lAoDX"
   },
   "outputs": [],
   "source": [
    "import numpy as np\n",
    "import pandas as pd\n",
    "from collections import Counter\n",
    "from math import log2"
   ]
  },
  {
   "cell_type": "markdown",
   "metadata": {
    "id": "sOh6JCRFAoDa"
   },
   "source": [
    "Bộ dữ liệu ban đầu"
   ]
  },
  {
   "cell_type": "code",
   "execution_count": 2,
   "metadata": {
    "colab": {
     "base_uri": "https://localhost:8080/",
     "height": 488
    },
    "executionInfo": {
     "elapsed": 2061,
     "status": "ok",
     "timestamp": 1727510987990,
     "user": {
      "displayName": "Trường Bình Dương",
      "userId": "07189696084357422866"
     },
     "user_tz": -420
    },
    "id": "2wVEkb3bAoDb",
    "outputId": "f1518312-a3f4-438f-8df3-8d67bf3b1ace"
   },
   "outputs": [
    {
     "data": {
      "text/html": [
       "<div>\n",
       "<style scoped>\n",
       "    .dataframe tbody tr th:only-of-type {\n",
       "        vertical-align: middle;\n",
       "    }\n",
       "\n",
       "    .dataframe tbody tr th {\n",
       "        vertical-align: top;\n",
       "    }\n",
       "\n",
       "    .dataframe thead th {\n",
       "        text-align: right;\n",
       "    }\n",
       "</style>\n",
       "<table border=\"1\" class=\"dataframe\">\n",
       "  <thead>\n",
       "    <tr style=\"text-align: right;\">\n",
       "      <th></th>\n",
       "      <th>Outlook</th>\n",
       "      <th>Temperature</th>\n",
       "      <th>Humidity</th>\n",
       "      <th>Wind</th>\n",
       "      <th>Play Tennis</th>\n",
       "    </tr>\n",
       "  </thead>\n",
       "  <tbody>\n",
       "    <tr>\n",
       "      <th>0</th>\n",
       "      <td>Sunny</td>\n",
       "      <td>Hot</td>\n",
       "      <td>High</td>\n",
       "      <td>Weak</td>\n",
       "      <td>No</td>\n",
       "    </tr>\n",
       "    <tr>\n",
       "      <th>1</th>\n",
       "      <td>Sunny</td>\n",
       "      <td>Hot</td>\n",
       "      <td>High</td>\n",
       "      <td>Strong</td>\n",
       "      <td>No</td>\n",
       "    </tr>\n",
       "    <tr>\n",
       "      <th>2</th>\n",
       "      <td>Overcast</td>\n",
       "      <td>Hot</td>\n",
       "      <td>High</td>\n",
       "      <td>Weak</td>\n",
       "      <td>Yes</td>\n",
       "    </tr>\n",
       "    <tr>\n",
       "      <th>3</th>\n",
       "      <td>Rainy</td>\n",
       "      <td>Mild</td>\n",
       "      <td>High</td>\n",
       "      <td>Weak</td>\n",
       "      <td>Yes</td>\n",
       "    </tr>\n",
       "    <tr>\n",
       "      <th>4</th>\n",
       "      <td>Rainy</td>\n",
       "      <td>Cool</td>\n",
       "      <td>Normal</td>\n",
       "      <td>Weak</td>\n",
       "      <td>Yes</td>\n",
       "    </tr>\n",
       "    <tr>\n",
       "      <th>5</th>\n",
       "      <td>Rainy</td>\n",
       "      <td>Cool</td>\n",
       "      <td>Normal</td>\n",
       "      <td>Strong</td>\n",
       "      <td>No</td>\n",
       "    </tr>\n",
       "    <tr>\n",
       "      <th>6</th>\n",
       "      <td>Overcast</td>\n",
       "      <td>Cool</td>\n",
       "      <td>Normal</td>\n",
       "      <td>Strong</td>\n",
       "      <td>Yes</td>\n",
       "    </tr>\n",
       "    <tr>\n",
       "      <th>7</th>\n",
       "      <td>Sunny</td>\n",
       "      <td>Mild</td>\n",
       "      <td>High</td>\n",
       "      <td>Weak</td>\n",
       "      <td>No</td>\n",
       "    </tr>\n",
       "    <tr>\n",
       "      <th>8</th>\n",
       "      <td>Sunny</td>\n",
       "      <td>Cool</td>\n",
       "      <td>Normal</td>\n",
       "      <td>Weak</td>\n",
       "      <td>Yes</td>\n",
       "    </tr>\n",
       "    <tr>\n",
       "      <th>9</th>\n",
       "      <td>Rainy</td>\n",
       "      <td>Mild</td>\n",
       "      <td>Normal</td>\n",
       "      <td>Weak</td>\n",
       "      <td>Yes</td>\n",
       "    </tr>\n",
       "    <tr>\n",
       "      <th>10</th>\n",
       "      <td>Sunny</td>\n",
       "      <td>Mild</td>\n",
       "      <td>Normal</td>\n",
       "      <td>Strong</td>\n",
       "      <td>Yes</td>\n",
       "    </tr>\n",
       "    <tr>\n",
       "      <th>11</th>\n",
       "      <td>Overcast</td>\n",
       "      <td>Mild</td>\n",
       "      <td>High</td>\n",
       "      <td>Strong</td>\n",
       "      <td>Yes</td>\n",
       "    </tr>\n",
       "    <tr>\n",
       "      <th>12</th>\n",
       "      <td>Overcast</td>\n",
       "      <td>Hot</td>\n",
       "      <td>Normal</td>\n",
       "      <td>Weak</td>\n",
       "      <td>Yes</td>\n",
       "    </tr>\n",
       "    <tr>\n",
       "      <th>13</th>\n",
       "      <td>Rainy</td>\n",
       "      <td>Mild</td>\n",
       "      <td>High</td>\n",
       "      <td>Strong</td>\n",
       "      <td>No</td>\n",
       "    </tr>\n",
       "  </tbody>\n",
       "</table>\n",
       "</div>"
      ],
      "text/plain": [
       "     Outlook Temperature Humidity    Wind Play Tennis\n",
       "0      Sunny         Hot     High    Weak          No\n",
       "1      Sunny         Hot     High  Strong          No\n",
       "2   Overcast         Hot     High    Weak         Yes\n",
       "3      Rainy        Mild     High    Weak         Yes\n",
       "4      Rainy        Cool   Normal    Weak         Yes\n",
       "5      Rainy        Cool   Normal  Strong          No\n",
       "6   Overcast        Cool   Normal  Strong         Yes\n",
       "7      Sunny        Mild     High    Weak          No\n",
       "8      Sunny        Cool   Normal    Weak         Yes\n",
       "9      Rainy        Mild   Normal    Weak         Yes\n",
       "10     Sunny        Mild   Normal  Strong         Yes\n",
       "11  Overcast        Mild     High  Strong         Yes\n",
       "12  Overcast         Hot   Normal    Weak         Yes\n",
       "13     Rainy        Mild     High  Strong          No"
      ]
     },
     "execution_count": 2,
     "metadata": {},
     "output_type": "execute_result"
    }
   ],
   "source": [
    "data = pd.read_csv('../../Datasets/Decision Tree/tennis.csv')\n",
    "data"
   ]
  },
  {
   "cell_type": "markdown",
   "metadata": {
    "id": "cDOX2MykAoDc"
   },
   "source": [
    "Xác định đặc trưng và nhãn của dữ liệu"
   ]
  },
  {
   "cell_type": "code",
   "execution_count": 3,
   "metadata": {
    "colab": {
     "base_uri": "https://localhost:8080/"
    },
    "executionInfo": {
     "elapsed": 43,
     "status": "ok",
     "timestamp": 1727510987991,
     "user": {
      "displayName": "Trường Bình Dương",
      "userId": "07189696084357422866"
     },
     "user_tz": -420
    },
    "id": "pX1eXNQgAoDc",
    "outputId": "831f7c25-a260-4e81-ae1c-7f80efb3f4e7"
   },
   "outputs": [
    {
     "name": "stdout",
     "output_type": "stream",
     "text": [
      "Các đặc trưng: ['Outlook', 'Temperature', 'Humidity', 'Wind']\n"
     ]
    }
   ],
   "source": [
    "X = data.iloc[:, :-1].values  # All columns except the last one are features\n",
    "y = data.iloc[:, -1].values  # The last column is the label\n",
    "feature_names = data.columns[:-1].tolist()\n",
    "print(f\"Các đặc trưng: {feature_names}\")"
   ]
  },
  {
   "cell_type": "markdown",
   "metadata": {
    "id": "h6EoMcQ_AoDd"
   },
   "source": [
    "Tách dữ liệu thành 2 phần:\n",
    "- Dữ liệu để xây dựng cây quyết định (10 dòng đầu tiên)\n",
    "- Dữ liệu kiểm tra (4 dòng còn lại)"
   ]
  },
  {
   "cell_type": "code",
   "execution_count": 4,
   "metadata": {
    "id": "ZenvRMYsAoDd"
   },
   "outputs": [],
   "source": [
    "X_train, y_train = X[:10], y[:10]\n",
    "X_test, y_test = X[10:], y[10:]"
   ]
  },
  {
   "cell_type": "markdown",
   "metadata": {
    "id": "vGByYQawAoDe"
   },
   "source": [
    "Các bước xây dựng cây quyết định (khi sử dụng Entropy):\n",
    "\n",
    "1. Bắt đầu với toàn bộ tập dữ liệu\n",
    "2. Chọn thuộc tính chia nhánh tốt nhất dựa trên độ đo Entropy và Information Gain\n",
    "3. Chia dữ liệu thành các nhánh con dựa trên thuộc tính đó\n",
    "4. Lặp lại quá trình đến khi:\n",
    "    - Tất cả các mẫu thuộc cùng một lớp\n",
    "    - Không còn thuộc tính nào để chia nhánh\n",
    "    - Đạt đến điều kiện dừng (số lượng mẫu nhỏ nhất hoặc độ sâu tối đa)"
   ]
  },
  {
   "cell_type": "markdown",
   "metadata": {
    "id": "U0xUcz0fAoDe"
   },
   "source": [
    "#### **Câu 1:** Entropy của tập dữ liệu ban đầu là bao nhiêu (làm tròn đến 4 chữ số thập phân)?\n",
    "\n",
    "A. 0.7219  \n",
    "B. 0.9710  \n",
    "C. 0.8113  \n",
    "D. 0.9183\n",
    "\n",
    "Đáp án: B"
   ]
  },
  {
   "cell_type": "code",
   "execution_count": 5,
   "metadata": {
    "id": "9JrDzjQFAoDe"
   },
   "outputs": [],
   "source": [
    "def calculate_entropy(y):\n",
    "    # Count the number of occurrences of each label\n",
    "    label_counts = Counter(y)\n",
    "    # Calculate the frequency of each label\n",
    "    label_freqs = np.array(list(label_counts.values())) / len(y)\n",
    "    # Calculate entropy\n",
    "    entropy = -np.sum(label_freqs * np.log2(label_freqs))\n",
    "    return entropy"
   ]
  },
  {
   "cell_type": "code",
   "execution_count": 6,
   "metadata": {
    "colab": {
     "base_uri": "https://localhost:8080/"
    },
    "executionInfo": {
     "elapsed": 38,
     "status": "ok",
     "timestamp": 1727510987991,
     "user": {
      "displayName": "Trường Bình Dương",
      "userId": "07189696084357422866"
     },
     "user_tz": -420
    },
    "id": "WLANemCVAoDe",
    "outputId": "cc80844f-fc56-42c0-d452-13da7c21a007"
   },
   "outputs": [
    {
     "name": "stdout",
     "output_type": "stream",
     "text": [
      "Entropy của tập dữ liệu ban đầu: 0.9710\n"
     ]
    }
   ],
   "source": [
    "entropy_root = calculate_entropy(y_train)\n",
    "print(f\"Entropy của tập dữ liệu ban đầu: {entropy_root:.4f}\")"
   ]
  },
  {
   "cell_type": "markdown",
   "metadata": {
    "id": "UXAStm43AoDf"
   },
   "source": [
    "#### **Câu 2:** Với tập dữ liệu huấn luyện ban đầu, Information Gain của thuộc tính Temperature là bao nhiêu (làm tròn đến 4 chữ số thập phân)?\n",
    "\n",
    "A. 0.0913   \n",
    "B. 0.0955   \n",
    "C. 0.8113   \n",
    "D. 0.9183\n",
    "\n",
    "Đáp án: B"
   ]
  },
  {
   "cell_type": "markdown",
   "metadata": {
    "id": "6ZoxGddJAoDf"
   },
   "source": [
    "Ta sẽ tính Entropy của tập dữ liệu nếu chia theo thuộc tính Temperature, sau đó Information Gain sẽ được tính bằng:\n",
    "\n",
    "$IG(Temperature) = Entropy(S) - Entropy(S, Temperature)$"
   ]
  },
  {
   "cell_type": "code",
   "execution_count": 7,
   "metadata": {
    "colab": {
     "base_uri": "https://localhost:8080/"
    },
    "executionInfo": {
     "elapsed": 34,
     "status": "ok",
     "timestamp": 1727510987991,
     "user": {
      "displayName": "Trường Bình Dương",
      "userId": "07189696084357422866"
     },
     "user_tz": -420
    },
    "id": "bCqkKocuAoDf",
    "outputId": "a064e562-c68b-423f-a646-c289be2557ef"
   },
   "outputs": [
    {
     "name": "stdout",
     "output_type": "stream",
     "text": [
      "Entropy khi Temperature = Cool: 0.8113\n",
      "Entropy khi Temperature = Hot: 0.9183\n",
      "Entropy khi Temperature = Mild: 0.9183\n",
      "Information gain khi chia theo Temperature: 0.0955\n"
     ]
    }
   ],
   "source": [
    "column = \"Temperature\"\n",
    "col_idx = feature_names.index(column) # Index of the column corresponding to the feature\n",
    "\n",
    "# Unique values & its count in 'Temperature' column\n",
    "values, count = np.unique(X_train[:, col_idx], return_counts=True)\n",
    "\n",
    "# Calculate the entropy of each partition\n",
    "for value in values:\n",
    "    # Mask to filter rows that have the value of the feature == the unique value\n",
    "    mask = X_train[:, col_idx] == value\n",
    "    print(f\"Entropy khi {column} = {value}: {calculate_entropy(y_train[mask]):.4f}\")\n",
    "\n",
    "# Calculate the sum of the entropy of each partition\n",
    "entropy_temperature = np.sum(\n",
    "    [\n",
    "        count[i] / len(y_train) * calculate_entropy(y_train[X_train[:, col_idx] == values[i]])\n",
    "        for i in range(len(values))\n",
    "    ]\n",
    ")\n",
    "information_gain = entropy_root - entropy_temperature\n",
    "print(f\"Information gain khi chia theo {column}: {information_gain:.4f}\")"
   ]
  },
  {
   "cell_type": "markdown",
   "metadata": {
    "id": "ZQG97m9RAoDf"
   },
   "source": [
    "#### **Câu 3:** Thuộc tính nào sẽ được chọn để chia nhánh đầu tiên?\n",
    "\n",
    "A. Outlook  \n",
    "B. Temperature  \n",
    "C. Humidity     \n",
    "D. Wind\n",
    "\n",
    "Đáp án: A"
   ]
  },
  {
   "cell_type": "markdown",
   "metadata": {
    "id": "xF5gbyA9AoDf"
   },
   "source": [
    "Tương tự như câu 2, ta sẽ tính Information Gain của các thuộc tính Outlook, Temperature, Humidity, Wind và chọn thuộc tính có Information Gain lớn nhất."
   ]
  },
  {
   "cell_type": "code",
   "execution_count": 8,
   "metadata": {
    "colab": {
     "base_uri": "https://localhost:8080/"
    },
    "executionInfo": {
     "elapsed": 32,
     "status": "ok",
     "timestamp": 1727510987991,
     "user": {
      "displayName": "Trường Bình Dương",
      "userId": "07189696084357422866"
     },
     "user_tz": -420
    },
    "id": "wtsxzAPPAoDf",
    "outputId": "e77bc785-6bfa-4ca2-bd91-fe307bedf17c"
   },
   "outputs": [
    {
     "name": "stdout",
     "output_type": "stream",
     "text": [
      "Information gain khi chia theo Outlook: 0.3219\n",
      "Information gain khi chia theo Temperature: 0.0955\n",
      "Information gain khi chia theo Humidity: 0.1245\n",
      "Information gain khi chia theo Wind: 0.0913\n",
      "Đặc trưng tốt nhất để chia: Outlook\n"
     ]
    }
   ],
   "source": [
    "features = feature_names\n",
    "information_gains = []\n",
    "for column in features:\n",
    "    col_idx = feature_names.index(column)\n",
    "    values, count = np.unique(X_train[:, col_idx], return_counts=True)\n",
    "    entropy_feature = np.sum(\n",
    "        [\n",
    "            count[i] / len(y_train) * calculate_entropy(y_train[X_train[:, col_idx] == values[i]])\n",
    "            for i in range(len(values))\n",
    "        ]\n",
    "    )\n",
    "    information_gain = entropy_root - entropy_feature\n",
    "    information_gains.append(information_gain)\n",
    "    print(f\"Information gain khi chia theo {column}: {information_gain:.4f}\")\n",
    "\n",
    "best_feature_idx = np.argmax(information_gains)\n",
    "best_feature = features[best_feature_idx]\n",
    "print(f\"Đặc trưng tốt nhất để chia: {best_feature}\")"
   ]
  },
  {
   "cell_type": "markdown",
   "metadata": {
    "id": "VWvZnMkyAoDg"
   },
   "source": [
    "#### Code xây dựng hoàn chỉnh cây"
   ]
  },
  {
   "cell_type": "markdown",
   "metadata": {
    "id": "ykVXA6CHAoDg"
   },
   "source": [
    "Ta tiếp tục lặp lại các bước từ câu 1-3 để xây dựng cây quyết định hoàn chỉnh từ dữ liệu huấn luyện.\n",
    "\n",
    "Dưới đây là code Python hoàn chỉnh để xây dựng cây quyết định từ dữ liệu huấn luyện và dự đoán trên dữ liệu kiểm tra.\n"
   ]
  },
  {
   "cell_type": "code",
   "execution_count": 9,
   "metadata": {
    "id": "MDF49YkLAoDg"
   },
   "outputs": [],
   "source": [
    "# Define the DecisionTree class\n",
    "class DecisionTree:\n",
    "    def __init__(self, feature_names):\n",
    "        self.tree = None\n",
    "        self.feature_names = feature_names\n",
    "\n",
    "    def entropy(self, y, node_name=\"\"):\n",
    "        freq = Counter(y)\n",
    "        total = len(y)\n",
    "        entropy_value = -sum(\n",
    "            (count / total) * log2(count / total) for count in freq.values()\n",
    "        )\n",
    "        entropy_value = 0 if entropy_value == -0.0 else entropy_value\n",
    "        if node_name:\n",
    "            print(\n",
    "                f\"Node: {node_name} | Label Distribution: {dict(freq)} | Entropy: {entropy_value:.4f}\"\n",
    "            )\n",
    "        return entropy_value\n",
    "\n",
    "    # Calculate the information gain\n",
    "    def info_gain(self, X_column, y, node_name):\n",
    "        total_entropy = self.entropy(y, node_name)\n",
    "        values, counts = np.unique(X_column, return_counts=True)\n",
    "        weighted_entropy = sum(\n",
    "            (counts[i] / sum(counts))\n",
    "            * self.entropy(y[X_column == values[i]], f\"{values[i]}\")\n",
    "            for i in range(len(values))\n",
    "        )\n",
    "        info_gain_value = total_entropy - weighted_entropy\n",
    "        return info_gain_value\n",
    "\n",
    "    # Determine the best feature to split on based on information gain\n",
    "    def best_feature_split(self, X, y):\n",
    "        best_gain = -1\n",
    "        best_feature = None\n",
    "        print(\"\\n=== Information Gain for Each Feature ===\\n\")\n",
    "        for col in range(X.shape[1]):\n",
    "            gain = self.info_gain(X[:, col], y, node_name=\"Total\" if col == 0 else \"\")\n",
    "            print(f\"Feature {self.feature_names[col]}: Information Gain = {gain:.4f}\\n\")\n",
    "            if gain > best_gain:\n",
    "                best_gain = gain\n",
    "                best_feature = col\n",
    "        print(\n",
    "            f\"Best feature to split on {self.feature_names[best_feature]} with Information Gain: {best_gain:.4f}\\n\"\n",
    "        )\n",
    "        return best_feature\n",
    "\n",
    "    # Fit the model and build the tree\n",
    "    def fit(self, X, y, feature_names, depth=0):\n",
    "\n",
    "        print(f\"\\n--- Building Tree at Depth {depth} ---\")\n",
    "        if len(set(y)) == 1:\n",
    "            print(f\"Stopping condition met at depth {depth}, class: {y[0]}\")\n",
    "            return y[0]\n",
    "\n",
    "        if X.shape[1] == 0:\n",
    "            most_common = Counter(y).most_common(1)[0][0]\n",
    "            print(\n",
    "                f\"No more features to split on at depth {depth}, returning majority class: {most_common}\"\n",
    "            )\n",
    "            return most_common\n",
    "\n",
    "        feature_idx = self.best_feature_split(X, y)\n",
    "        best_feature_name = feature_names[feature_idx]\n",
    "        tree = {best_feature_name: {}}\n",
    "        print(f\"=> Splitting on feature {best_feature_name} at depth {depth}\\n\")\n",
    "\n",
    "        # Split the dataset based on the best feature\n",
    "        for value in np.unique(X[:, feature_idx]):\n",
    "            sub_X = X[X[:, feature_idx] == value]\n",
    "            sub_y = y[X[:, feature_idx] == value]\n",
    "            print()\n",
    "            print(f\"=\"*45)\n",
    "            print(f\"|| Subtree for feature {best_feature_name} = {value} ||\")\n",
    "            print(f\"=\"*45)\n",
    "            sub_X = np.delete(sub_X, feature_idx, axis=1)\n",
    "            new_feature_names = (\n",
    "                feature_names[:feature_idx] + feature_names[feature_idx + 1 :]\n",
    "            )\n",
    "            tree[best_feature_name][value] = self.fit(\n",
    "                sub_X, sub_y, new_feature_names, depth + 1\n",
    "            )\n",
    "\n",
    "        self.tree = tree\n",
    "        return tree\n",
    "\n",
    "    # Predict the class labels for the samples\n",
    "    def predict(self, X):\n",
    "        def classify(tree, sample):\n",
    "            if not isinstance(tree, dict):\n",
    "                return tree\n",
    "            feature = list(tree.keys())[0]\n",
    "            feature_idx = self.feature_names.index(feature)\n",
    "            value = sample[feature_idx]\n",
    "\n",
    "            # Check if the feature value is missing (\"\")\n",
    "            if value == \"\":\n",
    "                print(\n",
    "                    f\"Feature '{feature}' is missing in the sample so the model can't predict\"\n",
    "                )\n",
    "\n",
    "            # Find the subtree or return None if the feature is required and not found\n",
    "            subtree = tree[feature].get(value, None)\n",
    "            if subtree is None:\n",
    "                return None  # If we can't find the path, return None\n",
    "\n",
    "            if isinstance(subtree, dict):\n",
    "                return classify(subtree, sample)\n",
    "            else:\n",
    "                return subtree\n",
    "\n",
    "        # Apply classification for all samples in X\n",
    "        return (\n",
    "            np.array([classify(self.tree, x) for x in X])\n",
    "            if len(X.shape) > 1\n",
    "            else classify(self.tree, X)\n",
    "        )\n",
    "\n",
    "    # Function to print the tree\n",
    "    def visualize(self):\n",
    "        def print_tree(node_name, node_values, depth):\n",
    "            for value in node_values:\n",
    "                if isinstance(node_values[value], dict):\n",
    "                    print(f\"{'|  ' * depth}{node_name} = {value}\")\n",
    "                    sub_tree = node_values[value]\n",
    "                    new_node = list(sub_tree.keys())[0]\n",
    "                    print_tree(new_node, sub_tree[new_node], depth + 1)\n",
    "                else:\n",
    "                    print(f\"{'|  ' * depth}{node_name} = {value}: {node_values[value]}\")\n",
    "\n",
    "        if self.tree:\n",
    "            root_node = list(self.tree.keys())[0]\n",
    "            print(\"\\n--- Decision Tree ---\")\n",
    "            print_tree(root_node, self.tree[root_node], 0)"
   ]
  },
  {
   "cell_type": "code",
   "execution_count": 10,
   "metadata": {
    "colab": {
     "base_uri": "https://localhost:8080/"
    },
    "executionInfo": {
     "elapsed": 405,
     "status": "ok",
     "timestamp": 1727511654491,
     "user": {
      "displayName": "Trường Bình Dương",
      "userId": "07189696084357422866"
     },
     "user_tz": -420
    },
    "id": "b3xVKObHAoDh",
    "outputId": "ba632201-f6e4-480a-bb67-107ab537ff10"
   },
   "outputs": [
    {
     "name": "stdout",
     "output_type": "stream",
     "text": [
      "\n",
      "--- Building Tree at Depth 0 ---\n",
      "\n",
      "=== Information Gain for Each Feature ===\n",
      "\n",
      "Node: Total | Label Distribution: {'No': 4, 'Yes': 6} | Entropy: 0.9710\n",
      "Node: Overcast | Label Distribution: {'Yes': 2} | Entropy: 0.0000\n",
      "Node: Rainy | Label Distribution: {'Yes': 3, 'No': 1} | Entropy: 0.8113\n",
      "Node: Sunny | Label Distribution: {'No': 3, 'Yes': 1} | Entropy: 0.8113\n",
      "Feature Outlook: Information Gain = 0.3219\n",
      "\n",
      "Node: Cool | Label Distribution: {'Yes': 3, 'No': 1} | Entropy: 0.8113\n",
      "Node: Hot | Label Distribution: {'No': 2, 'Yes': 1} | Entropy: 0.9183\n",
      "Node: Mild | Label Distribution: {'Yes': 2, 'No': 1} | Entropy: 0.9183\n",
      "Feature Temperature: Information Gain = 0.0955\n",
      "\n",
      "Node: High | Label Distribution: {'No': 3, 'Yes': 2} | Entropy: 0.9710\n",
      "Node: Normal | Label Distribution: {'Yes': 4, 'No': 1} | Entropy: 0.7219\n",
      "Feature Humidity: Information Gain = 0.1245\n",
      "\n",
      "Node: Strong | Label Distribution: {'No': 2, 'Yes': 1} | Entropy: 0.9183\n",
      "Node: Weak | Label Distribution: {'No': 2, 'Yes': 5} | Entropy: 0.8631\n",
      "Feature Wind: Information Gain = 0.0913\n",
      "\n",
      "Best feature to split on Outlook with Information Gain: 0.3219\n",
      "\n",
      "=> Splitting on feature Outlook at depth 0\n",
      "\n",
      "\n",
      "=============================================\n",
      "|| Subtree for feature Outlook = Overcast ||\n",
      "=============================================\n",
      "\n",
      "--- Building Tree at Depth 1 ---\n",
      "Stopping condition met at depth 1, class: Yes\n",
      "\n",
      "=============================================\n",
      "|| Subtree for feature Outlook = Rainy ||\n",
      "=============================================\n",
      "\n",
      "--- Building Tree at Depth 1 ---\n",
      "\n",
      "=== Information Gain for Each Feature ===\n",
      "\n",
      "Node: Total | Label Distribution: {'Yes': 3, 'No': 1} | Entropy: 0.8113\n",
      "Node: Cool | Label Distribution: {'Yes': 1, 'No': 1} | Entropy: 1.0000\n",
      "Node: Mild | Label Distribution: {'Yes': 2} | Entropy: 0.0000\n",
      "Feature Outlook: Information Gain = 0.3113\n",
      "\n",
      "Node: High | Label Distribution: {'Yes': 1} | Entropy: 0.0000\n",
      "Node: Normal | Label Distribution: {'Yes': 2, 'No': 1} | Entropy: 0.9183\n",
      "Feature Temperature: Information Gain = 0.1226\n",
      "\n",
      "Node: Strong | Label Distribution: {'No': 1} | Entropy: 0.0000\n",
      "Node: Weak | Label Distribution: {'Yes': 3} | Entropy: 0.0000\n",
      "Feature Humidity: Information Gain = 0.8113\n",
      "\n",
      "Best feature to split on Humidity with Information Gain: 0.8113\n",
      "\n",
      "=> Splitting on feature Wind at depth 1\n",
      "\n",
      "\n",
      "=============================================\n",
      "|| Subtree for feature Wind = Strong ||\n",
      "=============================================\n",
      "\n",
      "--- Building Tree at Depth 2 ---\n",
      "Stopping condition met at depth 2, class: No\n",
      "\n",
      "=============================================\n",
      "|| Subtree for feature Wind = Weak ||\n",
      "=============================================\n",
      "\n",
      "--- Building Tree at Depth 2 ---\n",
      "Stopping condition met at depth 2, class: Yes\n",
      "\n",
      "=============================================\n",
      "|| Subtree for feature Outlook = Sunny ||\n",
      "=============================================\n",
      "\n",
      "--- Building Tree at Depth 1 ---\n",
      "\n",
      "=== Information Gain for Each Feature ===\n",
      "\n",
      "Node: Total | Label Distribution: {'No': 3, 'Yes': 1} | Entropy: 0.8113\n",
      "Node: Cool | Label Distribution: {'Yes': 1} | Entropy: 0.0000\n",
      "Node: Hot | Label Distribution: {'No': 2} | Entropy: 0.0000\n",
      "Node: Mild | Label Distribution: {'No': 1} | Entropy: 0.0000\n",
      "Feature Outlook: Information Gain = 0.8113\n",
      "\n",
      "Node: High | Label Distribution: {'No': 3} | Entropy: 0.0000\n",
      "Node: Normal | Label Distribution: {'Yes': 1} | Entropy: 0.0000\n",
      "Feature Temperature: Information Gain = 0.8113\n",
      "\n",
      "Node: Strong | Label Distribution: {'No': 1} | Entropy: 0.0000\n",
      "Node: Weak | Label Distribution: {'No': 2, 'Yes': 1} | Entropy: 0.9183\n",
      "Feature Humidity: Information Gain = 0.1226\n",
      "\n",
      "Best feature to split on Outlook with Information Gain: 0.8113\n",
      "\n",
      "=> Splitting on feature Temperature at depth 1\n",
      "\n",
      "\n",
      "=============================================\n",
      "|| Subtree for feature Temperature = Cool ||\n",
      "=============================================\n",
      "\n",
      "--- Building Tree at Depth 2 ---\n",
      "Stopping condition met at depth 2, class: Yes\n",
      "\n",
      "=============================================\n",
      "|| Subtree for feature Temperature = Hot ||\n",
      "=============================================\n",
      "\n",
      "--- Building Tree at Depth 2 ---\n",
      "Stopping condition met at depth 2, class: No\n",
      "\n",
      "=============================================\n",
      "|| Subtree for feature Temperature = Mild ||\n",
      "=============================================\n",
      "\n",
      "--- Building Tree at Depth 2 ---\n",
      "Stopping condition met at depth 2, class: No\n",
      "\n",
      "--- Decision Tree ---\n",
      "Outlook = Overcast: Yes\n",
      "Outlook = Rainy\n",
      "|  Wind = Strong: No\n",
      "|  Wind = Weak: Yes\n",
      "Outlook = Sunny\n",
      "|  Temperature = Cool: Yes\n",
      "|  Temperature = Hot: No\n",
      "|  Temperature = Mild: No\n"
     ]
    }
   ],
   "source": [
    "# Initialize and fit the decision tree\n",
    "tree = DecisionTree(feature_names)\n",
    "tree.fit(X_train, y_train, feature_names)\n",
    "tree.visualize()"
   ]
  },
  {
   "cell_type": "markdown",
   "metadata": {
    "id": "w80XHiVYAoDi"
   },
   "source": [
    "#### **Câu 4:** Cây quyết định hoàn chỉnh sẽ có bao nhiêu lá?\n",
    "\n",
    "A. 4    \n",
    "B. 5    \n",
    "C. 6    \n",
    "D. 7    \n",
    "\n",
    "Đáp án: C"
   ]
  },
  {
   "cell_type": "markdown",
   "metadata": {
    "id": "nZJfaSGtAoDi"
   },
   "source": [
    "Kết quả cây quyết định:\n",
    "\n",
    "=> Có tổng cộng 6 nút lá\n",
    "\n",
    "<img src=\"https://i.imgur.com/chTFTY6.png\" alt=\"DT_result\" width=\"800\"/>"
   ]
  },
  {
   "cell_type": "markdown",
   "metadata": {
    "id": "aW4lkiqWAoDi"
   },
   "source": [
    "#### **Câu 5:** Dùng cây quyết định đã xây dựng trên dữ liệu huấn luyện, dự đoán kết quả của dòng dữ liệu cuối cùng trong tập kiểm tra.\n",
    "\n",
    "A. Strong   \n",
    "B. Cool     \n",
    "C. Yes  \n",
    "D. No\n",
    "\n",
    "Đáp án: D"
   ]
  },
  {
   "cell_type": "code",
   "execution_count": 11,
   "metadata": {
    "colab": {
     "base_uri": "https://localhost:8080/",
     "height": 36
    },
    "executionInfo": {
     "elapsed": 27,
     "status": "ok",
     "timestamp": 1727510987992,
     "user": {
      "displayName": "Trường Bình Dương",
      "userId": "07189696084357422866"
     },
     "user_tz": -420
    },
    "id": "gsaenwVtAoDj",
    "outputId": "cf525775-34e7-4e36-cccc-298d2026ef7e"
   },
   "outputs": [
    {
     "data": {
      "text/plain": [
       "'No'"
      ]
     },
     "execution_count": 11,
     "metadata": {},
     "output_type": "execute_result"
    }
   ],
   "source": [
    "# Use the model to make predictions\n",
    "tree.predict(X_test[-1])"
   ]
  },
  {
   "cell_type": "markdown",
   "metadata": {
    "id": "8nfDCuecAoDj"
   },
   "source": [
    "#### **Câu 6:** Dùng cây quyết định đã xây dựng, dự đoán kết quả cho mẫu dữ liệu sau: Outlook = Overcast, Wind = Weak.\n",
    "\n",
    "A. Yes  \n",
    "B. No   \n",
    "C. Thiếu giá trị của thuộc tính Temperature nên không dự đoán được     \n",
    "D. Thiếu giá trị của thuộc tính Humidity nên không dự đoán được\n",
    "\n",
    "Đáp án: A"
   ]
  },
  {
   "cell_type": "code",
   "execution_count": 12,
   "metadata": {
    "colab": {
     "base_uri": "https://localhost:8080/",
     "height": 36
    },
    "executionInfo": {
     "elapsed": 24,
     "status": "ok",
     "timestamp": 1727510987992,
     "user": {
      "displayName": "Trường Bình Dương",
      "userId": "07189696084357422866"
     },
     "user_tz": -420
    },
    "id": "vYwFKk5uAoDj",
    "outputId": "bd96a8c1-5066-44f7-e715-b36cf5935198"
   },
   "outputs": [
    {
     "data": {
      "text/plain": [
       "'Yes'"
      ]
     },
     "execution_count": 12,
     "metadata": {},
     "output_type": "execute_result"
    }
   ],
   "source": [
    "# Sample 1\n",
    "sample_1 = np.array([\"Overcast\", \"\", \"\", \"Weak\"])\n",
    "tree.predict(sample_1)"
   ]
  },
  {
   "cell_type": "markdown",
   "metadata": {
    "id": "hMR-Q6BxAoDk"
   },
   "source": [
    "#### **Câu 7:** Dùng cây quyết định đã xây dựng, dự đoán kết quả cho mẫu dữ liệu sau: Temperature = Hot, Outlook = Rainy.\n",
    "\n",
    "A. Yes  \n",
    "B. No   \n",
    "C. Thiếu giá trị của thuộc tính Wind nên không dự đoán được  \n",
    "D. Thiếu giá trị của thuộc tính Humidity nên không dự đoán được  \n",
    "\n",
    "Đáp án: C"
   ]
  },
  {
   "cell_type": "code",
   "execution_count": 13,
   "metadata": {
    "colab": {
     "base_uri": "https://localhost:8080/"
    },
    "executionInfo": {
     "elapsed": 23,
     "status": "ok",
     "timestamp": 1727510987993,
     "user": {
      "displayName": "Trường Bình Dương",
      "userId": "07189696084357422866"
     },
     "user_tz": -420
    },
    "id": "9nqqGLf0AoDk",
    "outputId": "d44e3cb2-ea18-4e24-cae2-739bdef45b60"
   },
   "outputs": [
    {
     "name": "stdout",
     "output_type": "stream",
     "text": [
      "Feature 'Wind' is missing in the sample so the model can't predict\n"
     ]
    }
   ],
   "source": [
    "# Sample 2\n",
    "sample_2 = np.array([\"Rainy\", \"Hot\", \"\", \"\"])\n",
    "tree.predict(sample_2)"
   ]
  },
  {
   "cell_type": "markdown",
   "metadata": {
    "id": "xi4XAqZ1AoDk"
   },
   "source": [
    "Vì thiếu thông tin về thuộc tính Wind, ta không thể dự đoán kết quả chính xác cho mẫu dữ liệu này."
   ]
  },
  {
   "cell_type": "markdown",
   "metadata": {
    "id": "_ColgULcAoDk"
   },
   "source": [
    "#### **Câu 8:** Độ chính xác của mô hình cây trên tập kiểm tra là bao nhiêu?\n",
    "\n",
    "A. 50%  \n",
    "B. 75%  \n",
    "C. 100%     \n",
    "D. 25%\n",
    "\n",
    "Đáp án: B"
   ]
  },
  {
   "cell_type": "code",
   "execution_count": 14,
   "metadata": {
    "colab": {
     "base_uri": "https://localhost:8080/"
    },
    "executionInfo": {
     "elapsed": 21,
     "status": "ok",
     "timestamp": 1727510987993,
     "user": {
      "displayName": "Trường Bình Dương",
      "userId": "07189696084357422866"
     },
     "user_tz": -420
    },
    "id": "ewNpWBykAoDl",
    "outputId": "47a2024b-5bc1-464d-ea28-12d295dcccff"
   },
   "outputs": [
    {
     "name": "stdout",
     "output_type": "stream",
     "text": [
      "Predict test set: ['No' 'Yes' 'Yes' 'No']\n",
      "Actual test set: ['Yes' 'Yes' 'Yes' 'No']\n",
      "Accuracy: 0.75\n"
     ]
    }
   ],
   "source": [
    "# Evaluate the model using the last 4 rows for testing\n",
    "y_test_pred = tree.predict(X_test)\n",
    "print(f\"Predict test set: {y_test_pred}\")\n",
    "print(f\"Actual test set: {y_test}\")\n",
    "\n",
    "accuracy = np.mean(y_test_pred == y_test)\n",
    "print(f\"Accuracy: {accuracy:.2f}\")"
   ]
  },
  {
   "cell_type": "markdown",
   "metadata": {
    "id": "8SJ5KtdI3oPZ"
   },
   "source": [
    "#### Câu 9: Nếu một thuộc tính liên tục được chọn làm thuộc tính phân chia, bước tiếp theo sẽ là gì?\n",
    "\n",
    "A. Chuyển đổi thuộc tính liên tục thành thuộc tính phân loại\n",
    "\n",
    "B. Chọn điểm cắt để chia thuộc tính thành hai miền\n",
    "\n",
    "C. Bỏ qua thuộc tính liên tục đó\n",
    "\n",
    "D. Chia thuộc tính thành nhiều phân khúc dựa trên các giá trị trung bình\n",
    "\n",
    "Đáp án: B."
   ]
  },
  {
   "cell_type": "markdown",
   "metadata": {
    "id": "BwhrkZRw34XN"
   },
   "source": [
    "#### Câu 10: Một thuộc tính có giá trị Information Gain bằng 0 cho thấy điều gì?\n",
    "A. Thuộc tính không mang lại thông tin để phân biệt các lớp\n",
    "\n",
    "B. Thuộc tính là quan trọng nhất\n",
    "\n",
    "C. Thuộc tính này có thể loại bỏ trong quá trình huấn luyện\n",
    "\n",
    "D. Thuộc tính gây overfitting\n",
    "\n",
    "Đáp án: A."
   ]
  }
 ],
 "metadata": {
  "colab": {
   "collapsed_sections": [
    "U0xUcz0fAoDe",
    "UXAStm43AoDf",
    "ZQG97m9RAoDf",
    "VWvZnMkyAoDg",
    "w80XHiVYAoDi",
    "aW4lkiqWAoDi",
    "8nfDCuecAoDj",
    "hMR-Q6BxAoDk",
    "_ColgULcAoDk"
   ],
   "provenance": []
  },
  "kernelspec": {
   "display_name": "base",
   "language": "python",
   "name": "python3"
  },
  "language_info": {
   "codemirror_mode": {
    "name": "ipython",
    "version": 3
   },
   "file_extension": ".py",
   "mimetype": "text/x-python",
   "name": "python",
   "nbconvert_exporter": "python",
   "pygments_lexer": "ipython3",
   "version": "3.11.7"
  }
 },
 "nbformat": 4,
 "nbformat_minor": 0
}
