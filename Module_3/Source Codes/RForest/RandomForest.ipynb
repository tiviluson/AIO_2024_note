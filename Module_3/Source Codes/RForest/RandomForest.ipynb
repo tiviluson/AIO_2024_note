{
 "cells": [
  {
   "cell_type": "markdown",
   "metadata": {
    "id": "liwiTA3pAB8V"
   },
   "source": [
    "Trong bài toán này, chúng ta sẽ được cho một bộ dataset mô tả thông tin về nhân viên trong một công ty, bao gồm các features liên quan đến nhân viên và mức lương của họ. Nhiệm vụ của chúng ta là phân tích, xử lí bộ data dưới đây và trả lời các câu hỏi yêu cầu người làm phải thực hiện coding.  \n",
    "[employee_data.csv](https://drive.google.com/file/d/1WkVx5tinsxuU3SnIwLNiYU7X2Sqo3vgG/view?usp=sharing)"
   ]
  },
  {
   "cell_type": "markdown",
   "metadata": {
    "id": "M_gll8l5AEaW"
   },
   "source": [
    "## **Thực hiện các yêu cầu sau đây**\n",
    "1. **Đọc dữ liệu**  \n",
    "Sử dụng pandas, đọc file csv được cung cấp, sau đó hiển thị ra màn hỉnh để hiểu các trường dữ liệu.\n",
    "2. **Label Encoding**  \n",
    "Chuyển đổi các cột dữ liệu dạng chữ (cụ thể là cột \"Gender\" và \"Position\") sang dạng số bằng cách sử dụng `LabelEncoder` từ thư viện `sklearn`.  \n",
    "3. **Tách dữ liệu thành bộ feature (X) và label (y)**\n",
    "- Sử dụng các cột \"Gender\", \"Experience (Years)\" và \"Position\" làm features đầu vào (`X`).\n",
    "- Sử dụng cột \"Salary\" làm biến đầu ra (`y`).  \n",
    "4. **Tách tập dữ liệu thành tập train và test**  \n",
    "- Chia dữ liệu thành tập huấn luyện (`X_train`, `y_train`) và tập kiểm tra (`X_test`, `y_test`) với tỷ lệ `80:20`.\n",
    "- Đảm bảo rằng việc chia tách dữ liệu là ngẫu nhiên nhưng tái lập (reproducibility) được với `random_state=42`"
   ]
  },
  {
   "cell_type": "markdown",
   "metadata": {
    "id": "96EAQLSb7Jzx"
   },
   "source": [
    "# Thư viện"
   ]
  },
  {
   "cell_type": "code",
   "execution_count": 1,
   "metadata": {
    "id": "9nyNoQde4X04"
   },
   "outputs": [],
   "source": [
    "# Các thư viện cần thiết\n",
    "import pandas as pd\n",
    "import matplotlib.pyplot as plt\n",
    "import seaborn as sns\n",
    "\n",
    "from sklearn.ensemble import RandomForestRegressor\n",
    "\n",
    "from sklearn.model_selection import train_test_split\n",
    "from sklearn.preprocessing import LabelEncoder\n",
    "from sklearn.metrics import mean_squared_error, mean_absolute_error, r2_score\n",
    "\n",
    "from sklearn.model_selection import GridSearchCV\n",
    "from sklearn.model_selection import RandomizedSearchCV"
   ]
  },
  {
   "cell_type": "markdown",
   "metadata": {
    "id": "vac0NAPB7MUa"
   },
   "source": [
    "# Tải và đọc dữ liệu"
   ]
  },
  {
   "cell_type": "code",
   "execution_count": 2,
   "metadata": {
    "colab": {
     "base_uri": "https://localhost:8080/"
    },
    "executionInfo": {
     "elapsed": 5838,
     "status": "ok",
     "timestamp": 1727515524854,
     "user": {
      "displayName": "Trường Bình Dương",
      "userId": "07189696084357422866"
     },
     "user_tz": -420
    },
    "id": "h9dX7r-B4afp",
    "outputId": "d876cf24-5989-4125-c9d3-eb93c25f91b8"
   },
   "outputs": [
    {
     "name": "stderr",
     "output_type": "stream",
     "text": [
      "Downloading...\n",
      "From: https://drive.google.com/uc?id=1WkVx5tinsxuU3SnIwLNiYU7X2Sqo3vgG\n",
      "To: c:\\Users\\admin\\OneDrive\\Máy tính\\Exam_AIO2024\\AIO_2024_note\\Module_3\\Source Codes\\RForest\\employee_data.csv\n",
      "\n",
      "  0%|          | 0.00/14.2k [00:00<?, ?B/s]\n",
      "100%|██████████| 14.2k/14.2k [00:00<00:00, 1.19MB/s]\n"
     ]
    }
   ],
   "source": [
    "# Tải dữ liệu\n",
    "# https://drive.google.com/file/d/1WkVx5tinsxuU3SnIwLNiYU7X2Sqo3vgG/view?usp=sharing\n",
    "!gdown 1WkVx5tinsxuU3SnIwLNiYU7X2Sqo3vgG"
   ]
  },
  {
   "cell_type": "code",
   "execution_count": 3,
   "metadata": {
    "colab": {
     "base_uri": "https://localhost:8080/",
     "height": 206
    },
    "executionInfo": {
     "elapsed": 10,
     "status": "ok",
     "timestamp": 1727515524855,
     "user": {
      "displayName": "Trường Bình Dương",
      "userId": "07189696084357422866"
     },
     "user_tz": -420
    },
    "id": "FoCr7jju5HUM",
    "outputId": "61df9c94-ca85-46ab-fdfd-66fc975b908a"
   },
   "outputs": [
    {
     "data": {
      "text/html": [
       "<div>\n",
       "<style scoped>\n",
       "    .dataframe tbody tr th:only-of-type {\n",
       "        vertical-align: middle;\n",
       "    }\n",
       "\n",
       "    .dataframe tbody tr th {\n",
       "        vertical-align: top;\n",
       "    }\n",
       "\n",
       "    .dataframe thead th {\n",
       "        text-align: right;\n",
       "    }\n",
       "</style>\n",
       "<table border=\"1\" class=\"dataframe\">\n",
       "  <thead>\n",
       "    <tr style=\"text-align: right;\">\n",
       "      <th></th>\n",
       "      <th>ID</th>\n",
       "      <th>Gender</th>\n",
       "      <th>Experience (Years)</th>\n",
       "      <th>Position</th>\n",
       "      <th>Salary</th>\n",
       "    </tr>\n",
       "  </thead>\n",
       "  <tbody>\n",
       "    <tr>\n",
       "      <th>0</th>\n",
       "      <td>1</td>\n",
       "      <td>F</td>\n",
       "      <td>4</td>\n",
       "      <td>DevOps Engineer</td>\n",
       "      <td>109976</td>\n",
       "    </tr>\n",
       "    <tr>\n",
       "      <th>1</th>\n",
       "      <td>2</td>\n",
       "      <td>M</td>\n",
       "      <td>6</td>\n",
       "      <td>DevOps Engineer</td>\n",
       "      <td>120088</td>\n",
       "    </tr>\n",
       "    <tr>\n",
       "      <th>2</th>\n",
       "      <td>3</td>\n",
       "      <td>M</td>\n",
       "      <td>17</td>\n",
       "      <td>Web Developer</td>\n",
       "      <td>181301</td>\n",
       "    </tr>\n",
       "    <tr>\n",
       "      <th>3</th>\n",
       "      <td>4</td>\n",
       "      <td>M</td>\n",
       "      <td>7</td>\n",
       "      <td>Systems Administrator</td>\n",
       "      <td>77530</td>\n",
       "    </tr>\n",
       "    <tr>\n",
       "      <th>4</th>\n",
       "      <td>5</td>\n",
       "      <td>F</td>\n",
       "      <td>13</td>\n",
       "      <td>Systems Administrator</td>\n",
       "      <td>152397</td>\n",
       "    </tr>\n",
       "  </tbody>\n",
       "</table>\n",
       "</div>"
      ],
      "text/plain": [
       "   ID Gender  Experience (Years)               Position  Salary\n",
       "0   1      F                   4        DevOps Engineer  109976\n",
       "1   2      M                   6        DevOps Engineer  120088\n",
       "2   3      M                  17          Web Developer  181301\n",
       "3   4      M                   7  Systems Administrator   77530\n",
       "4   5      F                  13  Systems Administrator  152397"
      ]
     },
     "execution_count": 3,
     "metadata": {},
     "output_type": "execute_result"
    }
   ],
   "source": [
    "# Đọc dữ liệu\n",
    "data = pd.read_csv('employee_data.csv')\n",
    "data.head()"
   ]
  },
  {
   "cell_type": "code",
   "execution_count": 4,
   "metadata": {
    "colab": {
     "base_uri": "https://localhost:8080/",
     "height": 300
    },
    "executionInfo": {
     "elapsed": 569,
     "status": "ok",
     "timestamp": 1727515525418,
     "user": {
      "displayName": "Trường Bình Dương",
      "userId": "07189696084357422866"
     },
     "user_tz": -420
    },
    "id": "mcI5Xe8G5mjz",
    "outputId": "db25b267-915b-44e7-f84a-7b23241f3e4b"
   },
   "outputs": [
    {
     "data": {
      "text/html": [
       "<div>\n",
       "<style scoped>\n",
       "    .dataframe tbody tr th:only-of-type {\n",
       "        vertical-align: middle;\n",
       "    }\n",
       "\n",
       "    .dataframe tbody tr th {\n",
       "        vertical-align: top;\n",
       "    }\n",
       "\n",
       "    .dataframe thead th {\n",
       "        text-align: right;\n",
       "    }\n",
       "</style>\n",
       "<table border=\"1\" class=\"dataframe\">\n",
       "  <thead>\n",
       "    <tr style=\"text-align: right;\">\n",
       "      <th></th>\n",
       "      <th>ID</th>\n",
       "      <th>Experience (Years)</th>\n",
       "      <th>Salary</th>\n",
       "    </tr>\n",
       "  </thead>\n",
       "  <tbody>\n",
       "    <tr>\n",
       "      <th>count</th>\n",
       "      <td>400.000000</td>\n",
       "      <td>400.000000</td>\n",
       "      <td>400.00000</td>\n",
       "    </tr>\n",
       "    <tr>\n",
       "      <th>mean</th>\n",
       "      <td>200.500000</td>\n",
       "      <td>9.670000</td>\n",
       "      <td>131701.19750</td>\n",
       "    </tr>\n",
       "    <tr>\n",
       "      <th>std</th>\n",
       "      <td>115.614301</td>\n",
       "      <td>6.101571</td>\n",
       "      <td>43351.50899</td>\n",
       "    </tr>\n",
       "    <tr>\n",
       "      <th>min</th>\n",
       "      <td>1.000000</td>\n",
       "      <td>0.000000</td>\n",
       "      <td>43643.00000</td>\n",
       "    </tr>\n",
       "    <tr>\n",
       "      <th>25%</th>\n",
       "      <td>100.750000</td>\n",
       "      <td>4.000000</td>\n",
       "      <td>100484.75000</td>\n",
       "    </tr>\n",
       "    <tr>\n",
       "      <th>50%</th>\n",
       "      <td>200.500000</td>\n",
       "      <td>10.000000</td>\n",
       "      <td>128561.50000</td>\n",
       "    </tr>\n",
       "    <tr>\n",
       "      <th>75%</th>\n",
       "      <td>300.250000</td>\n",
       "      <td>15.000000</td>\n",
       "      <td>157735.00000</td>\n",
       "    </tr>\n",
       "    <tr>\n",
       "      <th>max</th>\n",
       "      <td>400.000000</td>\n",
       "      <td>20.000000</td>\n",
       "      <td>269950.00000</td>\n",
       "    </tr>\n",
       "  </tbody>\n",
       "</table>\n",
       "</div>"
      ],
      "text/plain": [
       "               ID  Experience (Years)        Salary\n",
       "count  400.000000          400.000000     400.00000\n",
       "mean   200.500000            9.670000  131701.19750\n",
       "std    115.614301            6.101571   43351.50899\n",
       "min      1.000000            0.000000   43643.00000\n",
       "25%    100.750000            4.000000  100484.75000\n",
       "50%    200.500000           10.000000  128561.50000\n",
       "75%    300.250000           15.000000  157735.00000\n",
       "max    400.000000           20.000000  269950.00000"
      ]
     },
     "execution_count": 4,
     "metadata": {},
     "output_type": "execute_result"
    }
   ],
   "source": [
    "data.describe()"
   ]
  },
  {
   "cell_type": "code",
   "execution_count": 5,
   "metadata": {
    "colab": {
     "base_uri": "https://localhost:8080/"
    },
    "executionInfo": {
     "elapsed": 32,
     "status": "ok",
     "timestamp": 1727515525418,
     "user": {
      "displayName": "Trường Bình Dương",
      "userId": "07189696084357422866"
     },
     "user_tz": -420
    },
    "id": "xl2n4dzG5Oq9",
    "outputId": "55ffca35-eedf-435d-ac76-2dea8f70c8f8"
   },
   "outputs": [
    {
     "name": "stdout",
     "output_type": "stream",
     "text": [
      "<class 'pandas.core.frame.DataFrame'>\n",
      "RangeIndex: 400 entries, 0 to 399\n",
      "Data columns (total 5 columns):\n",
      " #   Column              Non-Null Count  Dtype \n",
      "---  ------              --------------  ----- \n",
      " 0   ID                  400 non-null    int64 \n",
      " 1   Gender              400 non-null    object\n",
      " 2   Experience (Years)  400 non-null    int64 \n",
      " 3   Position            400 non-null    object\n",
      " 4   Salary              400 non-null    int64 \n",
      "dtypes: int64(3), object(2)\n",
      "memory usage: 15.8+ KB\n"
     ]
    }
   ],
   "source": [
    "data.info()"
   ]
  },
  {
   "cell_type": "markdown",
   "metadata": {
    "id": "vrM5p81m7H4x"
   },
   "source": [
    "# Tiền xử lý"
   ]
  },
  {
   "cell_type": "code",
   "execution_count": 6,
   "metadata": {
    "id": "tYOjxepD5V0K"
   },
   "outputs": [],
   "source": [
    "# Mã hóa giới tính và vị trí công việc\n",
    "label_encoder_gender = LabelEncoder()\n",
    "label_encoder_position = LabelEncoder()\n",
    "\n",
    "data['Gender'] = label_encoder_gender.fit_transform(data['Gender'])\n",
    "data['Position'] = label_encoder_position.fit_transform(data['Position'])\n",
    "\n",
    "X = data.drop(columns=['ID', 'Salary'])\n",
    "y = data['Salary']"
   ]
  },
  {
   "cell_type": "code",
   "execution_count": 7,
   "metadata": {
    "colab": {
     "base_uri": "https://localhost:8080/"
    },
    "executionInfo": {
     "elapsed": 22,
     "status": "ok",
     "timestamp": 1727515525418,
     "user": {
      "displayName": "Trường Bình Dương",
      "userId": "07189696084357422866"
     },
     "user_tz": -420
    },
    "id": "K7MgppFI7lUj",
    "outputId": "3535ca19-0f9b-403d-d3b5-54ed235b77d3"
   },
   "outputs": [
    {
     "name": "stdout",
     "output_type": "stream",
     "text": [
      "   Gender  Experience (Years)  Position\n",
      "0       0                   4         2\n",
      "1       1                   6         2\n",
      "2       1                  17        10\n",
      "3       1                   7         8\n",
      "4       0                  13         8\n"
     ]
    }
   ],
   "source": [
    "print(X.head())"
   ]
  },
  {
   "cell_type": "code",
   "execution_count": 8,
   "metadata": {
    "colab": {
     "base_uri": "https://localhost:8080/"
    },
    "executionInfo": {
     "elapsed": 16,
     "status": "ok",
     "timestamp": 1727515525418,
     "user": {
      "displayName": "Trường Bình Dương",
      "userId": "07189696084357422866"
     },
     "user_tz": -420
    },
    "id": "X-PRslLX7mzI",
    "outputId": "42ad5adb-f906-4b81-858b-03c7f3596559"
   },
   "outputs": [
    {
     "name": "stdout",
     "output_type": "stream",
     "text": [
      "0    109976\n",
      "1    120088\n",
      "2    181301\n",
      "3     77530\n",
      "4    152397\n",
      "Name: Salary, dtype: int64\n"
     ]
    }
   ],
   "source": [
    "print(y.head())"
   ]
  },
  {
   "cell_type": "code",
   "execution_count": 9,
   "metadata": {
    "colab": {
     "base_uri": "https://localhost:8080/"
    },
    "executionInfo": {
     "elapsed": 12,
     "status": "ok",
     "timestamp": 1727515525419,
     "user": {
      "displayName": "Trường Bình Dương",
      "userId": "07189696084357422866"
     },
     "user_tz": -420
    },
    "id": "p3KQt5pB7qCO",
    "outputId": "12c9ca89-7cbc-42c6-9086-5a371f19264c"
   },
   "outputs": [
    {
     "data": {
      "text/plain": [
       "((320, 3), (320,), (80, 3), (80,))"
      ]
     },
     "execution_count": 9,
     "metadata": {},
     "output_type": "execute_result"
    }
   ],
   "source": [
    "# Chia tập dữ liệu thành tập train và test với tỉ lệ (80% train, 20% test)\n",
    "X_train, X_test, y_train, y_test = train_test_split(X, y, test_size=0.2, random_state=42)\n",
    "X_train.shape, y_train.shape, X_test.shape, y_test.shape"
   ]
  },
  {
   "cell_type": "markdown",
   "metadata": {
    "id": "E2KIDOE-7r-S"
   },
   "source": [
    "# Khởi tạo các tham số của mô hình Random Forest"
   ]
  },
  {
   "cell_type": "code",
   "execution_count": 10,
   "metadata": {
    "id": "q-CutRpQ8Ie2"
   },
   "outputs": [],
   "source": [
    "# Định nghĩa các tham số cho mô hình Random Forest\n",
    "params = {\n",
    "    'n_estimators': 50,         # Số lượng cây trong rừng\n",
    "    # 'max_depth': 3,             # Độ sâu tối đa của mỗi cây\n",
    "    # 'min_samples_split': 2,     # Số lượng mẫu tối thiểu để chia nhánh\n",
    "    # 'min_samples_leaf': 1,      # Số lượng mẫu tối thiểu tại mỗi nút lá\n",
    "    'random_state': 42          # Giá trị ngẫu nhiên để đảm bảo kết quả lặp lại\n",
    "}"
   ]
  },
  {
   "cell_type": "markdown",
   "metadata": {
    "id": "MXuDSuNu8KgJ"
   },
   "source": [
    "# Huấn luyện mô hình Random Forest"
   ]
  },
  {
   "cell_type": "code",
   "execution_count": 11,
   "metadata": {
    "colab": {
     "base_uri": "https://localhost:8080/",
     "height": 80
    },
    "executionInfo": {
     "elapsed": 8,
     "status": "ok",
     "timestamp": 1727515526158,
     "user": {
      "displayName": "Trường Bình Dương",
      "userId": "07189696084357422866"
     },
     "user_tz": -420
    },
    "id": "UL3Ks-O38MD_",
    "outputId": "d245855f-f6a8-45b4-d1eb-a05c82a24c31"
   },
   "outputs": [
    {
     "data": {
      "text/html": [
       "<style>#sk-container-id-1 {color: black;background-color: white;}#sk-container-id-1 pre{padding: 0;}#sk-container-id-1 div.sk-toggleable {background-color: white;}#sk-container-id-1 label.sk-toggleable__label {cursor: pointer;display: block;width: 100%;margin-bottom: 0;padding: 0.3em;box-sizing: border-box;text-align: center;}#sk-container-id-1 label.sk-toggleable__label-arrow:before {content: \"▸\";float: left;margin-right: 0.25em;color: #696969;}#sk-container-id-1 label.sk-toggleable__label-arrow:hover:before {color: black;}#sk-container-id-1 div.sk-estimator:hover label.sk-toggleable__label-arrow:before {color: black;}#sk-container-id-1 div.sk-toggleable__content {max-height: 0;max-width: 0;overflow: hidden;text-align: left;background-color: #f0f8ff;}#sk-container-id-1 div.sk-toggleable__content pre {margin: 0.2em;color: black;border-radius: 0.25em;background-color: #f0f8ff;}#sk-container-id-1 input.sk-toggleable__control:checked~div.sk-toggleable__content {max-height: 200px;max-width: 100%;overflow: auto;}#sk-container-id-1 input.sk-toggleable__control:checked~label.sk-toggleable__label-arrow:before {content: \"▾\";}#sk-container-id-1 div.sk-estimator input.sk-toggleable__control:checked~label.sk-toggleable__label {background-color: #d4ebff;}#sk-container-id-1 div.sk-label input.sk-toggleable__control:checked~label.sk-toggleable__label {background-color: #d4ebff;}#sk-container-id-1 input.sk-hidden--visually {border: 0;clip: rect(1px 1px 1px 1px);clip: rect(1px, 1px, 1px, 1px);height: 1px;margin: -1px;overflow: hidden;padding: 0;position: absolute;width: 1px;}#sk-container-id-1 div.sk-estimator {font-family: monospace;background-color: #f0f8ff;border: 1px dotted black;border-radius: 0.25em;box-sizing: border-box;margin-bottom: 0.5em;}#sk-container-id-1 div.sk-estimator:hover {background-color: #d4ebff;}#sk-container-id-1 div.sk-parallel-item::after {content: \"\";width: 100%;border-bottom: 1px solid gray;flex-grow: 1;}#sk-container-id-1 div.sk-label:hover label.sk-toggleable__label {background-color: #d4ebff;}#sk-container-id-1 div.sk-serial::before {content: \"\";position: absolute;border-left: 1px solid gray;box-sizing: border-box;top: 0;bottom: 0;left: 50%;z-index: 0;}#sk-container-id-1 div.sk-serial {display: flex;flex-direction: column;align-items: center;background-color: white;padding-right: 0.2em;padding-left: 0.2em;position: relative;}#sk-container-id-1 div.sk-item {position: relative;z-index: 1;}#sk-container-id-1 div.sk-parallel {display: flex;align-items: stretch;justify-content: center;background-color: white;position: relative;}#sk-container-id-1 div.sk-item::before, #sk-container-id-1 div.sk-parallel-item::before {content: \"\";position: absolute;border-left: 1px solid gray;box-sizing: border-box;top: 0;bottom: 0;left: 50%;z-index: -1;}#sk-container-id-1 div.sk-parallel-item {display: flex;flex-direction: column;z-index: 1;position: relative;background-color: white;}#sk-container-id-1 div.sk-parallel-item:first-child::after {align-self: flex-end;width: 50%;}#sk-container-id-1 div.sk-parallel-item:last-child::after {align-self: flex-start;width: 50%;}#sk-container-id-1 div.sk-parallel-item:only-child::after {width: 0;}#sk-container-id-1 div.sk-dashed-wrapped {border: 1px dashed gray;margin: 0 0.4em 0.5em 0.4em;box-sizing: border-box;padding-bottom: 0.4em;background-color: white;}#sk-container-id-1 div.sk-label label {font-family: monospace;font-weight: bold;display: inline-block;line-height: 1.2em;}#sk-container-id-1 div.sk-label-container {text-align: center;}#sk-container-id-1 div.sk-container {/* jupyter's `normalize.less` sets `[hidden] { display: none; }` but bootstrap.min.css set `[hidden] { display: none !important; }` so we also need the `!important` here to be able to override the default hidden behavior on the sphinx rendered scikit-learn.org. See: https://github.com/scikit-learn/scikit-learn/issues/21755 */display: inline-block !important;position: relative;}#sk-container-id-1 div.sk-text-repr-fallback {display: none;}</style><div id=\"sk-container-id-1\" class=\"sk-top-container\"><div class=\"sk-text-repr-fallback\"><pre>RandomForestRegressor(n_estimators=50, random_state=42)</pre><b>In a Jupyter environment, please rerun this cell to show the HTML representation or trust the notebook. <br />On GitHub, the HTML representation is unable to render, please try loading this page with nbviewer.org.</b></div><div class=\"sk-container\" hidden><div class=\"sk-item\"><div class=\"sk-estimator sk-toggleable\"><input class=\"sk-toggleable__control sk-hidden--visually\" id=\"sk-estimator-id-1\" type=\"checkbox\" checked><label for=\"sk-estimator-id-1\" class=\"sk-toggleable__label sk-toggleable__label-arrow\">RandomForestRegressor</label><div class=\"sk-toggleable__content\"><pre>RandomForestRegressor(n_estimators=50, random_state=42)</pre></div></div></div></div></div>"
      ],
      "text/plain": [
       "RandomForestRegressor(n_estimators=50, random_state=42)"
      ]
     },
     "execution_count": 11,
     "metadata": {},
     "output_type": "execute_result"
    }
   ],
   "source": [
    "# Huấn luyện mô hình\n",
    "model = RandomForestRegressor(**params)  # Khởi tạo mô hình Random Forest với các tham số đã định nghĩa\n",
    "model.fit(X_train, y_train)  # Huấn luyện mô hình trên tập huấn luyện"
   ]
  },
  {
   "cell_type": "code",
   "execution_count": 12,
   "metadata": {
    "id": "Pqw6cEAY8Oq6"
   },
   "outputs": [],
   "source": [
    "# Dự đoán trên tập test\n",
    "y_pred = model.predict(X_test)  # Dự đoán giá trị trên tập test dựa trên mô hình đã huấn luyện"
   ]
  },
  {
   "cell_type": "markdown",
   "metadata": {
    "id": "fhTExz588QAp"
   },
   "source": [
    "# Đánh giá mô hình Random Forest"
   ]
  },
  {
   "cell_type": "code",
   "execution_count": 13,
   "metadata": {
    "colab": {
     "base_uri": "https://localhost:8080/"
    },
    "executionInfo": {
     "elapsed": 12,
     "status": "ok",
     "timestamp": 1727515526668,
     "user": {
      "displayName": "Trường Bình Dương",
      "userId": "07189696084357422866"
     },
     "user_tz": -420
    },
    "id": "ni0qHKsn8TRP",
    "outputId": "4678246c-5a7d-4d7a-f0fa-5974bef31724"
   },
   "outputs": [
    {
     "name": "stdout",
     "output_type": "stream",
     "text": [
      "MSE: 827087272.7854073\n",
      "R-squared: 0.5572421510566792\n"
     ]
    }
   ],
   "source": [
    "# Đánh giá mô hình với MSE và R2\n",
    "origin_mse = mean_squared_error(y_test, y_pred)\n",
    "origin_r2 = r2_score(y_test, y_pred)\n",
    "\n",
    "print(f'MSE: {origin_mse}')\n",
    "print(f'R-squared: {origin_r2}')"
   ]
  },
  {
   "cell_type": "markdown",
   "metadata": {
    "id": "-l61hzQRSdCQ"
   },
   "source": [
    "### Thử nghiệm Number of Trees (n_estimators)"
   ]
  },
  {
   "cell_type": "code",
   "execution_count": 14,
   "metadata": {
    "colab": {
     "base_uri": "https://localhost:8080/"
    },
    "executionInfo": {
     "elapsed": 2469,
     "status": "ok",
     "timestamp": 1727515529129,
     "user": {
      "displayName": "Trường Bình Dương",
      "userId": "07189696084357422866"
     },
     "user_tz": -420
    },
    "id": "u-MJcYlMSg8S",
    "outputId": "3147b293-63f6-44f7-d233-8ab581d14b7e"
   },
   "outputs": [
    {
     "name": "stdout",
     "output_type": "stream",
     "text": [
      "10 trees, R^2 Score: 0.5630, MSE: 816412296.1290\n",
      "20 trees, R^2 Score: 0.5673, MSE: 808325351.4423\n",
      "50 trees, R^2 Score: 0.5572, MSE: 827087272.7854\n",
      "100 trees, R^2 Score: 0.5541, MSE: 833009696.9098\n",
      "\n",
      "Best number of trees: 20 with MSE: 808325351.4423\n"
     ]
    }
   ],
   "source": [
    "min_mse = float('inf')\n",
    "best_n_trees = 0\n",
    "\n",
    "for n_trees in [10, 20, 50, 100]:\n",
    "    rf_model = RandomForestRegressor(n_estimators=n_trees, random_state=42)\n",
    "    rf_model.fit(X_train, y_train)\n",
    "    prediction = rf_model.predict(X_test)\n",
    "    mse = mean_squared_error(y_test, prediction)\n",
    "    r2 = r2_score(y_test, prediction)\n",
    "    print(f'{n_trees} trees, R^2 Score: {r2:.4f}, MSE: {mse:.4f}')\n",
    "\n",
    "    if mse < min_mse:\n",
    "        min_mse = mse\n",
    "        best_n_trees = n_trees\n",
    "\n",
    "print(f'\\nBest number of trees: {best_n_trees} with MSE: {min_mse:.4f}')"
   ]
  },
  {
   "cell_type": "markdown",
   "metadata": {
    "id": "gqff69dUYzXu"
   },
   "source": [
    "## Tree Depth (Độ sâu của cây)"
   ]
  },
  {
   "cell_type": "code",
   "execution_count": 15,
   "metadata": {
    "colab": {
     "base_uri": "https://localhost:8080/"
    },
    "executionInfo": {
     "elapsed": 6283,
     "status": "ok",
     "timestamp": 1727515535405,
     "user": {
      "displayName": "Trường Bình Dương",
      "userId": "07189696084357422866"
     },
     "user_tz": -420
    },
    "id": "LXB6zWOgYMle",
    "outputId": "2a59c062-261d-42e2-e8f7-588f68b80533"
   },
   "outputs": [
    {
     "name": "stdout",
     "output_type": "stream",
     "text": [
      "Max Depth 1, R^2 Score: 0.4078, MSE: 1106206160.4543\n",
      "Max Depth 2, R^2 Score: 0.5754, MSE: 793159725.1288\n",
      "Max Depth 3, R^2 Score: 0.6273, MSE: 696285217.0212\n",
      "Max Depth 4, R^2 Score: 0.6431, MSE: 666786934.1791\n",
      "Max Depth 5, R^2 Score: 0.6507, MSE: 652425054.1957\n",
      "Max Depth 6, R^2 Score: 0.6376, MSE: 676956494.2709\n",
      "Max Depth 7, R^2 Score: 0.6134, MSE: 722183057.7126\n",
      "Max Depth 8, R^2 Score: 0.5859, MSE: 773566420.4845\n",
      "Max Depth 9, R^2 Score: 0.5698, MSE: 803670730.0819\n",
      "Max Depth 10, R^2 Score: 0.5571, MSE: 827439285.5817\n",
      "\n",
      "Best depth: 5 with MSE: 652425054.1957\n"
     ]
    }
   ],
   "source": [
    "min_mse = float('inf')\n",
    "best_depth = 0\n",
    "\n",
    "for depth in range(1,11):\n",
    "    rf_model = RandomForestRegressor(n_estimators=100, max_depth=depth, random_state=42)\n",
    "    rf_model.fit(X_train, y_train)\n",
    "    prediction = rf_model.predict(X_test)\n",
    "    mse = mean_squared_error(y_test, prediction)\n",
    "    r2 = r2_score(y_test, prediction)\n",
    "    print(f'Max Depth {depth}, R^2 Score: {r2:.4f}, MSE: {mse:.4f}')\n",
    "\n",
    "    if mse < min_mse:\n",
    "        min_mse = mse\n",
    "        best_depth = depth\n",
    "\n",
    "print(f'\\nBest depth: {best_depth} with MSE: {min_mse:.4f}')"
   ]
  }
 ],
 "metadata": {
  "colab": {
   "provenance": []
  },
  "kernelspec": {
   "display_name": "base",
   "language": "python",
   "name": "python3"
  },
  "language_info": {
   "codemirror_mode": {
    "name": "ipython",
    "version": 3
   },
   "file_extension": ".py",
   "mimetype": "text/x-python",
   "name": "python",
   "nbconvert_exporter": "python",
   "pygments_lexer": "ipython3",
   "version": "3.11.7"
  }
 },
 "nbformat": 4,
 "nbformat_minor": 0
}
