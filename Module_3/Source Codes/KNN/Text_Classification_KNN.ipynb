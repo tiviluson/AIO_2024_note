{
 "cells": [
  {
   "cell_type": "code",
   "execution_count": 66,
   "id": "9157c752",
   "metadata": {
    "id": "9157c752"
   },
   "outputs": [],
   "source": [
    "import sklearn\n",
    "from sklearn.neighbors import KNeighborsClassifier\n",
    "from sklearn.feature_extraction.text import CountVectorizer\n",
    "import numpy as np\n",
    "import pandas as pd"
   ]
  },
  {
   "cell_type": "markdown",
   "id": "sm03a8C_k1mQ",
   "metadata": {
    "id": "sm03a8C_k1mQ"
   },
   "source": [
    "# **Text Classification**"
   ]
  },
  {
   "cell_type": "markdown",
   "id": "jLdyoq9rjyNv",
   "metadata": {
    "id": "jLdyoq9rjyNv"
   },
   "source": [
    "### **Mô tả bài toán với dữ liệu text**\n",
    "\n",
    "Trong phần này, chúng ta sẽ xử lý một tập hợp các câu đánh giá phim và chuyển đổi nó thành định dạng vector bằng `CountVectorizer`. Sự chuyển đổi này rất cần thiết để chuẩn bị dữ liệu văn bản cho các mô hình Machine Learning. Sau đây là quy trình từng bước chuyển đổi:\n",
    "\n",
    "**Bộ dữ liệu text - corpus**\n",
    "\n",
    "Chúng ta bắt đầu với một bộ data nhỏ các câu đánh giá phim, mà chúng ta gọi là **corpus**. Corpus chứa 6 câu đánh giá khác nhau:\n",
    "\n",
    "```python\n",
    "corpus = [\"a very good movie\",\n",
    "          \"this movie is excellent\",\n",
    "          \"very good and excellent\",\n",
    "          \"the movie is bad\",\n",
    "          \"poor and boring plot\",\n",
    "          \"bad and boring movie\"]\n"
   ]
  },
  {
   "cell_type": "markdown",
   "id": "tyeWB1ovycR9",
   "metadata": {
    "id": "tyeWB1ovycR9"
   },
   "source": [
    "|       Các văn bản       | Nhãn |\n",
    "|:-----------------------:|------|\n",
    "| a very good movie       | 1    |\n",
    "| this movie is excellent | 1    |\n",
    "| very good and excellent | 1    |\n",
    "| the movie is bad        | 0    |\n",
    "| poor and boring plot    | 0    |\n",
    "| bad and boring movie    | 0    |"
   ]
  },
  {
   "cell_type": "markdown",
   "id": "A18wpZG9okE4",
   "metadata": {
    "id": "A18wpZG9okE4"
   },
   "source": [
    "## Tạo đặc trưng"
   ]
  },
  {
   "cell_type": "code",
   "execution_count": 67,
   "id": "szkMwNupkR9d",
   "metadata": {
    "id": "szkMwNupkR9d"
   },
   "outputs": [],
   "source": [
    "# 1. Tạo tập dữ liệu văn bản\n",
    "corpus = [\"a very good movie\",\n",
    "          \"this movie is excellent\",\n",
    "          \"very good and excellent\",\n",
    "          \"the movie is bad\",\n",
    "          \"poor and boring plot\",\n",
    "          \"very boring and bad plot\"]"
   ]
  },
  {
   "cell_type": "markdown",
   "id": "A13tLikUkNS8",
   "metadata": {
    "id": "A13tLikUkNS8"
   },
   "source": [
    "**Vectorization**\n",
    "\n",
    "Chúng ta sử dụng CountVectorizer để chuyển đổi dữ liệu văn bản thành một ma trận, trong đó mỗi cột tương ứng với một từ trong bộ từ vựng và mỗi hàng đại diện cho một văn bản. Mỗi giá trị trong ma trận thể hiện số lần từ đó xuất hiện trong văn bản tương ứng.\n",
    "\n",
    "*Ví dụ:* Câu đầu tiên là: \"a very good movie\" được thể hiện bằng vector `[0 0 0 0 1 0 1 0 0 0 0 1]` tức là đối với câu thứ nhất, có 1 từ ở index 4, 6, 11 trong bộ từ vựng vocab."
   ]
  },
  {
   "cell_type": "code",
   "execution_count": 68,
   "id": "de28ae11",
   "metadata": {
    "id": "de28ae11"
   },
   "outputs": [],
   "source": [
    "# 2. Biến đổi văn bản thành dạng ma trận tần suất từ\n",
    "vectorizer = CountVectorizer()\n",
    "X = vectorizer.fit_transform(corpus)\n",
    "\n",
    "# 3. Tạo nhãn dữ liệu\n",
    "y_data = np.array([1, 1, 1, 0, 0, 0])"
   ]
  },
  {
   "cell_type": "code",
   "execution_count": 69,
   "id": "BhoCBPkTul0j",
   "metadata": {
    "colab": {
     "base_uri": "https://localhost:8080/"
    },
    "executionInfo": {
     "elapsed": 9,
     "status": "ok",
     "timestamp": 1727101977641,
     "user": {
      "displayName": "Khôi Nguyễn",
      "userId": "08478801626197708475"
     },
     "user_tz": -420
    },
    "id": "BhoCBPkTul0j",
    "outputId": "aaa41860-d5c6-468f-a74e-2c18041dcb6b"
   },
   "outputs": [
    {
     "name": "stdout",
     "output_type": "stream",
     "text": [
      "['and' 'bad' 'boring' 'excellent' 'good' 'is' 'movie' 'plot' 'poor' 'the'\n",
      " 'this' 'very']\n",
      "Số từ trong từ điển = số feature = 12\n"
     ]
    }
   ],
   "source": [
    "print(vectorizer.get_feature_names_out())\n",
    "print(\"Số từ trong từ điển = số feature =\", len(vectorizer.get_feature_names_out()))\n"
   ]
  },
  {
   "cell_type": "code",
   "execution_count": 70,
   "id": "f4e6bd99",
   "metadata": {
    "colab": {
     "base_uri": "https://localhost:8080/"
    },
    "executionInfo": {
     "elapsed": 8,
     "status": "ok",
     "timestamp": 1727101977641,
     "user": {
      "displayName": "Khôi Nguyễn",
      "userId": "08478801626197708475"
     },
     "user_tz": -420
    },
    "id": "f4e6bd99",
    "outputId": "3865d5d3-5c19-4235-c0c1-ce3e77bab6f2"
   },
   "outputs": [
    {
     "name": "stdout",
     "output_type": "stream",
     "text": [
      "[[0 0 0 0 1 0 1 0 0 0 0 1]\n",
      " [0 0 0 1 0 1 1 0 0 0 1 0]\n",
      " [1 0 0 1 1 0 0 0 0 0 0 1]\n",
      " [0 1 0 0 0 1 1 0 0 1 0 0]\n",
      " [1 0 1 0 0 0 0 1 1 0 0 0]\n",
      " [1 1 1 0 0 0 0 1 0 0 0 1]]\n",
      "[1 1 1 0 0 0]\n"
     ]
    }
   ],
   "source": [
    "X = X.toarray()\n",
    "print(X)\n",
    "print(y_data)"
   ]
  },
  {
   "cell_type": "markdown",
   "id": "kmXfQ42cz4GE",
   "metadata": {
    "id": "kmXfQ42cz4GE"
   },
   "source": [
    "### **Câu 1:** Biết bộ từ điển được sắp xếp theo thứ tự như sau:\n",
    "\n",
    "| and | bad | boring | excellent | good | is | movie | plot | poor | the | this | very |\n",
    "|:---:|-----|:------:|-----------|------|----|-------|------|------|-----|------|------|\n",
    "\n",
    "Vector đặc trưng khi nhận đầu vào là \"movie is very bad\" là?\n",
    "- A. [0, 1, 0, 0, 0, 1, 0, 0, 1, 0, 0, 0]\n",
    "- B. [0, 1, 0, 0, 1, 0, 1, 0, 0, 0, 0, 1]\n",
    "- C. [0, 1, 0, 0, 0, 1, 0, 1, 0, 0, 0, 1]\n",
    "- D. [0, 1, 0, 0, 0, 1, 1, 0, 0, 0, 0, 1]\n",
    "\n",
    "**Đáp án đúng: D**"
   ]
  },
  {
   "cell_type": "code",
   "execution_count": 71,
   "id": "d61f6973",
   "metadata": {
    "colab": {
     "base_uri": "https://localhost:8080/"
    },
    "executionInfo": {
     "elapsed": 8,
     "status": "ok",
     "timestamp": 1727101977641,
     "user": {
      "displayName": "Khôi Nguyễn",
      "userId": "08478801626197708475"
     },
     "user_tz": -420
    },
    "id": "d61f6973",
    "outputId": "1d1a713c-69d2-47ab-f427-0c8371119112"
   },
   "outputs": [
    {
     "data": {
      "text/plain": [
       "array([[0, 1, 0, 0, 0, 1, 1, 0, 0, 0, 0, 1]], dtype=int64)"
      ]
     },
     "execution_count": 71,
     "metadata": {},
     "output_type": "execute_result"
    }
   ],
   "source": [
    "# 4. Dữ liệu thử nghiệm\n",
    "x_test = vectorizer.transform(['movie is very bad']).toarray()\n",
    "x_test"
   ]
  },
  {
   "cell_type": "markdown",
   "id": "12e8a963",
   "metadata": {
    "id": "12e8a963"
   },
   "source": [
    "## Tính khoảng cách\n"
   ]
  },
  {
   "cell_type": "markdown",
   "id": "SMATDj6_2pVD",
   "metadata": {
    "id": "SMATDj6_2pVD"
   },
   "source": [
    "### **Câu 2:** Hãy tính khoảng cách Euclid giữa câu \"**movie is very bad**\" (bạn vừa thực hiện ở câu trước) và câu \"**this movie is excellent**\" trong tập văn bản đã được biến đổi thành ma trận đặc trưng. Khoảng cách Euclid giữa hai câu này bằng?\n",
    "- A. 1.73\n",
    "- B. 2.0\n",
    "- C. 2.45\n",
    "- D. 1.41\n",
    "\n",
    "**Đáp án đúng: B**"
   ]
  },
  {
   "cell_type": "code",
   "execution_count": 72,
   "id": "4cbadfca",
   "metadata": {
    "colab": {
     "base_uri": "https://localhost:8080/"
    },
    "executionInfo": {
     "elapsed": 7,
     "status": "ok",
     "timestamp": 1727101977641,
     "user": {
      "displayName": "Khôi Nguyễn",
      "userId": "08478801626197708475"
     },
     "user_tz": -420
    },
    "id": "4cbadfca",
    "outputId": "c07c1d9c-68bb-4f87-a554-d9759694624c"
   },
   "outputs": [
    {
     "name": "stdout",
     "output_type": "stream",
     "text": [
      "[1.73205081 2.         2.44948974 1.41421356 2.82842712 2.23606798]\n"
     ]
    }
   ],
   "source": [
    "# 5. Tính khoảng cách Euclid\n",
    "distances = np.sqrt(((X - x_test)**2).sum(axis=1))\n",
    "print(distances)"
   ]
  },
  {
   "cell_type": "markdown",
   "id": "thbsWT_e3eHm",
   "metadata": {
    "id": "thbsWT_e3eHm"
   },
   "source": [
    "[\"a very good movie\",\n",
    "          \"this movie is excellent\",\n",
    "          \"very good and excellent\",\n",
    "          \"the movie is bad\",\n",
    "          \"poor and boring plot\", \"poor and bad movie\"]"
   ]
  },
  {
   "cell_type": "markdown",
   "id": "eJap4ohB37lZ",
   "metadata": {
    "id": "eJap4ohB37lZ"
   },
   "source": [
    "### **Câu 3:** Top 3 câu có khoảng cách gần nhất với câu \"**movie is very bad**\" là?\n",
    "\n",
    "- A. \"a very good movie\", \"this movie is excellent\", \"very good and excellent\"\n",
    "- B. \"poor and bad movie\", \"poor and boring plot\", \"bad and boring movie\"\n",
    "- C. \"this movie is excellent\", \"a very good movie\", \"the movie is bad\"\n",
    "- D. \"poor and boring plot\", \"the movie is bad\", \"poor and bad movie\"\n",
    "\n",
    "**Đáp án đúng: C**\n",
    "- A. 1.73, 2.0, 2.45 (loại)\n",
    "- B. 2.23 (loại)\n",
    "- C. 2.0, 1.73, 1.41 (đáp án)\n",
    "- D. 2.82 (loại)"
   ]
  },
  {
   "cell_type": "code",
   "execution_count": 73,
   "id": "fdfe915c",
   "metadata": {
    "colab": {
     "base_uri": "https://localhost:8080/"
    },
    "executionInfo": {
     "elapsed": 6,
     "status": "ok",
     "timestamp": 1727101977641,
     "user": {
      "displayName": "Khôi Nguyễn",
      "userId": "08478801626197708475"
     },
     "user_tz": -420
    },
    "id": "fdfe915c",
    "outputId": "62a331a9-e34a-4131-f6aa-b9215135be38"
   },
   "outputs": [
    {
     "name": "stdout",
     "output_type": "stream",
     "text": [
      "[3 0 1 5 2 4]\n",
      "[3 0 1]\n"
     ]
    }
   ],
   "source": [
    "# 6. Sắp xếp theo thứ tự giảm dần và lấy top 3\n",
    "top_k = np.argsort(distances)\n",
    "print(top_k)\n",
    "\n",
    "k = 3\n",
    "top_k = top_k[:k]\n",
    "print(top_k)"
   ]
  },
  {
   "cell_type": "code",
   "execution_count": 74,
   "id": "bf759f42",
   "metadata": {
    "colab": {
     "base_uri": "https://localhost:8080/"
    },
    "executionInfo": {
     "elapsed": 5,
     "status": "ok",
     "timestamp": 1727101977641,
     "user": {
      "displayName": "Khôi Nguyễn",
      "userId": "08478801626197708475"
     },
     "user_tz": -420
    },
    "id": "bf759f42",
    "outputId": "8ed59110-e342-49a9-9bc5-419a7361a6e4"
   },
   "outputs": [
    {
     "name": "stdout",
     "output_type": "stream",
     "text": [
      "the movie is bad\n",
      "a very good movie\n",
      "this movie is excellent\n"
     ]
    }
   ],
   "source": [
    "for k in top_k:\n",
    "  print(corpus[k])"
   ]
  },
  {
   "cell_type": "markdown",
   "id": "8a9a342c",
   "metadata": {
    "id": "8a9a342c"
   },
   "source": [
    "## Xây dựng và sử dụng mô hình KNN\n"
   ]
  },
  {
   "cell_type": "markdown",
   "id": "OvyEJ0ewAFH4",
   "metadata": {
    "id": "OvyEJ0ewAFH4"
   },
   "source": [
    "### **Câu 4:** Nếu sử dụng KNN với k = 5, với đầu vào là \"movie is very bad\" thì KNN sẽ cho kết quả là?\n",
    "\n",
    "- A. 1\n",
    "- B. 0\n",
    "- C. 1.41\n",
    "- D. 3\n",
    "\n",
    "**Đáp án: A**"
   ]
  },
  {
   "cell_type": "code",
   "execution_count": 75,
   "id": "69649079",
   "metadata": {
    "colab": {
     "base_uri": "https://localhost:8080/"
    },
    "executionInfo": {
     "elapsed": 4,
     "status": "ok",
     "timestamp": 1727101977641,
     "user": {
      "displayName": "Khôi Nguyễn",
      "userId": "08478801626197708475"
     },
     "user_tz": -420
    },
    "id": "69649079",
    "outputId": "3e06f52f-0e09-4a15-c10f-3701b2fdd42e"
   },
   "outputs": [
    {
     "name": "stdout",
     "output_type": "stream",
     "text": [
      "Predicted label: [1]\n",
      "Khoảng cách tới x_test: [[1.41421356 1.73205081 2.         2.23606798 2.44948974 2.82842712]]\n",
      "Index các câu sau khi sắp xếp theo thứ tự giảm dần: [[3 0 1 5 2 4]]\n"
     ]
    }
   ],
   "source": [
    "from sklearn.neighbors import KNeighborsClassifier\n",
    "\n",
    "# 7. Khởi tạo mô hình KNN với k = 5\n",
    "classifier = KNeighborsClassifier(n_neighbors=5)\n",
    "\n",
    "# 8. Huấn luyện mô hình\n",
    "classifier.fit(X, y_data)\n",
    "\n",
    "# 9. Dự đoán nhãn cho dữ liệu thử nghiệm\n",
    "y_pred = classifier.predict(x_test)\n",
    "print(f\"Predicted label: {y_pred}\")\n",
    "\n",
    "neibors = classifier.kneighbors(x_test, n_neighbors=6, return_distance=True)\n",
    "print(\"Khoảng cách tới x_test:\", neibors[0])\n",
    "print(\"Index các câu sau khi sắp xếp theo thứ tự giảm dần:\", neibors[1])"
   ]
  },
  {
   "cell_type": "markdown",
   "id": "0LXk6JgOku1i",
   "metadata": {
    "id": "0LXk6JgOku1i"
   },
   "source": [
    "# **Breast Cancer Wisconsin Diagnostic**\n"
   ]
  },
  {
   "cell_type": "markdown",
   "id": "KAuG9YIak8Sk",
   "metadata": {
    "id": "KAuG9YIak8Sk"
   },
   "source": [
    "## **Tập Dữ Liệu Chẩn Đoán Ung Thư Vú**\n",
    "\n",
    "Tập dữ liệu này chứa thông tin về các đặc trưng liên quan đến khối u ung thư vú, cùng với chẩn đoán của chúng. (Đây là dữ liệu đã được cắt vớt và chuẩn hóa)\n",
    "\n",
    "### Mô Tả Dữ Liệu\n",
    "\n",
    "| Chỉ số | Trung Bình Chu Vi | Trung Bình Diện Tích | Trung Bình Tính Chất Đặc | Chẩn Đoán |\n",
    "|--------|-------------------|-----------------------|---------------------------|-----------|\n",
    "| 0      | 0.32              | 0.20                  | 0.10                      | B         |\n",
    "| 1      | 0.13              | 0.06                  | 0.20                      | B         |\n",
    "| 2      | 0.31              | 0.19                  | 0.10                      | B         |\n",
    "| 4      | 0.58              | 0.43                  | 0.47                      | M         |\n",
    "| 5      | 0.56              | 0.36                  | 0.73                      | M         |\n",
    "| 6      | 0.49              | 0.36                  | 0.16                      | M         |\n",
    "\n",
    "### Các Đặc Trưng\n",
    "\n",
    "- **Trung Bình Chu Vi**: Trung bình chu vi của các khối u.\n",
    "- **Trung Bình Diện Tích**: Trung bình diện tích của các khối u.\n",
    "- **Trung Bình Tính Chất Đặc**: Trung bình tính chất đặc của các khối u, được tính bằng (chu vi²/diện tích - 1.0).\n",
    "- **Chẩn Đoán**: Nhãn lớp cho biết chẩn đoán của khối u, trong đó 'B' đại diện cho lành tính và 'M' đại diện cho ác tính.\n",
    "\n"
   ]
  },
  {
   "cell_type": "code",
   "execution_count": 76,
   "id": "B4K0vYVxlDBO",
   "metadata": {
    "colab": {
     "base_uri": "https://localhost:8080/"
    },
    "executionInfo": {
     "elapsed": 5461,
     "status": "ok",
     "timestamp": 1727101983099,
     "user": {
      "displayName": "Khôi Nguyễn",
      "userId": "08478801626197708475"
     },
     "user_tz": -420
    },
    "id": "B4K0vYVxlDBO",
    "outputId": "5aaf35f4-af1b-4a66-dffa-1f89ea99dbac"
   },
   "outputs": [
    {
     "name": "stderr",
     "output_type": "stream",
     "text": [
      "Downloading...\n",
      "From: https://drive.google.com/uc?id=1-2NZ1j0P8AOZ0WWOn9XHAoSlGW9KFrO-\n",
      "To: c:\\Users\\admin\\OneDrive\\Máy tính\\Exam_AIO2024\\AIO_2024_note\\Module_3\\Source Codes\\KNN\\final_dataset.csv\n",
      "\n",
      "  0%|          | 0.00/216 [00:00<?, ?B/s]\n",
      "100%|██████████| 216/216 [00:00<?, ?B/s] \n"
     ]
    }
   ],
   "source": [
    "!gdown 1-2NZ1j0P8AOZ0WWOn9XHAoSlGW9KFrO-"
   ]
  },
  {
   "cell_type": "code",
   "execution_count": 77,
   "id": "uJjIiAPtlfUk",
   "metadata": {
    "colab": {
     "base_uri": "https://localhost:8080/",
     "height": 363
    },
    "executionInfo": {
     "elapsed": 392,
     "status": "ok",
     "timestamp": 1727102918175,
     "user": {
      "displayName": "Khôi Nguyễn",
      "userId": "08478801626197708475"
     },
     "user_tz": -420
    },
    "id": "uJjIiAPtlfUk",
    "outputId": "eba5ccad-43ff-46e0-e941-f2b5076d81b5"
   },
   "outputs": [
    {
     "data": {
      "text/html": [
       "<div>\n",
       "<style scoped>\n",
       "    .dataframe tbody tr th:only-of-type {\n",
       "        vertical-align: middle;\n",
       "    }\n",
       "\n",
       "    .dataframe tbody tr th {\n",
       "        vertical-align: top;\n",
       "    }\n",
       "\n",
       "    .dataframe thead th {\n",
       "        text-align: right;\n",
       "    }\n",
       "</style>\n",
       "<table border=\"1\" class=\"dataframe\">\n",
       "  <thead>\n",
       "    <tr style=\"text-align: right;\">\n",
       "      <th></th>\n",
       "      <th>perimeter_mean</th>\n",
       "      <th>area_mean</th>\n",
       "      <th>compactness_mean</th>\n",
       "      <th>diagnosis</th>\n",
       "    </tr>\n",
       "  </thead>\n",
       "  <tbody>\n",
       "    <tr>\n",
       "      <th>0</th>\n",
       "      <td>0.32</td>\n",
       "      <td>0.20</td>\n",
       "      <td>0.10</td>\n",
       "      <td>B</td>\n",
       "    </tr>\n",
       "    <tr>\n",
       "      <th>1</th>\n",
       "      <td>0.13</td>\n",
       "      <td>0.06</td>\n",
       "      <td>0.20</td>\n",
       "      <td>B</td>\n",
       "    </tr>\n",
       "    <tr>\n",
       "      <th>2</th>\n",
       "      <td>0.31</td>\n",
       "      <td>0.19</td>\n",
       "      <td>0.10</td>\n",
       "      <td>B</td>\n",
       "    </tr>\n",
       "    <tr>\n",
       "      <th>3</th>\n",
       "      <td>0.24</td>\n",
       "      <td>0.14</td>\n",
       "      <td>0.06</td>\n",
       "      <td>B</td>\n",
       "    </tr>\n",
       "    <tr>\n",
       "      <th>4</th>\n",
       "      <td>0.21</td>\n",
       "      <td>0.12</td>\n",
       "      <td>0.13</td>\n",
       "      <td>B</td>\n",
       "    </tr>\n",
       "    <tr>\n",
       "      <th>5</th>\n",
       "      <td>0.58</td>\n",
       "      <td>0.43</td>\n",
       "      <td>0.47</td>\n",
       "      <td>M</td>\n",
       "    </tr>\n",
       "    <tr>\n",
       "      <th>6</th>\n",
       "      <td>0.56</td>\n",
       "      <td>0.36</td>\n",
       "      <td>0.73</td>\n",
       "      <td>M</td>\n",
       "    </tr>\n",
       "    <tr>\n",
       "      <th>7</th>\n",
       "      <td>0.49</td>\n",
       "      <td>0.36</td>\n",
       "      <td>0.16</td>\n",
       "      <td>M</td>\n",
       "    </tr>\n",
       "    <tr>\n",
       "      <th>8</th>\n",
       "      <td>0.60</td>\n",
       "      <td>0.44</td>\n",
       "      <td>0.43</td>\n",
       "      <td>M</td>\n",
       "    </tr>\n",
       "    <tr>\n",
       "      <th>9</th>\n",
       "      <td>0.54</td>\n",
       "      <td>0.40</td>\n",
       "      <td>0.31</td>\n",
       "      <td>M</td>\n",
       "    </tr>\n",
       "  </tbody>\n",
       "</table>\n",
       "</div>"
      ],
      "text/plain": [
       "   perimeter_mean  area_mean  compactness_mean diagnosis\n",
       "0            0.32       0.20              0.10         B\n",
       "1            0.13       0.06              0.20         B\n",
       "2            0.31       0.19              0.10         B\n",
       "3            0.24       0.14              0.06         B\n",
       "4            0.21       0.12              0.13         B\n",
       "5            0.58       0.43              0.47         M\n",
       "6            0.56       0.36              0.73         M\n",
       "7            0.49       0.36              0.16         M\n",
       "8            0.60       0.44              0.43         M\n",
       "9            0.54       0.40              0.31         M"
      ]
     },
     "execution_count": 77,
     "metadata": {},
     "output_type": "execute_result"
    }
   ],
   "source": [
    "df = pd.read_csv('final_dataset.csv')\n",
    "df"
   ]
  },
  {
   "cell_type": "code",
   "execution_count": 78,
   "id": "_8PXIMxwlg0C",
   "metadata": {
    "colab": {
     "base_uri": "https://localhost:8080/"
    },
    "executionInfo": {
     "elapsed": 538,
     "status": "ok",
     "timestamp": 1727103126693,
     "user": {
      "displayName": "Khôi Nguyễn",
      "userId": "08478801626197708475"
     },
     "user_tz": -420
    },
    "id": "_8PXIMxwlg0C",
    "outputId": "9b5d3593-fa9b-485e-943e-bd55a68fa6ba"
   },
   "outputs": [
    {
     "name": "stdout",
     "output_type": "stream",
     "text": [
      "<class 'list'>\n",
      "[[0.32, 0.2, 0.1], [0.13, 0.06, 0.2], [0.31, 0.19, 0.1], [0.24, 0.14, 0.06], [0.21, 0.12, 0.13], [0.58, 0.43, 0.47], [0.56, 0.36, 0.73], [0.49, 0.36, 0.16], [0.6, 0.44, 0.43], [0.54, 0.4, 0.31]]\n"
     ]
    }
   ],
   "source": [
    "X_train = df[[\"perimeter_mean\", \"area_mean\", \"compactness_mean\"]].values.tolist()\n",
    "\n",
    "print(type(X_train))\n",
    "print(X_train)"
   ]
  },
  {
   "cell_type": "code",
   "execution_count": 79,
   "id": "LMY_Jfz-UphT",
   "metadata": {
    "colab": {
     "base_uri": "https://localhost:8080/"
    },
    "executionInfo": {
     "elapsed": 565,
     "status": "ok",
     "timestamp": 1727103185840,
     "user": {
      "displayName": "Khôi Nguyễn",
      "userId": "08478801626197708475"
     },
     "user_tz": -420
    },
    "id": "LMY_Jfz-UphT",
    "outputId": "e8d756dc-c4f8-4114-8e7a-04bdeafc7ad0"
   },
   "outputs": [
    {
     "name": "stdout",
     "output_type": "stream",
     "text": [
      "<class 'list'>\n",
      "['B', 'B', 'B', 'B', 'B', 'M', 'M', 'M', 'M', 'M']\n"
     ]
    }
   ],
   "source": [
    "labels = df['diagnosis'].values.tolist()\n",
    "\n",
    "print(type(labels))\n",
    "print(labels)"
   ]
  },
  {
   "cell_type": "markdown",
   "id": "Qvkz3wOCg7hQ",
   "metadata": {
    "id": "Qvkz3wOCg7hQ"
   },
   "source": [
    "### Câu 1: Đoạn mã bên dưới chuyển đổi lớp 'B' và lớp 'M' lần lượt thành?\n",
    "\n",
    "A. Lớp 'B' = 1 và Lớp 'M\" = 0\n",
    "\n",
    "B. Lớp 'B' = 0 và Lớp 'M\" = 1\n",
    "\n",
    "C. Lớp 'B' = [0, 0, 0, 0] và Lớp 'M\" = [1, 1, 1, 1]\n",
    "\n",
    "D. Lớp 'B' = [1, 1, 1, 1] và Lớp 'M\" = [0, 0, 0, 0]\n",
    "\n",
    "Đáp án: B"
   ]
  },
  {
   "cell_type": "code",
   "execution_count": 80,
   "id": "n7tCjeSHU6TT",
   "metadata": {
    "colab": {
     "base_uri": "https://localhost:8080/"
    },
    "executionInfo": {
     "elapsed": 3,
     "status": "ok",
     "timestamp": 1727103195137,
     "user": {
      "displayName": "Khôi Nguyễn",
      "userId": "08478801626197708475"
     },
     "user_tz": -420
    },
    "id": "n7tCjeSHU6TT",
    "outputId": "8c26de77-241e-4dde-e3cb-0550408ca92c"
   },
   "outputs": [
    {
     "name": "stdout",
     "output_type": "stream",
     "text": [
      "<class 'list'>\n"
     ]
    },
    {
     "data": {
      "text/plain": [
       "[0, 0, 0, 0, 0, 1, 1, 1, 1, 1]"
      ]
     },
     "execution_count": 80,
     "metadata": {},
     "output_type": "execute_result"
    }
   ],
   "source": [
    "y_train = []\n",
    "\n",
    "for label in labels:\n",
    "  if label == 'B':\n",
    "    y_train.append(0)\n",
    "  else:\n",
    "    y_train.append(1)\n",
    "\n",
    "print(type(y_train))\n",
    "y_train"
   ]
  },
  {
   "cell_type": "markdown",
   "id": "qOYMDDmIfyCo",
   "metadata": {
    "id": "qOYMDDmIfyCo"
   },
   "source": [
    "### Câu 2: Kết quả của mã nguồn bên dưới được hiểu như thế nào?\n",
    "\n",
    "A. (Khoảng cách, Lớp)\n",
    "\n",
    "B. (Lớp, Khoảng cách)\n",
    "\n",
    "C. ([perimeter_mean, area_mean, compactness_mean], Lớp)\n",
    "\n",
    "D. (Lớp, [perimeter_mean, area_mean, compactness_mean])\n",
    "\n",
    "Đáp án: C"
   ]
  },
  {
   "cell_type": "code",
   "execution_count": 81,
   "id": "UicNJmhXW6h2",
   "metadata": {
    "colab": {
     "base_uri": "https://localhost:8080/"
    },
    "executionInfo": {
     "elapsed": 3,
     "status": "ok",
     "timestamp": 1727105021046,
     "user": {
      "displayName": "Khôi Nguyễn",
      "userId": "08478801626197708475"
     },
     "user_tz": -420
    },
    "id": "UicNJmhXW6h2",
    "outputId": "a7f31c5a-3cb9-4fad-af48-3294bf1f12c7"
   },
   "outputs": [
    {
     "data": {
      "text/plain": [
       "[([0.32, 0.2, 0.1], 0),\n",
       " ([0.13, 0.06, 0.2], 0),\n",
       " ([0.31, 0.19, 0.1], 0),\n",
       " ([0.24, 0.14, 0.06], 0),\n",
       " ([0.21, 0.12, 0.13], 0),\n",
       " ([0.58, 0.43, 0.47], 1),\n",
       " ([0.56, 0.36, 0.73], 1),\n",
       " ([0.49, 0.36, 0.16], 1),\n",
       " ([0.6, 0.44, 0.43], 1),\n",
       " ([0.54, 0.4, 0.31], 1)]"
      ]
     },
     "execution_count": 81,
     "metadata": {},
     "output_type": "execute_result"
    }
   ],
   "source": [
    "train_data = zip(X_train, y_train)\n",
    "train_data = list(train_data)\n",
    "train_data"
   ]
  },
  {
   "cell_type": "markdown",
   "id": "m_Elwh7Wmsgx",
   "metadata": {
    "id": "m_Elwh7Wmsgx"
   },
   "source": [
    "## Tính khoảng cách"
   ]
  },
  {
   "cell_type": "code",
   "execution_count": 82,
   "id": "CNwVaEVznKzk",
   "metadata": {
    "id": "CNwVaEVznKzk"
   },
   "outputs": [],
   "source": [
    "def manhattan_distance(x, sample):\n",
    "  manhattan_distance = np.sum(np.abs(np.array(x) - np.array(sample[0])))\n",
    "  return (np.round(manhattan_distance, 2), sample[1])"
   ]
  },
  {
   "cell_type": "markdown",
   "id": "d85p1d2-n_99",
   "metadata": {
    "id": "d85p1d2-n_99"
   },
   "source": [
    "### Câu 3: Cho input x=[0.3, 0.3, 0.3]. Tính khoảng cách Manhattan từ x tới 3 điểm dữ liệu đầu tiên (3 dòng đầu trong bộ dữ liệu train) là?\n",
    "A. 0, 0, 0\n",
    "\n",
    "B. 0.32, 0.46, 0.44\n",
    "\n",
    "C. 0.51, 0.32, 0.46\n",
    "\n",
    "D. 0.32, 0.51, 0.32\n",
    "\n",
    "Đáp án: D"
   ]
  },
  {
   "cell_type": "code",
   "execution_count": 83,
   "id": "0uvljO7Ln8rX",
   "metadata": {
    "colab": {
     "base_uri": "https://localhost:8080/"
    },
    "executionInfo": {
     "elapsed": 358,
     "status": "ok",
     "timestamp": 1727103491767,
     "user": {
      "displayName": "Khôi Nguyễn",
      "userId": "08478801626197708475"
     },
     "user_tz": -420
    },
    "id": "0uvljO7Ln8rX",
    "outputId": "2c82fae9-d4c7-4ab9-e5b1-56794c5fa3c1"
   },
   "outputs": [
    {
     "name": "stdout",
     "output_type": "stream",
     "text": [
      "Khoảng cách tới các dữ liệu khác: \n",
      "[(0.32, 0), (0.51, 0), (0.32, 0), (0.46, 0), (0.44, 0), (0.58, 1), (0.75, 1), (0.39, 1), (0.57, 1), (0.35, 1)]\n"
     ]
    }
   ],
   "source": [
    "x = [0.3, 0.3, 0.3]\n",
    "neighbors = [manhattan_distance(x, sample) for sample in train_data]\n",
    "\n",
    "print(f'Khoảng cách tới các dữ liệu khác: \\n{neighbors}')"
   ]
  },
  {
   "cell_type": "markdown",
   "id": "Cg8XciR-Vil9",
   "metadata": {
    "id": "Cg8XciR-Vil9"
   },
   "source": [
    "### Câu 4: Sắp xếp theo thứ tự tăng dần khoảng cách, nếu K=1 thì KNN sẽ trả về kết quả là ?\n",
    "A. 0.32\n",
    "\n",
    "B. 1\n",
    "\n",
    "C. 0\n",
    "\n",
    "D. 0.75\n",
    "\n",
    "Đáp án:  A"
   ]
  },
  {
   "cell_type": "code",
   "execution_count": 84,
   "id": "uvo9D5MYp0mk",
   "metadata": {
    "colab": {
     "base_uri": "https://localhost:8080/"
    },
    "executionInfo": {
     "elapsed": 494,
     "status": "ok",
     "timestamp": 1727103907928,
     "user": {
      "displayName": "Khôi Nguyễn",
      "userId": "08478801626197708475"
     },
     "user_tz": -420
    },
    "id": "uvo9D5MYp0mk",
    "outputId": "ffc45fdf-d001-4ffb-b832-18990a14b749"
   },
   "outputs": [
    {
     "data": {
      "text/plain": [
       "[(0.32, 0),\n",
       " (0.32, 0),\n",
       " (0.35, 1),\n",
       " (0.39, 1),\n",
       " (0.44, 0),\n",
       " (0.46, 0),\n",
       " (0.51, 0),\n",
       " (0.57, 1),\n",
       " (0.58, 1),\n",
       " (0.75, 1)]"
      ]
     },
     "execution_count": 84,
     "metadata": {},
     "output_type": "execute_result"
    }
   ],
   "source": [
    "neighbors.sort(key=lambda x: x[0])\n",
    "neighbors"
   ]
  },
  {
   "cell_type": "markdown",
   "id": "JpKszkeYabKz",
   "metadata": {
    "id": "JpKszkeYabKz"
   },
   "source": [
    "### Câu 5: Sắp xếp theo thứ tự tăng dần khoảng cách, nếu K=5, có tổng cộng bao nhiêu Class 0 và 1?\n",
    "A. Class 0: 1 và Class 1: 4\n",
    "\n",
    "B. Class 0: 2 và Class 1: 3\n",
    "\n",
    "C. Class 0: 3 và Class 1: 2\n",
    "\n",
    "D. Class 0: 4 và Class 1: 1\n",
    "\n",
    "Đáp án: C"
   ]
  },
  {
   "cell_type": "code",
   "execution_count": 85,
   "id": "CJU_vGJ1c52S",
   "metadata": {
    "colab": {
     "base_uri": "https://localhost:8080/"
    },
    "executionInfo": {
     "elapsed": 1405,
     "status": "ok",
     "timestamp": 1727104533590,
     "user": {
      "displayName": "Khôi Nguyễn",
      "userId": "08478801626197708475"
     },
     "user_tz": -420
    },
    "id": "CJU_vGJ1c52S",
    "outputId": "86f5f84b-de0b-4f4c-e0e7-c2111dea0da9"
   },
   "outputs": [
    {
     "data": {
      "text/plain": [
       "[(0.32, 0), (0.32, 0), (0.35, 1), (0.39, 1), (0.44, 0)]"
      ]
     },
     "execution_count": 85,
     "metadata": {},
     "output_type": "execute_result"
    }
   ],
   "source": [
    "neighbors[:5]"
   ]
  },
  {
   "cell_type": "code",
   "execution_count": null,
   "id": "wxxoNhAsscvR",
   "metadata": {
    "id": "wxxoNhAsscvR"
   },
   "outputs": [],
   "source": []
  },
  {
   "cell_type": "code",
   "execution_count": 86,
   "id": "LyFREvX3scx4",
   "metadata": {
    "id": "LyFREvX3scx4"
   },
   "outputs": [],
   "source": [
    "from sklearn.neighbors import KNeighborsClassifier\n",
    "\n",
    "\n",
    "def knn_classify(train_data, train_labels, test_data, k):\n",
    "    knn = KNeighborsClassifier(n_neighbors=k)\n",
    "    knn.fit(train_data, train_labels)\n",
    "    predictions = knn.predict(test_data)\n",
    "    return predictions\n",
    "\n",
    "train_data = [\n",
    "[0.32, 0.20, 0.10],\n",
    "[0.13, 0.06, 0.20],\n",
    "[0.31, 0.19, 0.10],\n",
    "[0.24, 0.14, 0.06],\n",
    "[0.21, 0.12, 0.13],\n",
    "[0.58, 0.43, 0.47],\n",
    "[0.56, 0.36, 0.73],\n",
    "[0.49, 0.36, 0.16],\n",
    "[0.60, 0.44, 0.43],\n",
    "[0.54, 0.40, 0.31]\n",
    "]\n",
    "train_labels = [0, 0, 0, 0, 0, 1, 1, 1, 1, 1]\n",
    "test_data = [\n",
    "[0.30, 0.15, 0.10],\n",
    "[0.55, 0.40, 0.50]\n",
    "]\n",
    "k=2\n"
   ]
  },
  {
   "cell_type": "code",
   "execution_count": 87,
   "id": "g7okIOv-se6k",
   "metadata": {
    "colab": {
     "base_uri": "https://localhost:8080/"
    },
    "executionInfo": {
     "elapsed": 2,
     "status": "ok",
     "timestamp": 1727427397982,
     "user": {
      "displayName": "Nha Nguyen",
      "userId": "05581690424976052134"
     },
     "user_tz": -420
    },
    "id": "g7okIOv-se6k",
    "outputId": "4388cfb4-f94e-4683-fdd5-7f54e45b904a"
   },
   "outputs": [
    {
     "data": {
      "text/plain": [
       "array([0, 1])"
      ]
     },
     "execution_count": 87,
     "metadata": {},
     "output_type": "execute_result"
    }
   ],
   "source": [
    "knn_classify(train_data, train_labels, test_data, k)"
   ]
  },
  {
   "cell_type": "code",
   "execution_count": 88,
   "id": "zg-De2DAskbn",
   "metadata": {
    "colab": {
     "base_uri": "https://localhost:8080/"
    },
    "executionInfo": {
     "elapsed": 369,
     "status": "ok",
     "timestamp": 1727439409982,
     "user": {
      "displayName": "Nha Nguyen",
      "userId": "05581690424976052134"
     },
     "user_tz": -420
    },
    "id": "zg-De2DAskbn",
    "outputId": "7b924fa5-d9da-4c99-815d-08345f583939"
   },
   "outputs": [
    {
     "name": "stdout",
     "output_type": "stream",
     "text": [
      "[0 1]\n"
     ]
    }
   ],
   "source": [
    "from sklearn.neighbors import KNeighborsClassifier\n",
    "\n",
    "class Solution:\n",
    "    def knn_classify(self, train_data, train_labels, test_data, k):\n",
    "        knn = KNeighborsClassifier(n_neighbors=k)\n",
    "        knn.fit(train_data, train_labels)\n",
    "        predictions = knn.predict(test_data)\n",
    "        return predictions\n",
    "\n",
    "\n",
    "train_data = [\n",
    "    [0.32, 0.20, 0.10],\n",
    "    [0.13, 0.06, 0.20],\n",
    "    [0.31, 0.19, 0.10],\n",
    "    [0.24, 0.14, 0.06],\n",
    "    [0.21, 0.12, 0.13],\n",
    "    [0.58, 0.43, 0.47],\n",
    "    [0.56, 0.36, 0.73],\n",
    "    [0.49, 0.36, 0.16],\n",
    "    [0.60, 0.44, 0.43],\n",
    "    [0.54, 0.40, 0.31]\n",
    "]\n",
    "\n",
    "train_labels = [0, 0, 0, 0, 0, 1, 1, 1, 1, 1]  # Gán nhãn cho từng điểm\n",
    "test_data = [\n",
    "    [0.30, 0.25, 0.15],\n",
    "    [0.57, 0.40, 0.50]\n",
    "]\n",
    "k = 2\n",
    "\n",
    "# Kết quả dự kiến:\n",
    "# Gọi hàm\n",
    "solution = Solution()\n",
    "predictions = solution.knn_classify(train_data, train_labels, test_data, k)\n",
    "print(predictions)  # Kết quả dự kiến: [0, 1] (hoặc giá trị tương tự)\n"
   ]
  },
  {
   "cell_type": "code",
   "execution_count": null,
   "id": "9pPkbToH75iT",
   "metadata": {
    "id": "9pPkbToH75iT"
   },
   "outputs": [],
   "source": []
  }
 ],
 "metadata": {
  "colab": {
   "provenance": [],
   "toc_visible": true
  },
  "kernelspec": {
   "display_name": "base",
   "language": "python",
   "name": "python3"
  },
  "language_info": {
   "codemirror_mode": {
    "name": "ipython",
    "version": 3
   },
   "file_extension": ".py",
   "mimetype": "text/x-python",
   "name": "python",
   "nbconvert_exporter": "python",
   "pygments_lexer": "ipython3",
   "version": "3.11.7"
  }
 },
 "nbformat": 4,
 "nbformat_minor": 5
}
