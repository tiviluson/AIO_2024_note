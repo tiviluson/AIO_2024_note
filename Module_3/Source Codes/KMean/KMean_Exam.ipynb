{
 "cells": [
  {
   "cell_type": "markdown",
   "metadata": {
    "id": "Fg4PQtfTku_B"
   },
   "source": [
    "# **Text Classification**"
   ]
  },
  {
   "cell_type": "code",
   "execution_count": 1,
   "metadata": {
    "id": "L6776JdhkB2-"
   },
   "outputs": [],
   "source": [
    "from sklearn.feature_extraction.text import CountVectorizer\n",
    "import numpy as np"
   ]
  },
  {
   "cell_type": "markdown",
   "metadata": {
    "id": "NMU2biyMG_yN"
   },
   "source": [
    "## **Mô tả bài toán với dữ liệu text**\n",
    "\n",
    "Trong phần này, chúng ta sẽ xử lý một tập hợp các câu đánh giá phim và chuyển đổi nó thành định dạng vector bằng `CountVectorizer`. Sự chuyển đổi này rất cần thiết để chuẩn bị dữ liệu văn bản cho các mô hình Machine Learning. Sau đây là quy trình từng bước chuyển đổi:"
   ]
  },
  {
   "cell_type": "markdown",
   "metadata": {
    "id": "4CkKJ3wWootB"
   },
   "source": [
    "### 1. Bộ dữ liệu text ban đầu - corpus\n",
    "\n",
    "Chúng ta bắt đầu với một bộ data nhỏ các câu đánh giá phim, mà chúng ta gọi là **corpus**. Corpus chứa 6 câu đánh giá khác nhau:\n",
    "\n",
    "```python\n",
    "corpus = [\"a very good movie\",\n",
    "          \"this movie is excellent\",\n",
    "          \"very good and excellent\",\n",
    "          \"the movie is bad\",\n",
    "          \"poor and boring plot\",\n",
    "          \"bad and boring movie\"]\n"
   ]
  },
  {
   "cell_type": "code",
   "execution_count": 2,
   "metadata": {
    "id": "JnW88rD9kwxF"
   },
   "outputs": [],
   "source": [
    "corpus = [\"a very good movie\",\n",
    "          \"this movie is excellent\",\n",
    "          \"very good and excellent\",\n",
    "          \"the movie is bad\",\n",
    "          \"poor and boring plot\",\n",
    "          \"bad and boring movie\"]\n",
    "vectorizer = CountVectorizer()"
   ]
  },
  {
   "cell_type": "markdown",
   "metadata": {
    "id": "xhDRQncqp-qG"
   },
   "source": [
    "### 2. Vectorization\n",
    "Chúng ta sử dụng CountVectorizer để chuyển đổi dữ liệu văn bản thành một ma trận, trong đó mỗi cột tương ứng với một từ trong bộ từ vựng và mỗi hàng đại diện cho một văn bản. Mỗi giá trị trong ma trận thể hiện số lần từ đó xuất hiện trong văn bản tương ứng.\n",
    "\n",
    "*Ví dụ:* Câu đầu tiên là: \"a very good movie\" được thể hiện bằng vector `[0 0 0 0 1 0 1 0 0 0 0 1]` tức là đối với câu thứ nhất, có 1 từ ở index 4, 6, 11 trong bộ từ vựng vocab."
   ]
  },
  {
   "cell_type": "code",
   "execution_count": 3,
   "metadata": {
    "colab": {
     "base_uri": "https://localhost:8080/"
    },
    "executionInfo": {
     "elapsed": 4,
     "status": "ok",
     "timestamp": 1727620037861,
     "user": {
      "displayName": "Nha Nguyen",
      "userId": "05581690424976052134"
     },
     "user_tz": -420
    },
    "id": "U5fmUSqWn6e3",
    "outputId": "01bb56fa-c4c9-46e4-bad5-aa6bf4578f27"
   },
   "outputs": [
    {
     "name": "stdout",
     "output_type": "stream",
     "text": [
      "Bộ từ vựng xây dựng từ corpus: {'and': 0, 'bad': 1, 'boring': 2, 'excellent': 3, 'good': 4, 'is': 5, 'movie': 6, 'plot': 7, 'poor': 8, 'the': 9, 'this': 10, 'very': 11}\n"
     ]
    }
   ],
   "source": [
    "X = vectorizer.fit_transform(corpus)\n",
    "print(f\"Bộ từ vựng xây dựng từ corpus: {dict(sorted(vectorizer.vocabulary_.items()))}\")"
   ]
  },
  {
   "cell_type": "markdown",
   "metadata": {
    "id": "m-fxnvkO8PYX"
   },
   "source": [
    "**Chú ý:** Ở đây, bộ từ vựng không hề có từ \"a\", hãy xem rằng từ \"a\" không mang lại nhiều ý nghĩa ở trong các câu trên.\n"
   ]
  },
  {
   "cell_type": "code",
   "execution_count": 4,
   "metadata": {
    "colab": {
     "base_uri": "https://localhost:8080/"
    },
    "executionInfo": {
     "elapsed": 3,
     "status": "ok",
     "timestamp": 1727620037861,
     "user": {
      "displayName": "Nha Nguyen",
      "userId": "05581690424976052134"
     },
     "user_tz": -420
    },
    "id": "YkuzRwzemgjv",
    "outputId": "3f74b9e7-d690-4079-bc6f-560b119dae62"
   },
   "outputs": [
    {
     "name": "stdout",
     "output_type": "stream",
     "text": [
      "Vector đại diện cho bộ corpus sau khi vectorization: \n",
      "[[0 0 0 0 1 0 1 0 0 0 0 1]\n",
      " [0 0 0 1 0 1 1 0 0 0 1 0]\n",
      " [1 0 0 1 1 0 0 0 0 0 0 1]\n",
      " [0 1 0 0 0 1 1 0 0 1 0 0]\n",
      " [1 0 1 0 0 0 0 1 1 0 0 0]\n",
      " [1 1 1 0 0 0 1 0 0 0 0 0]]\n"
     ]
    }
   ],
   "source": [
    "X = X.toarray()\n",
    "print(\"Vector đại diện cho bộ corpus sau khi vectorization: \")\n",
    "print(X)"
   ]
  },
  {
   "cell_type": "markdown",
   "metadata": {
    "id": "BZGFnsjurDR4"
   },
   "source": [
    "## **Đề bài trắc nghiệm với KMean**"
   ]
  },
  {
   "cell_type": "markdown",
   "metadata": {
    "id": "mGDyzgKR3Crf"
   },
   "source": [
    "### **Iteration đầu tiên**\n",
    "Cho tâm cụm là 2 tâm cụm ngẫu nhiên:\n",
    "```\n",
    "- C1 [1, 0, 0, 1, 1, 0, 0, 0, 0, 0, 0, 1]: very good and excellent  \n",
    "- C2 [0, 1, 0, 0, 0, 1, 1, 0, 0, 1, 0, 0]: the movie is bad\n",
    "```\n",
    "Xác định khoảng cách Euclidean của mỗi tâm cụm tới các sample còn lại (Iteration đầu tiên):"
   ]
  },
  {
   "cell_type": "code",
   "execution_count": 5,
   "metadata": {
    "colab": {
     "base_uri": "https://localhost:8080/"
    },
    "executionInfo": {
     "elapsed": 2,
     "status": "ok",
     "timestamp": 1727620038360,
     "user": {
      "displayName": "Nha Nguyen",
      "userId": "05581690424976052134"
     },
     "user_tz": -420
    },
    "id": "-ps9qQat4Sn2",
    "outputId": "a3945544-28af-4d26-d3ea-3dd75c1c974f"
   },
   "outputs": [
    {
     "data": {
      "text/plain": [
       "(array([1, 0, 0, 1, 1, 0, 0, 0, 0, 0, 0, 1], dtype=int64),\n",
       " array([0, 1, 0, 0, 0, 1, 1, 0, 0, 1, 0, 0], dtype=int64))"
      ]
     },
     "execution_count": 5,
     "metadata": {},
     "output_type": "execute_result"
    }
   ],
   "source": [
    "C1 = X[2]\n",
    "C2 = X[3]\n",
    "C1, C2"
   ]
  },
  {
   "cell_type": "markdown",
   "metadata": {
    "id": "6JnbJtT8328e"
   },
   "source": [
    "#### Câu 1: Khoảng cách Euclidean của C1 tới các sample 0, 1, 4, 5 (làm tròn tới 3 chữ số thập phân) lần lượt là?\n",
    "A.  1.732, 1.732, 2.499, 2.499  \n",
    "B.  1.732, 1.732, 1.732, 2.499  \n",
    "C.  1.732, 2.499, 2.499, 2.499  \n",
    "D.  2.499, 2.499, 1.732, 1.732   \n",
    "Đáp án: C\n"
   ]
  },
  {
   "cell_type": "code",
   "execution_count": 6,
   "metadata": {
    "id": "zQkjl1J8mgmX"
   },
   "outputs": [],
   "source": [
    "def euclidean_distance(x1, x2):\n",
    "    return np.sqrt(np.sum(np.power(x1 - x2, 2)))"
   ]
  },
  {
   "cell_type": "code",
   "execution_count": 7,
   "metadata": {
    "colab": {
     "base_uri": "https://localhost:8080/"
    },
    "executionInfo": {
     "elapsed": 3,
     "status": "ok",
     "timestamp": 1727620038892,
     "user": {
      "displayName": "Nha Nguyen",
      "userId": "05581690424976052134"
     },
     "user_tz": -420
    },
    "id": "PFhgzPhymgo-",
    "outputId": "2dbd7db4-cf3c-45fc-ea1c-f5f933cf947b"
   },
   "outputs": [
    {
     "data": {
      "text/plain": [
       "1.732"
      ]
     },
     "execution_count": 7,
     "metadata": {},
     "output_type": "execute_result"
    }
   ],
   "source": [
    "round(euclidean_distance(C1, X[0]), 3)"
   ]
  },
  {
   "cell_type": "code",
   "execution_count": 8,
   "metadata": {
    "colab": {
     "base_uri": "https://localhost:8080/"
    },
    "executionInfo": {
     "elapsed": 3,
     "status": "ok",
     "timestamp": 1727620039358,
     "user": {
      "displayName": "Nha Nguyen",
      "userId": "05581690424976052134"
     },
     "user_tz": -420
    },
    "id": "ii8PbLCDmgrv",
    "outputId": "67e970c5-0006-4178-f765-be96d873f2ed"
   },
   "outputs": [
    {
     "data": {
      "text/plain": [
       "2.449"
      ]
     },
     "execution_count": 8,
     "metadata": {},
     "output_type": "execute_result"
    }
   ],
   "source": [
    "round(euclidean_distance(C1, X[1]), 3)"
   ]
  },
  {
   "cell_type": "code",
   "execution_count": 9,
   "metadata": {
    "colab": {
     "base_uri": "https://localhost:8080/"
    },
    "executionInfo": {
     "elapsed": 3,
     "status": "ok",
     "timestamp": 1727620039358,
     "user": {
      "displayName": "Nha Nguyen",
      "userId": "05581690424976052134"
     },
     "user_tz": -420
    },
    "id": "lAGbnTxFmguP",
    "outputId": "76131fd3-a88c-4294-8b51-c9b1593d4564"
   },
   "outputs": [
    {
     "data": {
      "text/plain": [
       "2.449"
      ]
     },
     "execution_count": 9,
     "metadata": {},
     "output_type": "execute_result"
    }
   ],
   "source": [
    "round(euclidean_distance(C1, X[4]), 3)"
   ]
  },
  {
   "cell_type": "code",
   "execution_count": 10,
   "metadata": {
    "colab": {
     "base_uri": "https://localhost:8080/"
    },
    "executionInfo": {
     "elapsed": 3,
     "status": "ok",
     "timestamp": 1727620039821,
     "user": {
      "displayName": "Nha Nguyen",
      "userId": "05581690424976052134"
     },
     "user_tz": -420
    },
    "id": "5hn8gX7e4ikO",
    "outputId": "716f90ca-eaf5-4238-a717-ef0bda31e19e"
   },
   "outputs": [
    {
     "data": {
      "text/plain": [
       "2.449"
      ]
     },
     "execution_count": 10,
     "metadata": {},
     "output_type": "execute_result"
    }
   ],
   "source": [
    "round(euclidean_distance(C1, X[5]), 3)"
   ]
  },
  {
   "cell_type": "markdown",
   "metadata": {
    "id": "noUQN-2e5axp"
   },
   "source": [
    "#### Câu 2: Khoảng cách Euclidean của C2 tới các sample 0, 1, 4, 5 (làm tròn tới 3 chữ số thập phân) lần lượt là?\n",
    "A.  2.000, 2.236, 2.828, 2.236  \n",
    "B.  2.236, 2.000, 2.828, 2.000  \n",
    "C.  2.236, 2.828, 2.000, 2.828  \n",
    "D.  2.236, 2.828, 2.000, 2.236  \n",
    "Đáp án: B\n"
   ]
  },
  {
   "cell_type": "code",
   "execution_count": 11,
   "metadata": {
    "id": "9QfYmDAz5axr"
   },
   "outputs": [],
   "source": [
    "def euclidean_distance(x1, x2):\n",
    "    return np.sqrt(np.sum(np.power(x1 - x2, 2)))"
   ]
  },
  {
   "cell_type": "code",
   "execution_count": 12,
   "metadata": {
    "colab": {
     "base_uri": "https://localhost:8080/"
    },
    "executionInfo": {
     "elapsed": 2,
     "status": "ok",
     "timestamp": 1727620040720,
     "user": {
      "displayName": "Nha Nguyen",
      "userId": "05581690424976052134"
     },
     "user_tz": -420
    },
    "id": "xsZ_OCip5axr",
    "outputId": "c7599c89-0d21-4450-d7f8-90676d252af5"
   },
   "outputs": [
    {
     "data": {
      "text/plain": [
       "2.236"
      ]
     },
     "execution_count": 12,
     "metadata": {},
     "output_type": "execute_result"
    }
   ],
   "source": [
    "round(euclidean_distance(C2, X[0]), 3)"
   ]
  },
  {
   "cell_type": "code",
   "execution_count": 13,
   "metadata": {
    "colab": {
     "base_uri": "https://localhost:8080/"
    },
    "executionInfo": {
     "elapsed": 6,
     "status": "ok",
     "timestamp": 1727620041195,
     "user": {
      "displayName": "Nha Nguyen",
      "userId": "05581690424976052134"
     },
     "user_tz": -420
    },
    "id": "RBR5VA6C5axr",
    "outputId": "258cf9c6-ca99-4388-8b7a-2b4e2890917b"
   },
   "outputs": [
    {
     "data": {
      "text/plain": [
       "2.0"
      ]
     },
     "execution_count": 13,
     "metadata": {},
     "output_type": "execute_result"
    }
   ],
   "source": [
    "round(euclidean_distance(C2, X[1]), 3)"
   ]
  },
  {
   "cell_type": "code",
   "execution_count": 14,
   "metadata": {
    "colab": {
     "base_uri": "https://localhost:8080/"
    },
    "executionInfo": {
     "elapsed": 5,
     "status": "ok",
     "timestamp": 1727620041195,
     "user": {
      "displayName": "Nha Nguyen",
      "userId": "05581690424976052134"
     },
     "user_tz": -420
    },
    "id": "v-055JJx5axs",
    "outputId": "d6578372-b68e-4b4f-d074-0a71f836b761"
   },
   "outputs": [
    {
     "data": {
      "text/plain": [
       "2.828"
      ]
     },
     "execution_count": 14,
     "metadata": {},
     "output_type": "execute_result"
    }
   ],
   "source": [
    "round(euclidean_distance(C2, X[4]), 3)"
   ]
  },
  {
   "cell_type": "code",
   "execution_count": 15,
   "metadata": {
    "colab": {
     "base_uri": "https://localhost:8080/"
    },
    "executionInfo": {
     "elapsed": 6,
     "status": "ok",
     "timestamp": 1727620041746,
     "user": {
      "displayName": "Nha Nguyen",
      "userId": "05581690424976052134"
     },
     "user_tz": -420
    },
    "id": "77ljOSYa5axs",
    "outputId": "c916f76d-0fe6-49d2-e029-601fbfad5071"
   },
   "outputs": [
    {
     "data": {
      "text/plain": [
       "2.0"
      ]
     },
     "execution_count": 15,
     "metadata": {},
     "output_type": "execute_result"
    }
   ],
   "source": [
    "round(euclidean_distance(C2, X[5]), 3)"
   ]
  },
  {
   "cell_type": "code",
   "execution_count": 16,
   "metadata": {
    "colab": {
     "base_uri": "https://localhost:8080/"
    },
    "executionInfo": {
     "elapsed": 4,
     "status": "ok",
     "timestamp": 1727620041746,
     "user": {
      "displayName": "Nha Nguyen",
      "userId": "05581690424976052134"
     },
     "user_tz": -420
    },
    "id": "0ArGXcDKBqZ2",
    "outputId": "b55f27c0-4000-4631-9c03-e161533464d7"
   },
   "outputs": [
    {
     "data": {
      "text/plain": [
       "[0.69, 0.75, 0.7, 0.77, 0.73, 0.27, 0.0, 0.57, 0.31, 0.42]"
      ]
     },
     "execution_count": 16,
     "metadata": {},
     "output_type": "execute_result"
    }
   ],
   "source": [
    "import numpy as np\n",
    "\n",
    "\n",
    "def euclidean_distance(x1, x2):\n",
    "    return np.sqrt(np.sum(np.power(x1 - x2, 2)))\n",
    "\n",
    "def sum_distance(train_data, centroid_values):\n",
    "    train_data = np.array(train_data)\n",
    "    centroid_values = np.array(centroid_values)\n",
    "    result = []\n",
    "    for x in train_data:\n",
    "        distances = euclidean_distance(x, centroid_values)\n",
    "        result.append(float(round(distances, 2)))\n",
    "    return result\n",
    "\n",
    "train_data = [\n",
    "    [0.32, 0.20, 0.10],\n",
    "    [0.13, 0.06, 0.20],\n",
    "    [0.31, 0.19, 0.10],\n",
    "    [0.24, 0.14, 0.06],\n",
    "    [0.21, 0.12, 0.13],\n",
    "    [0.58, 0.43, 0.47],\n",
    "    [0.56, 0.36, 0.73],\n",
    "    [0.49, 0.36, 0.16],\n",
    "    [0.60, 0.44, 0.43],\n",
    "    [0.54, 0.40, 0.31]\n",
    "]\n",
    "\n",
    "centroid_values = [0.56, 0.36, 0.73]\n",
    "\n",
    "sum_distance(train_data, centroid_values)"
   ]
  },
  {
   "cell_type": "markdown",
   "metadata": {
    "id": "BHobQiAc6op2"
   },
   "source": [
    "#### Câu 3: Xác định các điểm dữ liệu thuộc cụm 1 và cụm 2:\n",
    "Vector biểu diễn phân cụm của bộ data X là?  \n",
    "Ví dụ: Nếu câu đầu tiên thuộc cụm C1, câu thứ 2 thuộc cụm C2 thì vector biểu diễn phân cụm sẽ là `allocation = [C1, C2, ...]`  \n",
    "\n",
    "A. `[C1, C1, C2, C1, C2, C1]`  \n",
    "B. `[C1, C1, C2, C1, C1, C2]`  \n",
    "C. `[C1, C2, C1, C2, C2, C1]`  \n",
    "D. `[C1, C2, C1, C2, C1, C2]`  \n",
    "Đáp án: D"
   ]
  },
  {
   "cell_type": "code",
   "execution_count": 17,
   "metadata": {
    "id": "qxk0OcMH5axs"
   },
   "outputs": [],
   "source": [
    "centroids = [C1, C2]\n",
    "def assign_clusters(data):\n",
    "    distances = np.array([[euclidean_distance(x, centroid) for centroid in centroids] for x in data])\n",
    "    return np.argmin(distances, axis=1)"
   ]
  },
  {
   "cell_type": "code",
   "execution_count": 18,
   "metadata": {
    "colab": {
     "base_uri": "https://localhost:8080/"
    },
    "executionInfo": {
     "elapsed": 2,
     "status": "ok",
     "timestamp": 1727620043025,
     "user": {
      "displayName": "Nha Nguyen",
      "userId": "05581690424976052134"
     },
     "user_tz": -420
    },
    "id": "4W4Pkv9m5axs",
    "outputId": "ac6b11bc-4a33-44a6-ae09-493398022cad"
   },
   "outputs": [
    {
     "data": {
      "text/plain": [
       "array([0, 1, 0, 1, 0, 1], dtype=int64)"
      ]
     },
     "execution_count": 18,
     "metadata": {},
     "output_type": "execute_result"
    }
   ],
   "source": [
    "clusters = assign_clusters(X)\n",
    "clusters"
   ]
  },
  {
   "cell_type": "markdown",
   "metadata": {
    "id": "UdU-n0x98TJO"
   },
   "source": [
    "### **Iteration thứ 2**"
   ]
  },
  {
   "cell_type": "markdown",
   "metadata": {
    "id": "nFCadY2V8ZUl"
   },
   "source": [
    "#### Câu 4: Cập nhật tâm cụm:\n",
    "Cập nhật tọa độ của tâm cụm thứ 1 và thứ 2 dựa trên các câu được gán cho mỗi tâm cụm (Chọn đáp án gần bằng, làm tròn 1 chữ số thập phân):  \n",
    "A. `Cụm C1: [0.7, 0.0 , 0.3, 0.3, 0.6, 0.0 , 0.3, 0.3, 0.3, 0.0 , 0.0 , 0.7]`  \n",
    "` Cụm C2: [0.3, 0.7, 0.3, 0.3, 0.0 , 0.7, 1.0 , 0.0 , 0.0 , 0.3, 0.3, 0.0 ]`  \n",
    "\n",
    "B. `Cụm C1: [0.7, 0.0, 0.4, 0.4, 0.7, 0.0, 0.3, 0.3, 0.3, 0.1, 0.0, 0.6]`  \n",
    "   `Cụm C2: [0.4, 0.7, 0.2, 0.3, 0.0, 0.6, 0.9, 0.1, 0.0, 0.2, 0.4, 0.0]`  \n",
    "\n",
    "C. `Cụm C1: [0.5, 0.0, 0.4, 0.3, 0.6, 0.0, 0.2, 0.4, 0.3, 0.0, 0.1, 0.7]`  \n",
    "   `Cụm C2: [0.3, 0.5, 0.4, 0.3, 0.0, 0.7, 1.0, 0.0, 0.0, 0.4, 0.2, 0.0]`  \n",
    "\n",
    "D. `Cụm C1: [0.8, 0.0, 0.3, 0.3, 0.5, 0.0, 0.4, 0.2, 0.3, 0.0, 0.0, 0.7]`  \n",
    "`Cụm C2: [0.3, 0.6, 0.4, 0.2, 0.0, 0.5, 0.8, 0.0, 0.1, 0.3, 0.4, 0.0]`   \n",
    "\n",
    "Đáp án: A"
   ]
  },
  {
   "cell_type": "code",
   "execution_count": 19,
   "metadata": {
    "id": "G66111Rf8Zav"
   },
   "outputs": [],
   "source": [
    "def update_centroids(data):\n",
    "    return np.array([data[clusters == i].mean(axis=0) for i in range(2)])"
   ]
  },
  {
   "cell_type": "code",
   "execution_count": 20,
   "metadata": {
    "colab": {
     "base_uri": "https://localhost:8080/"
    },
    "executionInfo": {
     "elapsed": 358,
     "status": "ok",
     "timestamp": 1727620054491,
     "user": {
      "displayName": "Nha Nguyen",
      "userId": "05581690424976052134"
     },
     "user_tz": -420
    },
    "id": "0QXOSRwS8ZdF",
    "outputId": "2000548c-f2d1-4eb8-9df9-2fe8511f6a8b"
   },
   "outputs": [
    {
     "data": {
      "text/plain": [
       "array([[0.66666667, 0.        , 0.33333333, 0.33333333, 0.66666667,\n",
       "        0.        , 0.33333333, 0.33333333, 0.33333333, 0.        ,\n",
       "        0.        , 0.66666667],\n",
       "       [0.33333333, 0.66666667, 0.33333333, 0.33333333, 0.        ,\n",
       "        0.66666667, 1.        , 0.        , 0.        , 0.33333333,\n",
       "        0.33333333, 0.        ]])"
      ]
     },
     "execution_count": 20,
     "metadata": {},
     "output_type": "execute_result"
    }
   ],
   "source": [
    "centroids = update_centroids(X)\n",
    "centroids"
   ]
  },
  {
   "cell_type": "code",
   "execution_count": 21,
   "metadata": {
    "colab": {
     "base_uri": "https://localhost:8080/"
    },
    "executionInfo": {
     "elapsed": 357,
     "status": "ok",
     "timestamp": 1727620078638,
     "user": {
      "displayName": "Nha Nguyen",
      "userId": "05581690424976052134"
     },
     "user_tz": -420
    },
    "id": "dmk7zhDKLe0G",
    "outputId": "d4de2ff6-7840-48aa-ac80-2e2ef460f0c4"
   },
   "outputs": [
    {
     "name": "stdout",
     "output_type": "stream",
     "text": [
      "[[0.7 0.  0.3 0.3 0.7 0.  0.3 0.3 0.3 0.  0.  0.7]\n",
      " [0.3 0.7 0.3 0.3 0.  0.7 1.  0.  0.  0.3 0.3 0. ]]\n"
     ]
    }
   ],
   "source": [
    "# prompt: round each element in centroids 2f\n",
    "\n",
    "import numpy as np\n",
    "rounded_centroids = np.around(centroids, 1)\n",
    "print(rounded_centroids)\n"
   ]
  },
  {
   "cell_type": "markdown",
   "metadata": {
    "id": "q0ARzkLzALEP"
   },
   "source": [
    "#### Câu 5: Xác định các điểm dữ liệu thuộc cụm 1 và cụm 2 sau khi cập nhật tâm cụm (Theo vector biểu diễn)\n",
    "A. `[C1, C2, C1, C2, C1, C2]`  \n",
    "B. `[C2, C1, C1, C2, C1, C2]`  \n",
    "C. `[C1, C2, C2, C1, C2, C1]`  \n",
    "D. `[C1, C2, C2, C1, C2, C1]`  \n",
    "Đán án: A"
   ]
  },
  {
   "cell_type": "code",
   "execution_count": 22,
   "metadata": {
    "id": "jM_sPiCo8Zfd"
   },
   "outputs": [],
   "source": [
    "def assign_clusters(data):\n",
    "    distances = np.array([[euclidean_distance(x, centroid) for centroid in centroids] for x in data])\n",
    "    return np.argmin(distances, axis=1)"
   ]
  },
  {
   "cell_type": "code",
   "execution_count": 23,
   "metadata": {
    "colab": {
     "base_uri": "https://localhost:8080/"
    },
    "executionInfo": {
     "elapsed": 2,
     "status": "ok",
     "timestamp": 1727081018352,
     "user": {
      "displayName": "Nha Nguyen",
      "userId": "05581690424976052134"
     },
     "user_tz": -420
    },
    "id": "1nEugxKx8ZkX",
    "outputId": "9800db5c-8ef3-4431-a2f9-5951acb12947"
   },
   "outputs": [
    {
     "data": {
      "text/plain": [
       "array([0, 1, 0, 1, 0, 1], dtype=int64)"
      ]
     },
     "execution_count": 23,
     "metadata": {},
     "output_type": "execute_result"
    }
   ],
   "source": [
    "assign_clusters(X)"
   ]
  },
  {
   "cell_type": "markdown",
   "metadata": {
    "id": "tbCeqvVaC1Nn"
   },
   "source": [
    "### **Code tổng cả bài với centroids khởi đầu là X[2], X[3]**"
   ]
  },
  {
   "cell_type": "markdown",
   "metadata": {
    "id": "stcK6haWDeCm"
   },
   "source": [
    "#### Code tay"
   ]
  },
  {
   "cell_type": "code",
   "execution_count": 24,
   "metadata": {
    "id": "CWBYb7znAvAm"
   },
   "outputs": [],
   "source": [
    "class kmeans:\n",
    "    def __init__(self, k, max_iters=100):\n",
    "        self.k = k                   # Số cụm\n",
    "        self.max_iters = max_iters   # Số vòng lặp tối đa\n",
    "        self.centroids = None        # Tọa độ tâm cụm\n",
    "        self.clusters = None         # Cụm của từng điểm dữ liệu\n",
    "\n",
    "    def euclidean_distance(self, x1, x2):\n",
    "        return np.sqrt(np.sum(np.power(x1 - x2, 2)))\n",
    "\n",
    "    def assign_clusters(self, data):\n",
    "        distances = np.array([[self.euclidean_distance(x, centroid) for centroid in self.centroids] for x in data])\n",
    "        return np.argmin(distances, axis=1)\n",
    "\n",
    "    def update_centroids(self, data):\n",
    "        return np.array([data[self.clusters == i].mean(axis=0) for i in range(self.k)])\n",
    "\n",
    "    def fit(self, data):\n",
    "        self.centroids = [data[2], data[3]]\n",
    "        for i in range(self.max_iters):\n",
    "            self.clusters = self.assign_clusters(data)\n",
    "            new_centroids = self.update_centroids(data)\n",
    "\n",
    "            if np.all(self.centroids == new_centroids):\n",
    "                break\n",
    "\n",
    "            self.centroids = new_centroids\n",
    "        return [self.centroids, self.clusters]\n",
    "\n",
    "    def predict(self, data):\n",
    "        return self.assign_clusters(data)"
   ]
  },
  {
   "cell_type": "code",
   "execution_count": 25,
   "metadata": {
    "colab": {
     "base_uri": "https://localhost:8080/"
    },
    "executionInfo": {
     "elapsed": 1,
     "status": "ok",
     "timestamp": 1727081618198,
     "user": {
      "displayName": "Nha Nguyen",
      "userId": "05581690424976052134"
     },
     "user_tz": -420
    },
    "id": "Xz_J6mDcAvC2",
    "outputId": "1b99879d-081d-43b3-914d-66bfee8957b8"
   },
   "outputs": [
    {
     "data": {
      "text/plain": [
       "(array([[0.66666667, 0.        , 0.33333333, 0.33333333, 0.66666667,\n",
       "         0.        , 0.33333333, 0.33333333, 0.33333333, 0.        ,\n",
       "         0.        , 0.66666667],\n",
       "        [0.33333333, 0.66666667, 0.33333333, 0.33333333, 0.        ,\n",
       "         0.66666667, 1.        , 0.        , 0.        , 0.33333333,\n",
       "         0.33333333, 0.        ]]),\n",
       " array([0, 1, 0, 1, 0, 1], dtype=int64))"
      ]
     },
     "execution_count": 25,
     "metadata": {},
     "output_type": "execute_result"
    }
   ],
   "source": [
    "model = kmeans(k=2, max_iters=100)\n",
    "centroid_result, cluster_result = model.fit(X)\n",
    "centroid_result, cluster_result"
   ]
  },
  {
   "cell_type": "markdown",
   "metadata": {
    "id": "kYeIbKUlDgkN"
   },
   "source": [
    "#### Code thư viện"
   ]
  },
  {
   "cell_type": "code",
   "execution_count": 26,
   "metadata": {
    "colab": {
     "base_uri": "https://localhost:8080/"
    },
    "executionInfo": {
     "elapsed": 450,
     "status": "ok",
     "timestamp": 1727081525959,
     "user": {
      "displayName": "Nha Nguyen",
      "userId": "05581690424976052134"
     },
     "user_tz": -420
    },
    "id": "gnPG9D3VBUK3",
    "outputId": "8d4ee2e8-8d45-43fb-8c70-a0d47cba3b6a"
   },
   "outputs": [
    {
     "name": "stdout",
     "output_type": "stream",
     "text": [
      "Centroids:\n",
      "[[0.66666667 0.         0.33333333 0.33333333 0.66666667 0.\n",
      "  0.33333333 0.33333333 0.33333333 0.         0.         0.66666667]\n",
      " [0.33333333 0.66666667 0.33333333 0.33333333 0.         0.66666667\n",
      "  1.         0.         0.         0.33333333 0.33333333 0.        ]]\n",
      "Labels:\n",
      "[0 1 0 1 0 1]\n",
      "Cluster 0: a very good movie\n",
      "Cluster 1: this movie is excellent\n",
      "Cluster 0: very good and excellent\n",
      "Cluster 1: the movie is bad\n",
      "Cluster 0: poor and boring plot\n",
      "Cluster 1: bad and boring movie\n"
     ]
    },
    {
     "name": "stderr",
     "output_type": "stream",
     "text": [
      "c:\\Users\\admin\\anaconda3\\Lib\\site-packages\\sklearn\\cluster\\_kmeans.py:1382: UserWarning: KMeans is known to have a memory leak on Windows with MKL, when there are less chunks than available threads. You can avoid it by setting the environment variable OMP_NUM_THREADS=1.\n",
      "  warnings.warn(\n"
     ]
    }
   ],
   "source": [
    "from sklearn.cluster import KMeans\n",
    "\n",
    "initial_centroids = np.array([X[2], X[3]])\n",
    "kmeans = KMeans(n_clusters=2, init=initial_centroids, n_init=1) # n_init=1 to force the algorithm to use the initial centroids\n",
    "kmeans.fit(X)\n",
    "labels = kmeans.labels_\n",
    "centroids = kmeans.cluster_centers_\n",
    "print(\"Centroids:\")\n",
    "print(centroids)\n",
    "print(\"Labels:\")\n",
    "print(labels)\n",
    "for sentence, label in zip(corpus, labels):\n",
    "    print(f\"Cluster {label}: {sentence}\")"
   ]
  },
  {
   "cell_type": "markdown",
   "metadata": {
    "id": "9QQ6ZL1uD0EV"
   },
   "source": [
    "### **Code nếu không chọn trước centroid thì kết quả sẽ thực sự đúng với ý nghĩa của câu**"
   ]
  },
  {
   "cell_type": "code",
   "execution_count": 27,
   "metadata": {
    "colab": {
     "base_uri": "https://localhost:8080/"
    },
    "executionInfo": {
     "elapsed": 2,
     "status": "ok",
     "timestamp": 1727080820550,
     "user": {
      "displayName": "Nha Nguyen",
      "userId": "05581690424976052134"
     },
     "user_tz": -420
    },
    "id": "-M_Kp0x6CO0G",
    "outputId": "d839cfac-8db5-4b21-ed22-36fb6d1683d5"
   },
   "outputs": [
    {
     "name": "stderr",
     "output_type": "stream",
     "text": [
      "c:\\Users\\admin\\anaconda3\\Lib\\site-packages\\sklearn\\cluster\\_kmeans.py:870: FutureWarning: The default value of `n_init` will change from 10 to 'auto' in 1.4. Set the value of `n_init` explicitly to suppress the warning\n",
      "  warnings.warn(\n",
      "c:\\Users\\admin\\anaconda3\\Lib\\site-packages\\sklearn\\cluster\\_kmeans.py:1382: UserWarning: KMeans is known to have a memory leak on Windows with MKL, when there are less chunks than available threads. You can avoid it by setting the environment variable OMP_NUM_THREADS=1.\n",
      "  warnings.warn(\n"
     ]
    },
    {
     "name": "stdout",
     "output_type": "stream",
     "text": [
      "Centroids:\n",
      "[[0.25 0.25 0.   0.5  0.5  0.5  0.75 0.   0.   0.25 0.25 0.5 ]\n",
      " [1.   0.5  1.   0.   0.   0.   0.5  0.5  0.5  0.   0.   0.  ]]\n",
      "Labels:\n",
      "[0 0 0 0 1 1]\n",
      "Cluster 0: a very good movie\n",
      "Cluster 0: this movie is excellent\n",
      "Cluster 0: very good and excellent\n",
      "Cluster 0: the movie is bad\n",
      "Cluster 1: poor and boring plot\n",
      "Cluster 1: bad and boring movie\n"
     ]
    }
   ],
   "source": [
    "kmeans = KMeans(n_clusters=2)\n",
    "kmeans.fit(X)\n",
    "labels = kmeans.labels_\n",
    "centroids = kmeans.cluster_centers_\n",
    "print(\"Centroids:\")\n",
    "print(centroids)\n",
    "print(\"Labels:\")\n",
    "print(labels)\n",
    "for sentence, label in zip(corpus, labels):\n",
    "    print(f\"Cluster {label}: {sentence}\")"
   ]
  },
  {
   "cell_type": "markdown",
   "metadata": {
    "id": "zQCKEIERkyMH"
   },
   "source": [
    "# **Breast Cancer Wisconsin Diagnostic**\n"
   ]
  },
  {
   "cell_type": "markdown",
   "metadata": {
    "id": "_GW3yw_JQPdb"
   },
   "source": [
    "## **Tập Dữ Liệu Chẩn Đoán Ung Thư Vú**\n",
    "\n",
    "Tập dữ liệu này chứa thông tin về các đặc trưng liên quan đến khối u ung thư vú, cùng với chẩn đoán của chúng. (Đây là dữ liệu đã được cắt vớt và chuẩn hóa)\n",
    "\n",
    "### Mô Tả Dữ Liệu\n",
    "\n",
    "| Chỉ số | Trung Bình Chu Vi | Trung Bình Diện Tích | Trung Bình Tính Chất Đặc | Chẩn Đoán |\n",
    "|--------|-------------------|-----------------------|---------------------------|-----------|\n",
    "| 0      | 0.32              | 0.20                  | 0.10                      | B         |\n",
    "| 1      | 0.13              | 0.06                  | 0.20                      | B         |\n",
    "| 2      | 0.31              | 0.19                  | 0.10                      | B         |\n",
    "| 3      | 0.24              | 0.14                  | 0.06                      | B         |\n",
    "| 4      | 0.21              | 0.12                  | 0.13                      | B         |\n",
    "| 5      | 0.58              | 0.43                  | 0.47                      | M         |\n",
    "| 6      | 0.56              | 0.36                  | 0.73                      | M         |\n",
    "| 7      | 0.49              | 0.36                  | 0.16                      | M         |\n",
    "| 8      | 0.60              | 0.44                  | 0.43                      | M         |\n",
    "| 9      | 0.54              | 0.40                  | 0.31                      | M         |\n",
    "\n",
    "### Các Đặc Trưng\n",
    "\n",
    "- **Trung Bình Chu Vi**: Trung bình chu vi của các khối u.\n",
    "- **Trung Bình Diện Tích**: Trung bình diện tích của các khối u.\n",
    "- **Trung Bình Tính Chất Đặc**: Trung bình tính chất đặc của các khối u, được tính bằng (chu vi²/diện tích - 1.0).\n",
    "- **Chẩn Đoán**: Nhãn lớp cho biết chẩn đoán của khối u, trong đó 'B' đại diện cho lành tính và 'M' đại diện cho ác tính.\n",
    "\n"
   ]
  },
  {
   "cell_type": "markdown",
   "metadata": {
    "id": "uKoM_ah2VGuD"
   },
   "source": [
    "## **Câu hỏi trắc nghiệm**"
   ]
  },
  {
   "cell_type": "code",
   "execution_count": 28,
   "metadata": {
    "id": "J7KW1ACXOzdb"
   },
   "outputs": [],
   "source": [
    "import pandas as pd\n",
    "import numpy as np"
   ]
  },
  {
   "cell_type": "code",
   "execution_count": 29,
   "metadata": {
    "colab": {
     "base_uri": "https://localhost:8080/",
     "height": 363
    },
    "executionInfo": {
     "elapsed": 3485,
     "status": "ok",
     "timestamp": 1727418250371,
     "user": {
      "displayName": "Nha Nguyen",
      "userId": "05581690424976052134"
     },
     "user_tz": -420
    },
    "id": "bZqzKntelSvY",
    "outputId": "1180f0be-e462-46e0-fa7a-475eaf37022f"
   },
   "outputs": [
    {
     "data": {
      "text/html": [
       "<div>\n",
       "<style scoped>\n",
       "    .dataframe tbody tr th:only-of-type {\n",
       "        vertical-align: middle;\n",
       "    }\n",
       "\n",
       "    .dataframe tbody tr th {\n",
       "        vertical-align: top;\n",
       "    }\n",
       "\n",
       "    .dataframe thead th {\n",
       "        text-align: right;\n",
       "    }\n",
       "</style>\n",
       "<table border=\"1\" class=\"dataframe\">\n",
       "  <thead>\n",
       "    <tr style=\"text-align: right;\">\n",
       "      <th></th>\n",
       "      <th>perimeter_mean</th>\n",
       "      <th>area_mean</th>\n",
       "      <th>compactness_mean</th>\n",
       "      <th>diagnosis</th>\n",
       "    </tr>\n",
       "  </thead>\n",
       "  <tbody>\n",
       "    <tr>\n",
       "      <th>0</th>\n",
       "      <td>0.32</td>\n",
       "      <td>0.20</td>\n",
       "      <td>0.10</td>\n",
       "      <td>B</td>\n",
       "    </tr>\n",
       "    <tr>\n",
       "      <th>1</th>\n",
       "      <td>0.13</td>\n",
       "      <td>0.06</td>\n",
       "      <td>0.20</td>\n",
       "      <td>B</td>\n",
       "    </tr>\n",
       "    <tr>\n",
       "      <th>2</th>\n",
       "      <td>0.31</td>\n",
       "      <td>0.19</td>\n",
       "      <td>0.10</td>\n",
       "      <td>B</td>\n",
       "    </tr>\n",
       "    <tr>\n",
       "      <th>3</th>\n",
       "      <td>0.24</td>\n",
       "      <td>0.14</td>\n",
       "      <td>0.06</td>\n",
       "      <td>B</td>\n",
       "    </tr>\n",
       "    <tr>\n",
       "      <th>4</th>\n",
       "      <td>0.21</td>\n",
       "      <td>0.12</td>\n",
       "      <td>0.13</td>\n",
       "      <td>B</td>\n",
       "    </tr>\n",
       "    <tr>\n",
       "      <th>5</th>\n",
       "      <td>0.58</td>\n",
       "      <td>0.43</td>\n",
       "      <td>0.47</td>\n",
       "      <td>M</td>\n",
       "    </tr>\n",
       "    <tr>\n",
       "      <th>6</th>\n",
       "      <td>0.56</td>\n",
       "      <td>0.36</td>\n",
       "      <td>0.73</td>\n",
       "      <td>M</td>\n",
       "    </tr>\n",
       "    <tr>\n",
       "      <th>7</th>\n",
       "      <td>0.49</td>\n",
       "      <td>0.36</td>\n",
       "      <td>0.16</td>\n",
       "      <td>M</td>\n",
       "    </tr>\n",
       "    <tr>\n",
       "      <th>8</th>\n",
       "      <td>0.60</td>\n",
       "      <td>0.44</td>\n",
       "      <td>0.43</td>\n",
       "      <td>M</td>\n",
       "    </tr>\n",
       "    <tr>\n",
       "      <th>9</th>\n",
       "      <td>0.54</td>\n",
       "      <td>0.40</td>\n",
       "      <td>0.31</td>\n",
       "      <td>M</td>\n",
       "    </tr>\n",
       "  </tbody>\n",
       "</table>\n",
       "</div>"
      ],
      "text/plain": [
       "   perimeter_mean  area_mean  compactness_mean diagnosis\n",
       "0            0.32       0.20              0.10         B\n",
       "1            0.13       0.06              0.20         B\n",
       "2            0.31       0.19              0.10         B\n",
       "3            0.24       0.14              0.06         B\n",
       "4            0.21       0.12              0.13         B\n",
       "5            0.58       0.43              0.47         M\n",
       "6            0.56       0.36              0.73         M\n",
       "7            0.49       0.36              0.16         M\n",
       "8            0.60       0.44              0.43         M\n",
       "9            0.54       0.40              0.31         M"
      ]
     },
     "execution_count": 29,
     "metadata": {},
     "output_type": "execute_result"
    }
   ],
   "source": [
    "df = pd.read_csv('../../Datasets/KMean & KNN/final_dataset.csv')\n",
    "df"
   ]
  },
  {
   "cell_type": "code",
   "execution_count": 30,
   "metadata": {
    "colab": {
     "base_uri": "https://localhost:8080/"
    },
    "executionInfo": {
     "elapsed": 498,
     "status": "ok",
     "timestamp": 1727419384618,
     "user": {
      "displayName": "Nha Nguyen",
      "userId": "05581690424976052134"
     },
     "user_tz": -420
    },
    "id": "t7SKH57ZVW0u",
    "outputId": "7dc84194-0856-4eaf-b1e3-bb70677d68be"
   },
   "outputs": [
    {
     "data": {
      "text/plain": [
       "array([[0.32, 0.2 , 0.1 ],\n",
       "       [0.13, 0.06, 0.2 ],\n",
       "       [0.31, 0.19, 0.1 ],\n",
       "       [0.24, 0.14, 0.06],\n",
       "       [0.21, 0.12, 0.13],\n",
       "       [0.58, 0.43, 0.47],\n",
       "       [0.56, 0.36, 0.73],\n",
       "       [0.49, 0.36, 0.16],\n",
       "       [0.6 , 0.44, 0.43],\n",
       "       [0.54, 0.4 , 0.31]])"
      ]
     },
     "execution_count": 30,
     "metadata": {},
     "output_type": "execute_result"
    }
   ],
   "source": [
    "train_data = df[[\"perimeter_mean\", \"area_mean\", \"compactness_mean\"]].values\n",
    "train_data"
   ]
  },
  {
   "cell_type": "markdown",
   "metadata": {
    "id": "Oqv2MkIHOwyh"
   },
   "source": [
    "### **Iteration1: Chọn 2 tâm cụm đầu tiên**\n",
    "C1: `[0.24, 0.14, 0.06]`(Index 3)   \n",
    "C2: `[0.56, 0.36, 0.73]`(Index 6)  "
   ]
  },
  {
   "cell_type": "code",
   "execution_count": 31,
   "metadata": {
    "colab": {
     "base_uri": "https://localhost:8080/"
    },
    "executionInfo": {
     "elapsed": 2,
     "status": "ok",
     "timestamp": 1727419385016,
     "user": {
      "displayName": "Nha Nguyen",
      "userId": "05581690424976052134"
     },
     "user_tz": -420
    },
    "id": "flYfaY4RTdb9",
    "outputId": "733d58f4-0d44-4268-e798-809c5922d35f"
   },
   "outputs": [
    {
     "data": {
      "text/plain": [
       "[array([0.24, 0.14, 0.06]), array([0.56, 0.36, 0.73])]"
      ]
     },
     "execution_count": 31,
     "metadata": {},
     "output_type": "execute_result"
    }
   ],
   "source": [
    "centroid_values = [train_data[3], train_data[6]]\n",
    "centroid_values"
   ]
  },
  {
   "cell_type": "code",
   "execution_count": 32,
   "metadata": {
    "id": "kGJ8EN-1XpjU"
   },
   "outputs": [],
   "source": [
    "def euclidean_distance(x1, x2):\n",
    "    return np.sqrt(np.sum(np.power(x1 - x2, 2)))"
   ]
  },
  {
   "cell_type": "markdown",
   "metadata": {
    "id": "LTO39CmNZJck"
   },
   "source": [
    "#### Câu 1: Tính tổng khoảng cách của các điểm dữ liệu tới tâm cụm thứ nhất C1: `[0.24, 0.14, 0.06]` (Đáp án làm tròn tới 2 chữ số thập phân)  \n",
    "A. 2.53  \n",
    "B. 3.46  \n",
    "C. 3.27  \n",
    "D. 2.89  \n",
    "Đáp án: C"
   ]
  },
  {
   "cell_type": "code",
   "execution_count": 33,
   "metadata": {
    "colab": {
     "base_uri": "https://localhost:8080/"
    },
    "executionInfo": {
     "elapsed": 405,
     "status": "ok",
     "timestamp": 1727419389050,
     "user": {
      "displayName": "Nha Nguyen",
      "userId": "05581690424976052134"
     },
     "user_tz": -420
    },
    "id": "ssBuCTynZtPd",
    "outputId": "b69fa940-97be-4a64-bd3e-baa99f4224fb"
   },
   "outputs": [
    {
     "data": {
      "text/plain": [
       "array([0.24, 0.14, 0.06])"
      ]
     },
     "execution_count": 33,
     "metadata": {},
     "output_type": "execute_result"
    }
   ],
   "source": [
    "centroid_values[0]"
   ]
  },
  {
   "cell_type": "code",
   "execution_count": 34,
   "metadata": {
    "colab": {
     "base_uri": "https://localhost:8080/"
    },
    "executionInfo": {
     "elapsed": 494,
     "status": "ok",
     "timestamp": 1727419392338,
     "user": {
      "displayName": "Nha Nguyen",
      "userId": "05581690424976052134"
     },
     "user_tz": -420
    },
    "id": "4653vazxXpdr",
    "outputId": "00c11f0a-9e7a-4954-bf64-45bfcac5d927"
   },
   "outputs": [
    {
     "name": "stdout",
     "output_type": "stream",
     "text": [
      "3.2713032282965138\n"
     ]
    }
   ],
   "source": [
    "S = 0\n",
    "for i in range(len(train_data)):\n",
    "    x = euclidean_distance(train_data[i], centroid_values[0])\n",
    "    S += x\n",
    "print(S)"
   ]
  },
  {
   "cell_type": "markdown",
   "metadata": {
    "id": "gbTTYLwZaEh8"
   },
   "source": [
    "#### Câu 2: Tính tổng khoảng cách của các điểm dữ liệu tới tâm cụm thứ nhất C2: `[0.56, 0.36, 0.73]` (Đáp án làm tròn tới 2 chữ số thập phân)  \n",
    "A. 5.32  \n",
    "B. 5.23  \n",
    "C. 4.57  \n",
    "D. 4.75  \n",
    "Đáp án: B"
   ]
  },
  {
   "cell_type": "code",
   "execution_count": 35,
   "metadata": {
    "colab": {
     "base_uri": "https://localhost:8080/"
    },
    "executionInfo": {
     "elapsed": 422,
     "status": "ok",
     "timestamp": 1727419404164,
     "user": {
      "displayName": "Nha Nguyen",
      "userId": "05581690424976052134"
     },
     "user_tz": -420
    },
    "id": "eu75lzknXpgc",
    "outputId": "8922fe56-cfb2-4451-cee0-10002bfc0d59"
   },
   "outputs": [
    {
     "data": {
      "text/plain": [
       "array([0.56, 0.36, 0.73])"
      ]
     },
     "execution_count": 35,
     "metadata": {},
     "output_type": "execute_result"
    }
   ],
   "source": [
    "centroid_values[1]"
   ]
  },
  {
   "cell_type": "code",
   "execution_count": 36,
   "metadata": {
    "colab": {
     "base_uri": "https://localhost:8080/"
    },
    "executionInfo": {
     "elapsed": 2,
     "status": "ok",
     "timestamp": 1727419404573,
     "user": {
      "displayName": "Nha Nguyen",
      "userId": "05581690424976052134"
     },
     "user_tz": -420
    },
    "id": "tWvF5iUCaLyT",
    "outputId": "cb68a283-0488-4222-a53c-f5b8f48a7947"
   },
   "outputs": [
    {
     "name": "stdout",
     "output_type": "stream",
     "text": [
      "5.226220976117363\n"
     ]
    }
   ],
   "source": [
    "S2 = 0\n",
    "for i in range(len(train_data)):\n",
    "    x = euclidean_distance(train_data[i], centroid_values[1])\n",
    "    S2 += x\n",
    "print(S2)"
   ]
  },
  {
   "cell_type": "markdown",
   "metadata": {
    "id": "UBTw8D9mUVJb"
   },
   "source": [
    "#### Câu 3: Xác định các điểm dữ liệu thuộc cụm 1 và cụm 2:\n",
    "Vector biểu diễn phân cụm của bộ data_train là?  \n",
    "Ví dụ: C1 là 0, C2 là 1, nếu điểm 0 thuộc cụm 2, điểm 1 thuộc cụm 1 thì `allocation = [1, 0, ...]`  \n",
    "`allocation = [[0], [1], [2], [3], [4], [5], [6], [7], [8], [9]]`  \n",
    "\n",
    "A. `[0, 0, 0, 0, 0, 1, 1, 0, 1, 1]`  \n",
    "B. `[0, 1, 0, 0, 0, 1, 1, 0, 1, 1]`  \n",
    "C. `[0, 0, 1, 0, 0, 0, 1, 0, 1, 0]`  \n",
    "D. `[0, 1, 0, 1, 0, 1, 0, 0, 1, 1]`  \n",
    "Đáp án: A"
   ]
  },
  {
   "cell_type": "code",
   "execution_count": 37,
   "metadata": {
    "id": "AfA5lWc7Thj-"
   },
   "outputs": [],
   "source": [
    "def assign_clusters(data, centroid_values):\n",
    "    data = np.array(data)\n",
    "    centroid_values = np.array(centroid_values)\n",
    "    distances = []\n",
    "    distance1 = []\n",
    "    distance2 = []\n",
    "    for x in data:\n",
    "        for i, centroid_value in enumerate(centroid_values):\n",
    "            distance = euclidean_distance(x, centroid_value)\n",
    "            if i == 0:\n",
    "                distance1.append(distance)\n",
    "            elif i == 1:\n",
    "                distance2.append(distance)\n",
    "    distances.append(distance1)\n",
    "    distances.append(distance2)\n",
    "    print(distances)\n",
    "\n",
    "    rs = [0 if a < b else 1 for a, b in zip(distances[0], distances[1])]\n",
    "    return rs"
   ]
  },
  {
   "cell_type": "code",
   "execution_count": 38,
   "metadata": {
    "colab": {
     "base_uri": "https://localhost:8080/"
    },
    "executionInfo": {
     "elapsed": 413,
     "status": "ok",
     "timestamp": 1727419424987,
     "user": {
      "displayName": "Nha Nguyen",
      "userId": "05581690424976052134"
     },
     "user_tz": -420
    },
    "id": "-ONPGI9HU7_7",
    "outputId": "b540dc47-06d9-4010-b4de-ec2502ec9826"
   },
   "outputs": [
    {
     "name": "stdout",
     "output_type": "stream",
     "text": [
      "[[0.1077032961426901, 0.19519221295943137, 0.09486832980505139, 0.0, 0.07874007874011812, 0.6064651680022521, 0.7744029958619736, 0.3477067730142742, 0.5970762095411272, 0.46914816422959604], [0.6928924880528003, 0.7455199527846321, 0.6987846592477542, 0.7744029958619736, 0.7349149610669251, 0.27, 0.0, 0.5742821606144491, 0.31304951684997057, 0.4223742416388575]]\n"
     ]
    },
    {
     "data": {
      "text/plain": [
       "[0, 0, 0, 0, 0, 1, 1, 0, 1, 1]"
      ]
     },
     "execution_count": 38,
     "metadata": {},
     "output_type": "execute_result"
    }
   ],
   "source": [
    "train_data = [\n",
    "[0.32, 0.20, 0.10],\n",
    "[0.13, 0.06, 0.20],\n",
    "[0.31, 0.19, 0.10],\n",
    "[0.24, 0.14, 0.06],\n",
    "[0.21, 0.12, 0.13],\n",
    "[0.58, 0.43, 0.47],\n",
    "[0.56, 0.36, 0.73],\n",
    "[0.49, 0.36, 0.16],\n",
    "[0.60, 0.44, 0.43],\n",
    "[0.54, 0.40, 0.31]\n",
    "]\n",
    "\n",
    "centroid_values = [[0.24, 0.14, 0.06], [0.56, 0.36, 0.73]]\n",
    "\n",
    "clusters = assign_clusters(train_data, centroid_values)\n",
    "clusters"
   ]
  },
  {
   "cell_type": "markdown",
   "metadata": {
    "id": "wib43Ul2apOL"
   },
   "source": [
    "### Iteration 2:"
   ]
  },
  {
   "cell_type": "markdown",
   "metadata": {
    "id": "48jaJEHLa00z"
   },
   "source": [
    "#### Câu 4: Cập nhật tọa độ của tâm cụm thứ 1 và thứ 2 dựa trên các điểm dữ liệu được gán cho mỗi tâm cụm trước đó (Chọn đáp án gần bằng, làm tròn 2 chữ số thập phân):  \n",
    "A. C1: `[0.48, 0.32, 0.27]`, C2: `[0.64, 0.23, 0.19]`  \n",
    "B. C1: `[0.23, 0.12, 0.54]`, C2: `[0.18, 0.37, 0.34]`  \n",
    "C. C1: `[0.32, 0.18, 0.32]`, C2: `[0.17, 0.24, 0.12]`  \n",
    "D. C1: `[0.28, 0.18, 0.13]`, C2: `[0.57, 0.41, 0.49]`  \n",
    "Đáp án: D"
   ]
  },
  {
   "cell_type": "code",
   "execution_count": 39,
   "metadata": {
    "id": "28RJgWpWbAGk"
   },
   "outputs": [],
   "source": [
    "def update_centroids(data):\n",
    "    return np.array([data[clusters == i].mean(axis=0) for i in range(2)])"
   ]
  },
  {
   "cell_type": "code",
   "execution_count": 40,
   "metadata": {
    "colab": {
     "base_uri": "https://localhost:8080/"
    },
    "executionInfo": {
     "elapsed": 401,
     "status": "ok",
     "timestamp": 1727087513294,
     "user": {
      "displayName": "Nha Nguyen",
      "userId": "05581690424976052134"
     },
     "user_tz": -420
    },
    "id": "_A92dQTtXYuG",
    "outputId": "75d31b2d-e34d-426d-d458-9094a364995d"
   },
   "outputs": [
    {
     "ename": "AttributeError",
     "evalue": "'list' object has no attribute 'mean'",
     "output_type": "error",
     "traceback": [
      "\u001b[1;31m---------------------------------------------------------------------------\u001b[0m",
      "\u001b[1;31mAttributeError\u001b[0m                            Traceback (most recent call last)",
      "Cell \u001b[1;32mIn[40], line 1\u001b[0m\n\u001b[1;32m----> 1\u001b[0m centroid_values \u001b[38;5;241m=\u001b[39m update_centroids(train_data)\n\u001b[0;32m      2\u001b[0m centroid_values\n",
      "Cell \u001b[1;32mIn[39], line 2\u001b[0m, in \u001b[0;36mupdate_centroids\u001b[1;34m(data)\u001b[0m\n\u001b[0;32m      1\u001b[0m \u001b[38;5;28;01mdef\u001b[39;00m \u001b[38;5;21mupdate_centroids\u001b[39m(data):\n\u001b[1;32m----> 2\u001b[0m     \u001b[38;5;28;01mreturn\u001b[39;00m np\u001b[38;5;241m.\u001b[39marray([data[clusters \u001b[38;5;241m==\u001b[39m i]\u001b[38;5;241m.\u001b[39mmean(axis\u001b[38;5;241m=\u001b[39m\u001b[38;5;241m0\u001b[39m) \u001b[38;5;28;01mfor\u001b[39;00m i \u001b[38;5;129;01min\u001b[39;00m \u001b[38;5;28mrange\u001b[39m(\u001b[38;5;241m2\u001b[39m)])\n",
      "Cell \u001b[1;32mIn[39], line 2\u001b[0m, in \u001b[0;36m<listcomp>\u001b[1;34m(.0)\u001b[0m\n\u001b[0;32m      1\u001b[0m \u001b[38;5;28;01mdef\u001b[39;00m \u001b[38;5;21mupdate_centroids\u001b[39m(data):\n\u001b[1;32m----> 2\u001b[0m     \u001b[38;5;28;01mreturn\u001b[39;00m np\u001b[38;5;241m.\u001b[39marray([data[clusters \u001b[38;5;241m==\u001b[39m i]\u001b[38;5;241m.\u001b[39mmean(axis\u001b[38;5;241m=\u001b[39m\u001b[38;5;241m0\u001b[39m) \u001b[38;5;28;01mfor\u001b[39;00m i \u001b[38;5;129;01min\u001b[39;00m \u001b[38;5;28mrange\u001b[39m(\u001b[38;5;241m2\u001b[39m)])\n",
      "\u001b[1;31mAttributeError\u001b[0m: 'list' object has no attribute 'mean'"
     ]
    }
   ],
   "source": [
    "centroid_values = update_centroids(train_data)\n",
    "centroid_values"
   ]
  },
  {
   "cell_type": "markdown",
   "metadata": {
    "id": "eQZf4FbYbyvT"
   },
   "source": [
    "#### Câu 5: Xác định các điểm dữ liệu thuộc cụm 1 và cụm 2 sau khi cập nhật tâm cụm (Theo vector biểu diễn)\n",
    "\n",
    "A. `[0, 1, 0, 0, 0, 1, 1, 0, 1, 1]`  \n",
    "B. `[0, 0, 1, 0, 0, 0, 1, 0, 1, 0]`  \n",
    "C. `[0, 0, 0, 0, 0, 1, 1, 0, 1, 1]`  \n",
    "D. `[0, 1, 0, 1, 0, 1, 0, 0, 1, 1]`  \n",
    "Đáp án: C"
   ]
  },
  {
   "cell_type": "code",
   "execution_count": null,
   "metadata": {
    "colab": {
     "base_uri": "https://localhost:8080/"
    },
    "executionInfo": {
     "elapsed": 1,
     "status": "ok",
     "timestamp": 1727087555230,
     "user": {
      "displayName": "Nha Nguyen",
      "userId": "05581690424976052134"
     },
     "user_tz": -420
    },
    "id": "zxlQke-DcKik",
    "outputId": "f9ed2ae8-fde1-4e88-dbe7-42b6b7d2fc72"
   },
   "outputs": [
    {
     "data": {
      "text/plain": [
       "array([[0.28333333, 0.17833333, 0.125     ],\n",
       "       [0.57      , 0.4075    , 0.485     ]])"
      ]
     },
     "execution_count": 69,
     "metadata": {},
     "output_type": "execute_result"
    }
   ],
   "source": [
    "centroid_values"
   ]
  },
  {
   "cell_type": "code",
   "execution_count": null,
   "metadata": {
    "id": "NXhrgRghbGpJ"
   },
   "outputs": [],
   "source": [
    "def assign_clusters(data):\n",
    "    distances = np.array([[euclidean_distance(x, centroid_value) for centroid_value in centroid_values] for x in data])\n",
    "    return np.argmin(distances, axis=1)"
   ]
  },
  {
   "cell_type": "code",
   "execution_count": null,
   "metadata": {
    "colab": {
     "base_uri": "https://localhost:8080/"
    },
    "executionInfo": {
     "elapsed": 535,
     "status": "ok",
     "timestamp": 1727087522452,
     "user": {
      "displayName": "Nha Nguyen",
      "userId": "05581690424976052134"
     },
     "user_tz": -420
    },
    "id": "qFPDi-_Kb7rc",
    "outputId": "a554e7ad-ec87-40b7-955c-be5d9220fe59"
   },
   "outputs": [
    {
     "data": {
      "text/plain": [
       "array([0, 0, 0, 0, 0, 1, 1, 0, 1, 1])"
      ]
     },
     "execution_count": 68,
     "metadata": {},
     "output_type": "execute_result"
    }
   ],
   "source": [
    "clusters = assign_clusters(train_data)\n",
    "clusters"
   ]
  },
  {
   "cell_type": "markdown",
   "metadata": {
    "id": "3jbVOnrmcqnv"
   },
   "source": [
    "### **Code tổng cả bài với centroids khởi đầu là train_data[3], train_data[6]**"
   ]
  },
  {
   "cell_type": "markdown",
   "metadata": {
    "id": "cgTnq8t7cqnv"
   },
   "source": [
    "#### Code tay"
   ]
  },
  {
   "cell_type": "code",
   "execution_count": null,
   "metadata": {
    "id": "uDcCavFocqnw"
   },
   "outputs": [],
   "source": [
    "class kmeans:\n",
    "    def __init__(self, k, max_iters=100):\n",
    "        self.k = k                   # Số cụm\n",
    "        self.max_iters = max_iters   # Số vòng lặp tối đa\n",
    "        self.centroids = None        # Tọa độ tâm cụm\n",
    "        self.clusters = None         # Cụm của từng điểm dữ liệu\n",
    "\n",
    "    def euclidean_distance(self, x1, x2):\n",
    "        return np.sqrt(np.sum(np.power(x1 - x2, 2)))\n",
    "\n",
    "    def assign_clusters(self, data):\n",
    "        distances = np.array([[self.euclidean_distance(x, centroid) for centroid in self.centroids] for x in data])\n",
    "        return np.argmin(distances, axis=1)\n",
    "\n",
    "    def update_centroids(self, data):\n",
    "        return np.array([data[self.clusters == i].mean(axis=0) for i in range(self.k)])\n",
    "\n",
    "    def fit(self, data):\n",
    "        self.centroids = [data[3], data[6]]\n",
    "        for i in range(self.max_iters):\n",
    "            self.clusters = self.assign_clusters(data)\n",
    "            new_centroids = self.update_centroids(data)\n",
    "\n",
    "            if np.all(self.centroids == new_centroids):\n",
    "                break\n",
    "\n",
    "            self.centroids = new_centroids\n",
    "        return [self.centroids, self.clusters]\n",
    "\n",
    "    def predict(self, data):\n",
    "        return self.assign_clusters(data)"
   ]
  },
  {
   "cell_type": "code",
   "execution_count": null,
   "metadata": {
    "colab": {
     "base_uri": "https://localhost:8080/"
    },
    "executionInfo": {
     "elapsed": 373,
     "status": "ok",
     "timestamp": 1727087969989,
     "user": {
      "displayName": "Nha Nguyen",
      "userId": "05581690424976052134"
     },
     "user_tz": -420
    },
    "id": "af-vnkgZcqnw",
    "outputId": "221a0723-2d7e-4c85-f9be-3030e7964489"
   },
   "outputs": [
    {
     "name": "stdout",
     "output_type": "stream",
     "text": [
      "Centroids: [[0.28333333 0.17833333 0.125     ]\n",
      " [0.57       0.4075     0.485     ]]\n",
      "Labels: [0 0 0 0 0 1 1 0 1 1]\n"
     ]
    }
   ],
   "source": [
    "model = kmeans(k=2, max_iters=100)\n",
    "centroid_result, cluster_result = model.fit(train_data)\n",
    "print(f\"Centroids: {centroid_result}\")\n",
    "print(f\"Labels: {cluster_result}\")"
   ]
  },
  {
   "cell_type": "markdown",
   "metadata": {
    "id": "OYi2E9Ydcqnw"
   },
   "source": [
    "#### Code thư viện"
   ]
  },
  {
   "cell_type": "code",
   "execution_count": null,
   "metadata": {
    "colab": {
     "base_uri": "https://localhost:8080/"
    },
    "executionInfo": {
     "elapsed": 421,
     "status": "ok",
     "timestamp": 1727087833609,
     "user": {
      "displayName": "Nha Nguyen",
      "userId": "05581690424976052134"
     },
     "user_tz": -420
    },
    "id": "OMWzKEMGcqnw",
    "outputId": "d2812e1f-ff7b-438c-93d6-b5bb385c692b"
   },
   "outputs": [
    {
     "name": "stdout",
     "output_type": "stream",
     "text": [
      "Centroids:\n",
      "[[0.28333333 0.17833333 0.125     ]\n",
      " [0.57       0.4075     0.485     ]]\n",
      "Labels:\n",
      "[0 0 0 0 0 1 1 0 1 1]\n"
     ]
    }
   ],
   "source": [
    "from sklearn.cluster import KMeans\n",
    "\n",
    "initial_centroids = np.array([train_data[3], train_data[6]])\n",
    "kmeans = KMeans(n_clusters=2, init=initial_centroids, n_init=1)\n",
    "kmeans.fit(train_data)\n",
    "labels = kmeans.labels_\n",
    "centroids = kmeans.cluster_centers_\n",
    "print(\"Centroids:\")\n",
    "print(centroids)\n",
    "print(\"Labels:\")\n",
    "print(labels)"
   ]
  },
  {
   "cell_type": "markdown",
   "metadata": {
    "id": "NYVjGsVAdXzT"
   },
   "source": [
    "### **Code nếu không chọn trước centroid thì kết quả sẽ thực sự đúng với label thực**"
   ]
  },
  {
   "cell_type": "code",
   "execution_count": null,
   "metadata": {
    "colab": {
     "base_uri": "https://localhost:8080/"
    },
    "executionInfo": {
     "elapsed": 376,
     "status": "ok",
     "timestamp": 1727087879745,
     "user": {
      "displayName": "Nha Nguyen",
      "userId": "05581690424976052134"
     },
     "user_tz": -420
    },
    "id": "5HHwENaDdXzT",
    "outputId": "a31e7d0b-a4d7-4225-d3c5-cc48362c7705"
   },
   "outputs": [
    {
     "name": "stdout",
     "output_type": "stream",
     "text": [
      "Centroids:\n",
      "[[0.554 0.398 0.42 ]\n",
      " [0.242 0.142 0.118]]\n",
      "Labels:\n",
      "[1 1 1 1 1 0 0 0 0 0]\n"
     ]
    },
    {
     "name": "stderr",
     "output_type": "stream",
     "text": [
      "/usr/local/lib/python3.10/dist-packages/sklearn/cluster/_kmeans.py:1416: FutureWarning: The default value of `n_init` will change from 10 to 'auto' in 1.4. Set the value of `n_init` explicitly to suppress the warning\n",
      "  super()._check_params_vs_input(X, default_n_init=10)\n"
     ]
    }
   ],
   "source": [
    "kmeans = KMeans(n_clusters=2)\n",
    "kmeans.fit(train_data)\n",
    "labels = kmeans.labels_\n",
    "centroids = kmeans.cluster_centers_\n",
    "print(\"Centroids:\")\n",
    "print(centroids)\n",
    "print(\"Labels:\")\n",
    "print(labels)"
   ]
  }
 ],
 "metadata": {
  "colab": {
   "collapsed_sections": [
    "tbCeqvVaC1Nn",
    "stcK6haWDeCm",
    "kYeIbKUlDgkN",
    "9QQ6ZL1uD0EV",
    "LTO39CmNZJck",
    "gbTTYLwZaEh8",
    "wib43Ul2apOL",
    "48jaJEHLa00z",
    "eQZf4FbYbyvT",
    "3jbVOnrmcqnv",
    "cgTnq8t7cqnv",
    "OYi2E9Ydcqnw"
   ],
   "provenance": []
  },
  "kernelspec": {
   "display_name": "base",
   "language": "python",
   "name": "python3"
  },
  "language_info": {
   "codemirror_mode": {
    "name": "ipython",
    "version": 3
   },
   "file_extension": ".py",
   "mimetype": "text/x-python",
   "name": "python",
   "nbconvert_exporter": "python",
   "pygments_lexer": "ipython3",
   "version": "3.11.7"
  }
 },
 "nbformat": 4,
 "nbformat_minor": 0
}
