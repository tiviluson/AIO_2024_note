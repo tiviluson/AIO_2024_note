{
 "cells": [
  {
   "cell_type": "code",
   "execution_count": null,
   "metadata": {
    "id": "S5jumovEuSuC"
   },
   "outputs": [],
   "source": [
    "import torch\n",
    "import torch.nn as nn\n",
    "import torch.optim as optim\n",
    "from transformers import (\n",
    "    AutoTokenizer,\n",
    "    AutoModelForCausalLM,\n",
    "    AutoModelForSequenceClassification\n",
    ")"
   ]
  },
  {
   "cell_type": "code",
   "execution_count": null,
   "metadata": {
    "id": "2SXlEbzquVQt"
   },
   "outputs": [],
   "source": [
    "model_name = \"gpt2\"\n",
    "tokenizer = AutoTokenizer.from_pretrained(model_name)\n",
    "tokenizer.pad_token = tokenizer.eos_token\n",
    "\n",
    "# Policy model\n",
    "policy = AutoModelForCausalLM.from_pretrained(model_name)\n",
    "policy_ref = AutoModelForCausalLM.from_pretrained(model_name)\n",
    "policy.train()\n",
    "policy_ref.eval()\n",
    "\n",
    "# SIMPLIFIED: should be a separate, pretrained model\n",
    "reward_model = AutoModelForSequenceClassification.from_pretrained(\n",
    "    model_name, num_labels=1\n",
    ")\n",
    "reward_model.eval()"
   ]
  },
  {
   "cell_type": "code",
   "execution_count": null,
   "metadata": {
    "id": "wnwoC9oRwqfl"
   },
   "outputs": [],
   "source": [
    "prompt = \"I am studying\"\n",
    "inputs = tokenizer(\n",
    "    prompt, return_tensors=\"pt\", padding=True\n",
    ")\n",
    "input_ids = inputs[\"input_ids\"]\n",
    "\n",
    "with torch.no_grad():\n",
    "    gen_ids = policy.generate(\n",
    "        input_ids=input_ids,\n",
    "        max_new_tokens=20,\n",
    "        do_sample=True,\n",
    "        top_k=50,\n",
    "        temperature=1.0,\n",
    "        pad_token_id=tokenizer.pad_token_id\n",
    "    )\n",
    "response_ids = gen_ids[:, input_ids.shape[-1]:]\n",
    "query_response = torch.cat([input_ids, response_ids], dim=1)"
   ]
  },
  {
   "cell_type": "code",
   "execution_count": null,
   "metadata": {
    "id": "ioTGCLtRw1Eg"
   },
   "outputs": [],
   "source": [
    "# OVER-SIMPLIFIED:\n",
    "# 1. Get log probabilities of the generated response, NOT the entire sequence\n",
    "# 2. Get log probabilities at the time of generation, not resampling\n",
    "# 3. Only calculate the log probabilities of the sampled tokens (top-k, etc.)\n",
    "def get_log_prob_sum(model, input_ids):\n",
    "    labels = input_ids.clone()\n",
    "    with torch.no_grad():\n",
    "        outputs = model(input_ids=input_ids, labels=labels)\n",
    "        loss = outputs.loss  # average negative log-likelihood\n",
    "    return -loss  # return log-likelihood\n",
    "\n",
    "logprob_policy = get_log_prob_sum(policy, query_response)\n",
    "logprob_ref = get_log_prob_sum(policy_ref, query_response)\n",
    "\n",
    "# reward score\n",
    "with torch.no_grad():\n",
    "    reward_inputs = tokenizer(\n",
    "        tokenizer.decode(query_response[0], skip_special_tokens=True),\n",
    "        return_tensors=\"pt\", truncation=True, padding=True\n",
    "    )\n",
    "    reward = reward_model(**reward_inputs).logits.squeeze().detach()"
   ]
  },
  {
   "cell_type": "code",
   "execution_count": null,
   "metadata": {
    "id": "LqtbdnKAJCaQ"
   },
   "outputs": [],
   "source": [
    "# advantage, PPO loss, KL loss\n",
    "# SIMPLIFIED: value should come from a value model\n",
    "value = reward.detach()\n",
    "advantage = reward - value\n",
    "log_ratio = logprob_policy - logprob_ref\n",
    "ratio = torch.exp(log_ratio)\n",
    "\n",
    "# PPO-clip loss\n",
    "clip_eps = 0.2\n",
    "loss1 = ratio * advantage\n",
    "loss2 = torch.clamp(ratio, 1 - clip_eps, 1 + clip_eps) * advantage\n",
    "ppo_clip_loss = -torch.min(loss1, loss2)\n",
    "\n",
    "# KL loss (optional penalty)\n",
    "kl_loss = torch.mean(log_ratio**2)\n",
    "\n",
    "# Loss\n",
    "kl_coef = 0.01  # KL-Pen\n",
    "ppo_loss = ppo_clip_loss + kl_coef * kl_loss"
   ]
  },
  {
   "cell_type": "code",
   "execution_count": null,
   "metadata": {
    "colab": {
     "base_uri": "https://localhost:8080/"
    },
    "executionInfo": {
     "elapsed": 37,
     "status": "ok",
     "timestamp": 1745654929521,
     "user": {
      "displayName": "Thái Nguyễn Quốc",
      "userId": "04072932238722635186"
     },
     "user_tz": -420
    },
    "id": "qcMaLwkzJEzI",
    "outputId": "09360eae-56e1-479d-f412-c9800b64aec7"
   },
   "outputs": [
    {
     "data": {
      "text/plain": [
       "tensor(0.0004)"
      ]
     },
     "execution_count": 18,
     "metadata": {},
     "output_type": "execute_result"
    }
   ],
   "source": [
    "ppo_loss"
   ]
  },
  {
   "cell_type": "code",
   "execution_count": null,
   "metadata": {
    "colab": {
     "base_uri": "https://localhost:8080/"
    },
    "executionInfo": {
     "elapsed": 10,
     "status": "ok",
     "timestamp": 1745648792579,
     "user": {
      "displayName": "Thái Nguyễn Quốc",
      "userId": "04072932238722635186"
     },
     "user_tz": -420
    },
    "id": "bQtr2aDpxDN_",
    "outputId": "3d23e810-0340-4d26-f90f-a98ac20293fd"
   },
   "outputs": [
    {
     "name": "stdout",
     "output_type": "stream",
     "text": [
      "==================================================\n",
      "[Prompt]: I am studying\n",
      "[Response]:  and my body is so perfect. That means that I feel I have the potential to do what I\n",
      "[Reward]: 3.6512\n",
      "[Policy logprob]: -3.2976 | [Ref logprob]: -3.5025\n",
      "[PPO Loss]: -0.0000\n",
      "==================================================\n"
     ]
    }
   ],
   "source": [
    "print(\"=\" * 50)\n",
    "print(f\"[Prompt]: {prompt}\")\n",
    "print(f\"[Response]: {tokenizer.decode(response_ids[0], skip_special_tokens=True)}\")\n",
    "print(f\"[Reward]: {reward.item():.4f}\")\n",
    "print(f\"[Policy logprob]: {logprob_policy.item():.4f} | [Ref logprob]: {logprob_ref.item():.4f}\")\n",
    "print(f\"[PPO Loss]: {ppo_loss.item():.4f}\")\n",
    "print(\"=\" * 50)"
   ]
  }
 ],
 "metadata": {
  "colab": {
   "provenance": [],
   "toc_visible": true
  },
  "kernelspec": {
   "display_name": "Python 3",
   "name": "python3"
  },
  "language_info": {
   "name": "python"
  }
 },
 "nbformat": 4,
 "nbformat_minor": 0
}
