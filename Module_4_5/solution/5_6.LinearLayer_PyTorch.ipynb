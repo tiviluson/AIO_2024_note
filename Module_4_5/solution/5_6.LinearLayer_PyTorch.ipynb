{
 "cells": [
  {
   "cell_type": "code",
   "execution_count": 1,
   "metadata": {},
   "outputs": [
    {
     "name": "stdout",
     "output_type": "stream",
     "text": [
      "torch.Size([1, 2]) tensor([[ 3.2000, -4.2000]])\n",
      "torch.Size([1, 2]) tensor([[3.2000, 0.0000]])\n",
      "torch.Size([1, 3]) tensor([[0.9600, 0.6400, 0.3200]])\n",
      "tensor(0.8125)\n"
     ]
    }
   ],
   "source": [
    "import torch\n",
    "import torch.nn.functional as F\n",
    "\n",
    "# Input tensor\n",
    "x = torch.tensor([[3.0, 2.0]])\n",
    "\n",
    "# Target labels\n",
    "y = torch.tensor([0])\n",
    "\n",
    "# Weights for the first layer\n",
    "bias1 = torch.tensor([0.0, 0.0])\n",
    "weight1 = torch.tensor([[0.8, -1.0],\n",
    "                        [0.4, -0.6]])\n",
    "\n",
    "# Weights for the second layer\n",
    "bias2 = torch.tensor([0.0, 0.0, 0.0])\n",
    "weight2 = torch.tensor([[0.3,   0.2,  0.1],\n",
    "                        [-0.4, -1.0,  0.2]])\n",
    "\n",
    "# Loss function\n",
    "loss_fn = torch.nn.CrossEntropyLoss()\n",
    "\n",
    "# Perform forward pass\n",
    "for _ in range(1):\n",
    "    # Compute hidden layer\n",
    "    hidden = torch.matmul(x, weight1) + bias1\n",
    "    print(hidden.shape, hidden)\n",
    "\n",
    "    hidden = F.relu(hidden)\n",
    "    print(hidden.shape, hidden)\n",
    "\n",
    "    # Compute output layer\n",
    "    output = torch.matmul(hidden, weight2) + bias2\n",
    "    print(output.shape, output)\n",
    "\n",
    "    # Compute loss\n",
    "    l_value = loss_fn(output, y)\n",
    "    print(l_value)"
   ]
  },
  {
   "cell_type": "code",
   "execution_count": null,
   "metadata": {},
   "outputs": [],
   "source": []
  },
  {
   "cell_type": "code",
   "execution_count": null,
   "metadata": {},
   "outputs": [],
   "source": []
  },
  {
   "cell_type": "code",
   "execution_count": 9,
   "metadata": {},
   "outputs": [
    {
     "name": "stdout",
     "output_type": "stream",
     "text": [
      "Hidden layer (before ReLU):\n",
      " tensor([[ 0.4704, -2.5971]], grad_fn=<AddmmBackward0>)\n",
      "Hidden layer (after ReLU):\n",
      " tensor([[0.4704, 0.0000]], grad_fn=<ReluBackward0>)\n",
      "Output layer (before softmax):\n",
      " tensor([[0.1411, 0.0941, 0.0470]], grad_fn=<AddmmBackward0>)\n",
      "Loss: tensor(1.0523, grad_fn=<NllLossBackward0>)\n"
     ]
    }
   ],
   "source": [
    "import torch\n",
    "import torch.nn as nn\n",
    "import torch.nn.functional as F\n",
    "import numpy as np\n",
    "import random\n",
    "\n",
    "np.random.seed(0)\n",
    "random.seed(0)\n",
    "torch.manual_seed(0)\n",
    "\n",
    "\n",
    "# Input tensor\n",
    "x = torch.tensor([[3.0, 2.0]])\n",
    "\n",
    "# Target labels\n",
    "y = torch.tensor([0])\n",
    "\n",
    "# Define the model using nn.Linear and nn.ReLU\n",
    "class SimpleModel(nn.Module):\n",
    "    def __init__(self):\n",
    "        super(SimpleModel, self).__init__()        \n",
    "        self.layer1 = nn.Linear(2, 2)\n",
    "        self.layer2 = nn.Linear(2, 3)\n",
    "        self.relu = nn.ReLU()\n",
    "\n",
    "    def forward(self, x):\n",
    "        # Hidden layer\n",
    "        hidden = self.layer1(x)\n",
    "        print(\"Hidden layer (before ReLU):\\n\", hidden)\n",
    "\n",
    "        hidden = self.relu(hidden)\n",
    "        print(\"Hidden layer (after ReLU):\\n\", hidden)\n",
    "\n",
    "        # Output layer\n",
    "        output = self.layer2(hidden)\n",
    "        print(\"Output layer (before softmax):\\n\", output)\n",
    "\n",
    "        return output\n",
    "\n",
    "# Initialize the model\n",
    "model = SimpleModel()\n",
    "\n",
    "# Manually set weights and biases\n",
    "#model.layer1.weight.data = torch.tensor([[0.8, 0.4],\n",
    "#                                         [-1.0, -0.6]])\n",
    "#model.layer1.bias.data = torch.tensor([0.0, 0.0])\n",
    "model.layer2.weight.data = torch.tensor([[0.3, -0.4],\n",
    "                                         [0.2, -1.0],\n",
    "                                         [0.1,  0.2]])\n",
    "model.layer2.bias.data = torch.tensor([0.0, 0.0, 0.0])\n",
    "\n",
    "# Loss function\n",
    "loss_fn = nn.CrossEntropyLoss()\n",
    "\n",
    "# Perform forward pass and compute loss\n",
    "output = model(x)\n",
    "l_value = loss_fn(output, y)\n",
    "print(\"Loss:\", l_value)"
   ]
  },
  {
   "cell_type": "code",
   "execution_count": null,
   "metadata": {},
   "outputs": [],
   "source": []
  },
  {
   "cell_type": "code",
   "execution_count": 10,
   "metadata": {},
   "outputs": [
    {
     "name": "stdout",
     "output_type": "stream",
     "text": [
      "Parameter containing:\n",
      "tensor([[ 0.8000,  0.4000],\n",
      "        [-1.0000, -0.6000]], requires_grad=True)\n",
      "Parameter containing:\n",
      "tensor([0., 0.], requires_grad=True)\n"
     ]
    }
   ],
   "source": [
    "print(model.layer1.weight)\n",
    "print(model.layer1.bias)"
   ]
  },
  {
   "cell_type": "code",
   "execution_count": 11,
   "metadata": {},
   "outputs": [
    {
     "name": "stdout",
     "output_type": "stream",
     "text": [
      "tensor([[3., 2.]])\n",
      "tensor([[ 3.2000, -4.2000]], grad_fn=<AddmmBackward0>)\n"
     ]
    }
   ],
   "source": [
    "hidden = model.layer1(x)\n",
    "print(x)\n",
    "print(hidden)"
   ]
  },
  {
   "cell_type": "code",
   "execution_count": null,
   "metadata": {},
   "outputs": [],
   "source": []
  }
 ],
 "metadata": {
  "kernelspec": {
   "display_name": "Python 3 (ipykernel)",
   "language": "python",
   "name": "python3"
  },
  "language_info": {
   "codemirror_mode": {
    "name": "ipython",
    "version": 3
   },
   "file_extension": ".py",
   "mimetype": "text/x-python",
   "name": "python",
   "nbconvert_exporter": "python",
   "pygments_lexer": "ipython3",
   "version": "3.12.4"
  }
 },
 "nbformat": 4,
 "nbformat_minor": 4
}
